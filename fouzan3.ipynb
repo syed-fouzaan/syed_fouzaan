{
  "nbformat": 4,
  "nbformat_minor": 0,
  "metadata": {
    "colab": {
      "provenance": [],
      "authorship_tag": "ABX9TyPGeR22Mqh3ecT0c/G5RKCZ",
      "include_colab_link": true
    },
    "kernelspec": {
      "name": "python3",
      "display_name": "Python 3"
    },
    "language_info": {
      "name": "python"
    }
  },
  "cells": [
    {
      "cell_type": "markdown",
      "metadata": {
        "id": "view-in-github",
        "colab_type": "text"
      },
      "source": [
        "<a href=\"https://colab.research.google.com/github/syed-fouzaan/syed_fouzaan/blob/main/fouzan3.ipynb\" target=\"_parent\"><img src=\"https://colab.research.google.com/assets/colab-badge.svg\" alt=\"Open In Colab\"/></a>"
      ]
    },
    {
      "cell_type": "code",
      "execution_count": 5,
      "metadata": {
        "id": "PZ5BKH45ak4Q"
      },
      "outputs": [],
      "source": [
        "import pandas as pd"
      ]
    },
    {
      "cell_type": "code",
      "source": [
        "import numpy as np"
      ],
      "metadata": {
        "id": "rLAE5kw7apQI"
      },
      "execution_count": 6,
      "outputs": []
    },
    {
      "cell_type": "code",
      "source": [
        "df= pd.read_csv(r'https://raw.githubusercontent.com/YBI-Foundation/Dataset/main/Movies%20Recommendation.csv')"
      ],
      "metadata": {
        "id": "_BAxyPKLawoN"
      },
      "execution_count": 7,
      "outputs": []
    },
    {
      "cell_type": "code",
      "source": [
        "df.head()"
      ],
      "metadata": {
        "colab": {
          "base_uri": "https://localhost:8080/",
          "height": 654
        },
        "id": "ohGEECkLazpT",
        "outputId": "0ab2acee-f2f3-4067-c1da-1d2267fbb8fe"
      },
      "execution_count": 8,
      "outputs": [
        {
          "output_type": "execute_result",
          "data": {
            "text/plain": [
              "   Movie_ID      Movie_Title                       Movie_Genre Movie_Language  \\\n",
              "0         1       Four Rooms                      Crime Comedy             en   \n",
              "1         2        Star Wars  Adventure Action Science Fiction             en   \n",
              "2         3     Finding Nemo                  Animation Family             en   \n",
              "3         4     Forrest Gump              Comedy Drama Romance             en   \n",
              "4         5  American Beauty                             Drama             en   \n",
              "\n",
              "   Movie_Budget  Movie_Popularity Movie_Release_Date  Movie_Revenue  \\\n",
              "0       4000000         22.876230         09-12-1995        4300000   \n",
              "1      11000000        126.393695         25-05-1977      775398007   \n",
              "2      94000000         85.688789         30-05-2003      940335536   \n",
              "3      55000000        138.133331         06-07-1994      677945399   \n",
              "4      15000000         80.878605         15-09-1999      356296601   \n",
              "\n",
              "   Movie_Runtime  Movie_Vote  ...  \\\n",
              "0           98.0         6.5  ...   \n",
              "1          121.0         8.1  ...   \n",
              "2          100.0         7.6  ...   \n",
              "3          142.0         8.2  ...   \n",
              "4          122.0         7.9  ...   \n",
              "\n",
              "                                      Movie_Homepage  \\\n",
              "0                                                NaN   \n",
              "1  http://www.starwars.com/films/star-wars-episod...   \n",
              "2              http://movies.disney.com/finding-nemo   \n",
              "3                                                NaN   \n",
              "4                      http://www.dreamworks.com/ab/   \n",
              "\n",
              "                                      Movie_Keywords  \\\n",
              "0          hotel new year's eve witch bet hotel room   \n",
              "1        android galaxy hermit death star lightsaber   \n",
              "2  father son relationship harbor underwater fish...   \n",
              "3  vietnam veteran hippie mentally disabled runni...   \n",
              "4  male nudity female nudity adultery midlife cri...   \n",
              "\n",
              "                                      Movie_Overview  \\\n",
              "0  It's Ted the Bellhop's first night on the job....   \n",
              "1  Princess Leia is captured and held hostage by ...   \n",
              "2  Nemo, an adventurous young clownfish, is unexp...   \n",
              "3  A man with a low IQ has accomplished great thi...   \n",
              "4  Lester Burnham, a depressed suburban father in...   \n",
              "\n",
              "                              Movie_Production_House  \\\n",
              "0  [{\"name\": \"Miramax Films\", \"id\": 14}, {\"name\":...   \n",
              "1  [{\"name\": \"Lucasfilm\", \"id\": 1}, {\"name\": \"Twe...   \n",
              "2     [{\"name\": \"Pixar Animation Studios\", \"id\": 3}]   \n",
              "3          [{\"name\": \"Paramount Pictures\", \"id\": 4}]   \n",
              "4  [{\"name\": \"DreamWorks SKG\", \"id\": 27}, {\"name\"...   \n",
              "\n",
              "                            Movie_Production_Country  \\\n",
              "0  [{\"iso_3166_1\": \"US\", \"name\": \"United States o...   \n",
              "1  [{\"iso_3166_1\": \"US\", \"name\": \"United States o...   \n",
              "2  [{\"iso_3166_1\": \"US\", \"name\": \"United States o...   \n",
              "3  [{\"iso_3166_1\": \"US\", \"name\": \"United States o...   \n",
              "4  [{\"iso_3166_1\": \"US\", \"name\": \"United States o...   \n",
              "\n",
              "                      Movie_Spoken_Language  \\\n",
              "0  [{\"iso_639_1\": \"en\", \"name\": \"English\"}]   \n",
              "1  [{\"iso_639_1\": \"en\", \"name\": \"English\"}]   \n",
              "2  [{\"iso_639_1\": \"en\", \"name\": \"English\"}]   \n",
              "3  [{\"iso_639_1\": \"en\", \"name\": \"English\"}]   \n",
              "4  [{\"iso_639_1\": \"en\", \"name\": \"English\"}]   \n",
              "\n",
              "                                       Movie_Tagline  \\\n",
              "0  Twelve outrageous guests. Four scandalous requ...   \n",
              "1       A long time ago in a galaxy far, far away...   \n",
              "2  There are 3.7 trillion fish in the ocean, they...   \n",
              "3  The world will never be the same, once you've ...   \n",
              "4                                       Look closer.   \n",
              "\n",
              "                                          Movie_Cast  \\\n",
              "0  Tim Roth Antonio Banderas Jennifer Beals Madon...   \n",
              "1  Mark Hamill Harrison Ford Carrie Fisher Peter ...   \n",
              "2  Albert Brooks Ellen DeGeneres Alexander Gould ...   \n",
              "3  Tom Hanks Robin Wright Gary Sinise Mykelti Wil...   \n",
              "4  Kevin Spacey Annette Bening Thora Birch Wes Be...   \n",
              "\n",
              "                                          Movie_Crew   Movie_Director  \n",
              "0  [{'name': 'Allison Anders', 'gender': 1, 'depa...   Allison Anders  \n",
              "1  [{'name': 'George Lucas', 'gender': 2, 'depart...     George Lucas  \n",
              "2  [{'name': 'Andrew Stanton', 'gender': 2, 'depa...   Andrew Stanton  \n",
              "3  [{'name': 'Alan Silvestri', 'gender': 2, 'depa...  Robert Zemeckis  \n",
              "4  [{'name': 'Thomas Newman', 'gender': 2, 'depar...       Sam Mendes  \n",
              "\n",
              "[5 rows x 21 columns]"
            ],
            "text/html": [
              "\n",
              "  <div id=\"df-8fc154d9-3cf5-4d44-ad39-4f918406b1db\" class=\"colab-df-container\">\n",
              "    <div>\n",
              "<style scoped>\n",
              "    .dataframe tbody tr th:only-of-type {\n",
              "        vertical-align: middle;\n",
              "    }\n",
              "\n",
              "    .dataframe tbody tr th {\n",
              "        vertical-align: top;\n",
              "    }\n",
              "\n",
              "    .dataframe thead th {\n",
              "        text-align: right;\n",
              "    }\n",
              "</style>\n",
              "<table border=\"1\" class=\"dataframe\">\n",
              "  <thead>\n",
              "    <tr style=\"text-align: right;\">\n",
              "      <th></th>\n",
              "      <th>Movie_ID</th>\n",
              "      <th>Movie_Title</th>\n",
              "      <th>Movie_Genre</th>\n",
              "      <th>Movie_Language</th>\n",
              "      <th>Movie_Budget</th>\n",
              "      <th>Movie_Popularity</th>\n",
              "      <th>Movie_Release_Date</th>\n",
              "      <th>Movie_Revenue</th>\n",
              "      <th>Movie_Runtime</th>\n",
              "      <th>Movie_Vote</th>\n",
              "      <th>...</th>\n",
              "      <th>Movie_Homepage</th>\n",
              "      <th>Movie_Keywords</th>\n",
              "      <th>Movie_Overview</th>\n",
              "      <th>Movie_Production_House</th>\n",
              "      <th>Movie_Production_Country</th>\n",
              "      <th>Movie_Spoken_Language</th>\n",
              "      <th>Movie_Tagline</th>\n",
              "      <th>Movie_Cast</th>\n",
              "      <th>Movie_Crew</th>\n",
              "      <th>Movie_Director</th>\n",
              "    </tr>\n",
              "  </thead>\n",
              "  <tbody>\n",
              "    <tr>\n",
              "      <th>0</th>\n",
              "      <td>1</td>\n",
              "      <td>Four Rooms</td>\n",
              "      <td>Crime Comedy</td>\n",
              "      <td>en</td>\n",
              "      <td>4000000</td>\n",
              "      <td>22.876230</td>\n",
              "      <td>09-12-1995</td>\n",
              "      <td>4300000</td>\n",
              "      <td>98.0</td>\n",
              "      <td>6.5</td>\n",
              "      <td>...</td>\n",
              "      <td>NaN</td>\n",
              "      <td>hotel new year's eve witch bet hotel room</td>\n",
              "      <td>It's Ted the Bellhop's first night on the job....</td>\n",
              "      <td>[{\"name\": \"Miramax Films\", \"id\": 14}, {\"name\":...</td>\n",
              "      <td>[{\"iso_3166_1\": \"US\", \"name\": \"United States o...</td>\n",
              "      <td>[{\"iso_639_1\": \"en\", \"name\": \"English\"}]</td>\n",
              "      <td>Twelve outrageous guests. Four scandalous requ...</td>\n",
              "      <td>Tim Roth Antonio Banderas Jennifer Beals Madon...</td>\n",
              "      <td>[{'name': 'Allison Anders', 'gender': 1, 'depa...</td>\n",
              "      <td>Allison Anders</td>\n",
              "    </tr>\n",
              "    <tr>\n",
              "      <th>1</th>\n",
              "      <td>2</td>\n",
              "      <td>Star Wars</td>\n",
              "      <td>Adventure Action Science Fiction</td>\n",
              "      <td>en</td>\n",
              "      <td>11000000</td>\n",
              "      <td>126.393695</td>\n",
              "      <td>25-05-1977</td>\n",
              "      <td>775398007</td>\n",
              "      <td>121.0</td>\n",
              "      <td>8.1</td>\n",
              "      <td>...</td>\n",
              "      <td>http://www.starwars.com/films/star-wars-episod...</td>\n",
              "      <td>android galaxy hermit death star lightsaber</td>\n",
              "      <td>Princess Leia is captured and held hostage by ...</td>\n",
              "      <td>[{\"name\": \"Lucasfilm\", \"id\": 1}, {\"name\": \"Twe...</td>\n",
              "      <td>[{\"iso_3166_1\": \"US\", \"name\": \"United States o...</td>\n",
              "      <td>[{\"iso_639_1\": \"en\", \"name\": \"English\"}]</td>\n",
              "      <td>A long time ago in a galaxy far, far away...</td>\n",
              "      <td>Mark Hamill Harrison Ford Carrie Fisher Peter ...</td>\n",
              "      <td>[{'name': 'George Lucas', 'gender': 2, 'depart...</td>\n",
              "      <td>George Lucas</td>\n",
              "    </tr>\n",
              "    <tr>\n",
              "      <th>2</th>\n",
              "      <td>3</td>\n",
              "      <td>Finding Nemo</td>\n",
              "      <td>Animation Family</td>\n",
              "      <td>en</td>\n",
              "      <td>94000000</td>\n",
              "      <td>85.688789</td>\n",
              "      <td>30-05-2003</td>\n",
              "      <td>940335536</td>\n",
              "      <td>100.0</td>\n",
              "      <td>7.6</td>\n",
              "      <td>...</td>\n",
              "      <td>http://movies.disney.com/finding-nemo</td>\n",
              "      <td>father son relationship harbor underwater fish...</td>\n",
              "      <td>Nemo, an adventurous young clownfish, is unexp...</td>\n",
              "      <td>[{\"name\": \"Pixar Animation Studios\", \"id\": 3}]</td>\n",
              "      <td>[{\"iso_3166_1\": \"US\", \"name\": \"United States o...</td>\n",
              "      <td>[{\"iso_639_1\": \"en\", \"name\": \"English\"}]</td>\n",
              "      <td>There are 3.7 trillion fish in the ocean, they...</td>\n",
              "      <td>Albert Brooks Ellen DeGeneres Alexander Gould ...</td>\n",
              "      <td>[{'name': 'Andrew Stanton', 'gender': 2, 'depa...</td>\n",
              "      <td>Andrew Stanton</td>\n",
              "    </tr>\n",
              "    <tr>\n",
              "      <th>3</th>\n",
              "      <td>4</td>\n",
              "      <td>Forrest Gump</td>\n",
              "      <td>Comedy Drama Romance</td>\n",
              "      <td>en</td>\n",
              "      <td>55000000</td>\n",
              "      <td>138.133331</td>\n",
              "      <td>06-07-1994</td>\n",
              "      <td>677945399</td>\n",
              "      <td>142.0</td>\n",
              "      <td>8.2</td>\n",
              "      <td>...</td>\n",
              "      <td>NaN</td>\n",
              "      <td>vietnam veteran hippie mentally disabled runni...</td>\n",
              "      <td>A man with a low IQ has accomplished great thi...</td>\n",
              "      <td>[{\"name\": \"Paramount Pictures\", \"id\": 4}]</td>\n",
              "      <td>[{\"iso_3166_1\": \"US\", \"name\": \"United States o...</td>\n",
              "      <td>[{\"iso_639_1\": \"en\", \"name\": \"English\"}]</td>\n",
              "      <td>The world will never be the same, once you've ...</td>\n",
              "      <td>Tom Hanks Robin Wright Gary Sinise Mykelti Wil...</td>\n",
              "      <td>[{'name': 'Alan Silvestri', 'gender': 2, 'depa...</td>\n",
              "      <td>Robert Zemeckis</td>\n",
              "    </tr>\n",
              "    <tr>\n",
              "      <th>4</th>\n",
              "      <td>5</td>\n",
              "      <td>American Beauty</td>\n",
              "      <td>Drama</td>\n",
              "      <td>en</td>\n",
              "      <td>15000000</td>\n",
              "      <td>80.878605</td>\n",
              "      <td>15-09-1999</td>\n",
              "      <td>356296601</td>\n",
              "      <td>122.0</td>\n",
              "      <td>7.9</td>\n",
              "      <td>...</td>\n",
              "      <td>http://www.dreamworks.com/ab/</td>\n",
              "      <td>male nudity female nudity adultery midlife cri...</td>\n",
              "      <td>Lester Burnham, a depressed suburban father in...</td>\n",
              "      <td>[{\"name\": \"DreamWorks SKG\", \"id\": 27}, {\"name\"...</td>\n",
              "      <td>[{\"iso_3166_1\": \"US\", \"name\": \"United States o...</td>\n",
              "      <td>[{\"iso_639_1\": \"en\", \"name\": \"English\"}]</td>\n",
              "      <td>Look closer.</td>\n",
              "      <td>Kevin Spacey Annette Bening Thora Birch Wes Be...</td>\n",
              "      <td>[{'name': 'Thomas Newman', 'gender': 2, 'depar...</td>\n",
              "      <td>Sam Mendes</td>\n",
              "    </tr>\n",
              "  </tbody>\n",
              "</table>\n",
              "<p>5 rows × 21 columns</p>\n",
              "</div>\n",
              "    <div class=\"colab-df-buttons\">\n",
              "\n",
              "  <div class=\"colab-df-container\">\n",
              "    <button class=\"colab-df-convert\" onclick=\"convertToInteractive('df-8fc154d9-3cf5-4d44-ad39-4f918406b1db')\"\n",
              "            title=\"Convert this dataframe to an interactive table.\"\n",
              "            style=\"display:none;\">\n",
              "\n",
              "  <svg xmlns=\"http://www.w3.org/2000/svg\" height=\"24px\" viewBox=\"0 -960 960 960\">\n",
              "    <path d=\"M120-120v-720h720v720H120Zm60-500h600v-160H180v160Zm220 220h160v-160H400v160Zm0 220h160v-160H400v160ZM180-400h160v-160H180v160Zm440 0h160v-160H620v160ZM180-180h160v-160H180v160Zm440 0h160v-160H620v160Z\"/>\n",
              "  </svg>\n",
              "    </button>\n",
              "\n",
              "  <style>\n",
              "    .colab-df-container {\n",
              "      display:flex;\n",
              "      gap: 12px;\n",
              "    }\n",
              "\n",
              "    .colab-df-convert {\n",
              "      background-color: #E8F0FE;\n",
              "      border: none;\n",
              "      border-radius: 50%;\n",
              "      cursor: pointer;\n",
              "      display: none;\n",
              "      fill: #1967D2;\n",
              "      height: 32px;\n",
              "      padding: 0 0 0 0;\n",
              "      width: 32px;\n",
              "    }\n",
              "\n",
              "    .colab-df-convert:hover {\n",
              "      background-color: #E2EBFA;\n",
              "      box-shadow: 0px 1px 2px rgba(60, 64, 67, 0.3), 0px 1px 3px 1px rgba(60, 64, 67, 0.15);\n",
              "      fill: #174EA6;\n",
              "    }\n",
              "\n",
              "    .colab-df-buttons div {\n",
              "      margin-bottom: 4px;\n",
              "    }\n",
              "\n",
              "    [theme=dark] .colab-df-convert {\n",
              "      background-color: #3B4455;\n",
              "      fill: #D2E3FC;\n",
              "    }\n",
              "\n",
              "    [theme=dark] .colab-df-convert:hover {\n",
              "      background-color: #434B5C;\n",
              "      box-shadow: 0px 1px 3px 1px rgba(0, 0, 0, 0.15);\n",
              "      filter: drop-shadow(0px 1px 2px rgba(0, 0, 0, 0.3));\n",
              "      fill: #FFFFFF;\n",
              "    }\n",
              "  </style>\n",
              "\n",
              "    <script>\n",
              "      const buttonEl =\n",
              "        document.querySelector('#df-8fc154d9-3cf5-4d44-ad39-4f918406b1db button.colab-df-convert');\n",
              "      buttonEl.style.display =\n",
              "        google.colab.kernel.accessAllowed ? 'block' : 'none';\n",
              "\n",
              "      async function convertToInteractive(key) {\n",
              "        const element = document.querySelector('#df-8fc154d9-3cf5-4d44-ad39-4f918406b1db');\n",
              "        const dataTable =\n",
              "          await google.colab.kernel.invokeFunction('convertToInteractive',\n",
              "                                                    [key], {});\n",
              "        if (!dataTable) return;\n",
              "\n",
              "        const docLinkHtml = 'Like what you see? Visit the ' +\n",
              "          '<a target=\"_blank\" href=https://colab.research.google.com/notebooks/data_table.ipynb>data table notebook</a>'\n",
              "          + ' to learn more about interactive tables.';\n",
              "        element.innerHTML = '';\n",
              "        dataTable['output_type'] = 'display_data';\n",
              "        await google.colab.output.renderOutput(dataTable, element);\n",
              "        const docLink = document.createElement('div');\n",
              "        docLink.innerHTML = docLinkHtml;\n",
              "        element.appendChild(docLink);\n",
              "      }\n",
              "    </script>\n",
              "  </div>\n",
              "\n",
              "\n",
              "<div id=\"df-6b131f3a-60f8-4e84-b347-23da5ec1f895\">\n",
              "  <button class=\"colab-df-quickchart\" onclick=\"quickchart('df-6b131f3a-60f8-4e84-b347-23da5ec1f895')\"\n",
              "            title=\"Suggest charts\"\n",
              "            style=\"display:none;\">\n",
              "\n",
              "<svg xmlns=\"http://www.w3.org/2000/svg\" height=\"24px\"viewBox=\"0 0 24 24\"\n",
              "     width=\"24px\">\n",
              "    <g>\n",
              "        <path d=\"M19 3H5c-1.1 0-2 .9-2 2v14c0 1.1.9 2 2 2h14c1.1 0 2-.9 2-2V5c0-1.1-.9-2-2-2zM9 17H7v-7h2v7zm4 0h-2V7h2v10zm4 0h-2v-4h2v4z\"/>\n",
              "    </g>\n",
              "</svg>\n",
              "  </button>\n",
              "\n",
              "<style>\n",
              "  .colab-df-quickchart {\n",
              "      --bg-color: #E8F0FE;\n",
              "      --fill-color: #1967D2;\n",
              "      --hover-bg-color: #E2EBFA;\n",
              "      --hover-fill-color: #174EA6;\n",
              "      --disabled-fill-color: #AAA;\n",
              "      --disabled-bg-color: #DDD;\n",
              "  }\n",
              "\n",
              "  [theme=dark] .colab-df-quickchart {\n",
              "      --bg-color: #3B4455;\n",
              "      --fill-color: #D2E3FC;\n",
              "      --hover-bg-color: #434B5C;\n",
              "      --hover-fill-color: #FFFFFF;\n",
              "      --disabled-bg-color: #3B4455;\n",
              "      --disabled-fill-color: #666;\n",
              "  }\n",
              "\n",
              "  .colab-df-quickchart {\n",
              "    background-color: var(--bg-color);\n",
              "    border: none;\n",
              "    border-radius: 50%;\n",
              "    cursor: pointer;\n",
              "    display: none;\n",
              "    fill: var(--fill-color);\n",
              "    height: 32px;\n",
              "    padding: 0;\n",
              "    width: 32px;\n",
              "  }\n",
              "\n",
              "  .colab-df-quickchart:hover {\n",
              "    background-color: var(--hover-bg-color);\n",
              "    box-shadow: 0 1px 2px rgba(60, 64, 67, 0.3), 0 1px 3px 1px rgba(60, 64, 67, 0.15);\n",
              "    fill: var(--button-hover-fill-color);\n",
              "  }\n",
              "\n",
              "  .colab-df-quickchart-complete:disabled,\n",
              "  .colab-df-quickchart-complete:disabled:hover {\n",
              "    background-color: var(--disabled-bg-color);\n",
              "    fill: var(--disabled-fill-color);\n",
              "    box-shadow: none;\n",
              "  }\n",
              "\n",
              "  .colab-df-spinner {\n",
              "    border: 2px solid var(--fill-color);\n",
              "    border-color: transparent;\n",
              "    border-bottom-color: var(--fill-color);\n",
              "    animation:\n",
              "      spin 1s steps(1) infinite;\n",
              "  }\n",
              "\n",
              "  @keyframes spin {\n",
              "    0% {\n",
              "      border-color: transparent;\n",
              "      border-bottom-color: var(--fill-color);\n",
              "      border-left-color: var(--fill-color);\n",
              "    }\n",
              "    20% {\n",
              "      border-color: transparent;\n",
              "      border-left-color: var(--fill-color);\n",
              "      border-top-color: var(--fill-color);\n",
              "    }\n",
              "    30% {\n",
              "      border-color: transparent;\n",
              "      border-left-color: var(--fill-color);\n",
              "      border-top-color: var(--fill-color);\n",
              "      border-right-color: var(--fill-color);\n",
              "    }\n",
              "    40% {\n",
              "      border-color: transparent;\n",
              "      border-right-color: var(--fill-color);\n",
              "      border-top-color: var(--fill-color);\n",
              "    }\n",
              "    60% {\n",
              "      border-color: transparent;\n",
              "      border-right-color: var(--fill-color);\n",
              "    }\n",
              "    80% {\n",
              "      border-color: transparent;\n",
              "      border-right-color: var(--fill-color);\n",
              "      border-bottom-color: var(--fill-color);\n",
              "    }\n",
              "    90% {\n",
              "      border-color: transparent;\n",
              "      border-bottom-color: var(--fill-color);\n",
              "    }\n",
              "  }\n",
              "</style>\n",
              "\n",
              "  <script>\n",
              "    async function quickchart(key) {\n",
              "      const quickchartButtonEl =\n",
              "        document.querySelector('#' + key + ' button');\n",
              "      quickchartButtonEl.disabled = true;  // To prevent multiple clicks.\n",
              "      quickchartButtonEl.classList.add('colab-df-spinner');\n",
              "      try {\n",
              "        const charts = await google.colab.kernel.invokeFunction(\n",
              "            'suggestCharts', [key], {});\n",
              "      } catch (error) {\n",
              "        console.error('Error during call to suggestCharts:', error);\n",
              "      }\n",
              "      quickchartButtonEl.classList.remove('colab-df-spinner');\n",
              "      quickchartButtonEl.classList.add('colab-df-quickchart-complete');\n",
              "    }\n",
              "    (() => {\n",
              "      let quickchartButtonEl =\n",
              "        document.querySelector('#df-6b131f3a-60f8-4e84-b347-23da5ec1f895 button');\n",
              "      quickchartButtonEl.style.display =\n",
              "        google.colab.kernel.accessAllowed ? 'block' : 'none';\n",
              "    })();\n",
              "  </script>\n",
              "</div>\n",
              "\n",
              "    </div>\n",
              "  </div>\n"
            ],
            "application/vnd.google.colaboratory.intrinsic+json": {
              "type": "dataframe",
              "variable_name": "df"
            }
          },
          "metadata": {},
          "execution_count": 8
        }
      ]
    },
    {
      "cell_type": "code",
      "source": [
        "df.info()"
      ],
      "metadata": {
        "colab": {
          "base_uri": "https://localhost:8080/"
        },
        "id": "D1SGNvz8a_es",
        "outputId": "34326da7-cb9e-4931-a38b-3c0c867e05de"
      },
      "execution_count": 9,
      "outputs": [
        {
          "output_type": "stream",
          "name": "stdout",
          "text": [
            "<class 'pandas.core.frame.DataFrame'>\n",
            "RangeIndex: 4760 entries, 0 to 4759\n",
            "Data columns (total 21 columns):\n",
            " #   Column                    Non-Null Count  Dtype  \n",
            "---  ------                    --------------  -----  \n",
            " 0   Movie_ID                  4760 non-null   int64  \n",
            " 1   Movie_Title               4760 non-null   object \n",
            " 2   Movie_Genre               4760 non-null   object \n",
            " 3   Movie_Language            4760 non-null   object \n",
            " 4   Movie_Budget              4760 non-null   int64  \n",
            " 5   Movie_Popularity          4760 non-null   float64\n",
            " 6   Movie_Release_Date        4760 non-null   object \n",
            " 7   Movie_Revenue             4760 non-null   int64  \n",
            " 8   Movie_Runtime             4758 non-null   float64\n",
            " 9   Movie_Vote                4760 non-null   float64\n",
            " 10  Movie_Vote_Count          4760 non-null   int64  \n",
            " 11  Movie_Homepage            1699 non-null   object \n",
            " 12  Movie_Keywords            4373 non-null   object \n",
            " 13  Movie_Overview            4757 non-null   object \n",
            " 14  Movie_Production_House    4760 non-null   object \n",
            " 15  Movie_Production_Country  4760 non-null   object \n",
            " 16  Movie_Spoken_Language     4760 non-null   object \n",
            " 17  Movie_Tagline             3942 non-null   object \n",
            " 18  Movie_Cast                4733 non-null   object \n",
            " 19  Movie_Crew                4760 non-null   object \n",
            " 20  Movie_Director            4738 non-null   object \n",
            "dtypes: float64(3), int64(4), object(14)\n",
            "memory usage: 781.1+ KB\n"
          ]
        }
      ]
    },
    {
      "cell_type": "code",
      "source": [
        "df.shape"
      ],
      "metadata": {
        "colab": {
          "base_uri": "https://localhost:8080/"
        },
        "id": "clgi8UD5bCT7",
        "outputId": "73127983-1eec-4484-c602-7f18f0cd8504"
      },
      "execution_count": 10,
      "outputs": [
        {
          "output_type": "execute_result",
          "data": {
            "text/plain": [
              "(4760, 21)"
            ]
          },
          "metadata": {},
          "execution_count": 10
        }
      ]
    },
    {
      "cell_type": "code",
      "source": [
        "df.columns"
      ],
      "metadata": {
        "colab": {
          "base_uri": "https://localhost:8080/"
        },
        "id": "nSRwFLBIbEue",
        "outputId": "f44fc5e1-bec1-4fce-aa4e-701af940d59c"
      },
      "execution_count": 11,
      "outputs": [
        {
          "output_type": "execute_result",
          "data": {
            "text/plain": [
              "Index(['Movie_ID', 'Movie_Title', 'Movie_Genre', 'Movie_Language',\n",
              "       'Movie_Budget', 'Movie_Popularity', 'Movie_Release_Date',\n",
              "       'Movie_Revenue', 'Movie_Runtime', 'Movie_Vote', 'Movie_Vote_Count',\n",
              "       'Movie_Homepage', 'Movie_Keywords', 'Movie_Overview',\n",
              "       'Movie_Production_House', 'Movie_Production_Country',\n",
              "       'Movie_Spoken_Language', 'Movie_Tagline', 'Movie_Cast', 'Movie_Crew',\n",
              "       'Movie_Director'],\n",
              "      dtype='object')"
            ]
          },
          "metadata": {},
          "execution_count": 11
        }
      ]
    },
    {
      "cell_type": "code",
      "source": [
        "df_features=df[['Movie_Genre','Movie_Keywords','Movie_Tagline','Movie_Cast','Movie_Director']].fillna('')"
      ],
      "metadata": {
        "id": "Qcv49vFhbHN2"
      },
      "execution_count": 12,
      "outputs": []
    },
    {
      "cell_type": "code",
      "source": [
        "df_features.shape"
      ],
      "metadata": {
        "colab": {
          "base_uri": "https://localhost:8080/"
        },
        "id": "Ifb72XXybJ3x",
        "outputId": "26a3e4f5-46e7-4c73-a25f-9a73d8b500f1"
      },
      "execution_count": 13,
      "outputs": [
        {
          "output_type": "execute_result",
          "data": {
            "text/plain": [
              "(4760, 5)"
            ]
          },
          "metadata": {},
          "execution_count": 13
        }
      ]
    },
    {
      "cell_type": "code",
      "source": [
        "df_features"
      ],
      "metadata": {
        "colab": {
          "base_uri": "https://localhost:8080/",
          "height": 545
        },
        "id": "dFTx5Mm_bMQi",
        "outputId": "ceca8824-5a3b-4648-c948-2d394f3b6bd9"
      },
      "execution_count": 14,
      "outputs": [
        {
          "output_type": "execute_result",
          "data": {
            "text/plain": [
              "                           Movie_Genre  \\\n",
              "0                         Crime Comedy   \n",
              "1     Adventure Action Science Fiction   \n",
              "2                     Animation Family   \n",
              "3                 Comedy Drama Romance   \n",
              "4                                Drama   \n",
              "...                                ...   \n",
              "4755                            Horror   \n",
              "4756               Comedy Family Drama   \n",
              "4757                    Thriller Drama   \n",
              "4758                            Family   \n",
              "4759                       Documentary   \n",
              "\n",
              "                                         Movie_Keywords  \\\n",
              "0             hotel new year's eve witch bet hotel room   \n",
              "1           android galaxy hermit death star lightsaber   \n",
              "2     father son relationship harbor underwater fish...   \n",
              "3     vietnam veteran hippie mentally disabled runni...   \n",
              "4     male nudity female nudity adultery midlife cri...   \n",
              "...                                                 ...   \n",
              "4755                                                      \n",
              "4756                                                      \n",
              "4757                     christian film sex trafficking   \n",
              "4758                                                      \n",
              "4759  music actors legendary perfomer classic hollyw...   \n",
              "\n",
              "                                          Movie_Tagline  \\\n",
              "0     Twelve outrageous guests. Four scandalous requ...   \n",
              "1          A long time ago in a galaxy far, far away...   \n",
              "2     There are 3.7 trillion fish in the ocean, they...   \n",
              "3     The world will never be the same, once you've ...   \n",
              "4                                          Look closer.   \n",
              "...                                                 ...   \n",
              "4755                The hot spot where Satan's waitin'.   \n",
              "4756           It’s better to stand out than to fit in.   \n",
              "4757           She never knew it could happen to her...   \n",
              "4758                                                      \n",
              "4759                                                      \n",
              "\n",
              "                                             Movie_Cast     Movie_Director  \n",
              "0     Tim Roth Antonio Banderas Jennifer Beals Madon...     Allison Anders  \n",
              "1     Mark Hamill Harrison Ford Carrie Fisher Peter ...       George Lucas  \n",
              "2     Albert Brooks Ellen DeGeneres Alexander Gould ...     Andrew Stanton  \n",
              "3     Tom Hanks Robin Wright Gary Sinise Mykelti Wil...    Robert Zemeckis  \n",
              "4     Kevin Spacey Annette Bening Thora Birch Wes Be...         Sam Mendes  \n",
              "...                                                 ...                ...  \n",
              "4755  Lisa Hart Carroll Michael Des Barres Paul Drak...         Pece Dingo  \n",
              "4756  Roni Akurati Brighton Sharbino Jason Lee Anjul...       Frank Lotito  \n",
              "4757  Nicole Smolen Kim Baldwin Ariana Stephens Brys...       Jaco Booyens  \n",
              "4758                                                                        \n",
              "4759                                    Tony Oppedisano  Simon Napier-Bell  \n",
              "\n",
              "[4760 rows x 5 columns]"
            ],
            "text/html": [
              "\n",
              "  <div id=\"df-c475b384-93f2-4cc0-8b51-683607468d8e\" class=\"colab-df-container\">\n",
              "    <div>\n",
              "<style scoped>\n",
              "    .dataframe tbody tr th:only-of-type {\n",
              "        vertical-align: middle;\n",
              "    }\n",
              "\n",
              "    .dataframe tbody tr th {\n",
              "        vertical-align: top;\n",
              "    }\n",
              "\n",
              "    .dataframe thead th {\n",
              "        text-align: right;\n",
              "    }\n",
              "</style>\n",
              "<table border=\"1\" class=\"dataframe\">\n",
              "  <thead>\n",
              "    <tr style=\"text-align: right;\">\n",
              "      <th></th>\n",
              "      <th>Movie_Genre</th>\n",
              "      <th>Movie_Keywords</th>\n",
              "      <th>Movie_Tagline</th>\n",
              "      <th>Movie_Cast</th>\n",
              "      <th>Movie_Director</th>\n",
              "    </tr>\n",
              "  </thead>\n",
              "  <tbody>\n",
              "    <tr>\n",
              "      <th>0</th>\n",
              "      <td>Crime Comedy</td>\n",
              "      <td>hotel new year's eve witch bet hotel room</td>\n",
              "      <td>Twelve outrageous guests. Four scandalous requ...</td>\n",
              "      <td>Tim Roth Antonio Banderas Jennifer Beals Madon...</td>\n",
              "      <td>Allison Anders</td>\n",
              "    </tr>\n",
              "    <tr>\n",
              "      <th>1</th>\n",
              "      <td>Adventure Action Science Fiction</td>\n",
              "      <td>android galaxy hermit death star lightsaber</td>\n",
              "      <td>A long time ago in a galaxy far, far away...</td>\n",
              "      <td>Mark Hamill Harrison Ford Carrie Fisher Peter ...</td>\n",
              "      <td>George Lucas</td>\n",
              "    </tr>\n",
              "    <tr>\n",
              "      <th>2</th>\n",
              "      <td>Animation Family</td>\n",
              "      <td>father son relationship harbor underwater fish...</td>\n",
              "      <td>There are 3.7 trillion fish in the ocean, they...</td>\n",
              "      <td>Albert Brooks Ellen DeGeneres Alexander Gould ...</td>\n",
              "      <td>Andrew Stanton</td>\n",
              "    </tr>\n",
              "    <tr>\n",
              "      <th>3</th>\n",
              "      <td>Comedy Drama Romance</td>\n",
              "      <td>vietnam veteran hippie mentally disabled runni...</td>\n",
              "      <td>The world will never be the same, once you've ...</td>\n",
              "      <td>Tom Hanks Robin Wright Gary Sinise Mykelti Wil...</td>\n",
              "      <td>Robert Zemeckis</td>\n",
              "    </tr>\n",
              "    <tr>\n",
              "      <th>4</th>\n",
              "      <td>Drama</td>\n",
              "      <td>male nudity female nudity adultery midlife cri...</td>\n",
              "      <td>Look closer.</td>\n",
              "      <td>Kevin Spacey Annette Bening Thora Birch Wes Be...</td>\n",
              "      <td>Sam Mendes</td>\n",
              "    </tr>\n",
              "    <tr>\n",
              "      <th>...</th>\n",
              "      <td>...</td>\n",
              "      <td>...</td>\n",
              "      <td>...</td>\n",
              "      <td>...</td>\n",
              "      <td>...</td>\n",
              "    </tr>\n",
              "    <tr>\n",
              "      <th>4755</th>\n",
              "      <td>Horror</td>\n",
              "      <td></td>\n",
              "      <td>The hot spot where Satan's waitin'.</td>\n",
              "      <td>Lisa Hart Carroll Michael Des Barres Paul Drak...</td>\n",
              "      <td>Pece Dingo</td>\n",
              "    </tr>\n",
              "    <tr>\n",
              "      <th>4756</th>\n",
              "      <td>Comedy Family Drama</td>\n",
              "      <td></td>\n",
              "      <td>It’s better to stand out than to fit in.</td>\n",
              "      <td>Roni Akurati Brighton Sharbino Jason Lee Anjul...</td>\n",
              "      <td>Frank Lotito</td>\n",
              "    </tr>\n",
              "    <tr>\n",
              "      <th>4757</th>\n",
              "      <td>Thriller Drama</td>\n",
              "      <td>christian film sex trafficking</td>\n",
              "      <td>She never knew it could happen to her...</td>\n",
              "      <td>Nicole Smolen Kim Baldwin Ariana Stephens Brys...</td>\n",
              "      <td>Jaco Booyens</td>\n",
              "    </tr>\n",
              "    <tr>\n",
              "      <th>4758</th>\n",
              "      <td>Family</td>\n",
              "      <td></td>\n",
              "      <td></td>\n",
              "      <td></td>\n",
              "      <td></td>\n",
              "    </tr>\n",
              "    <tr>\n",
              "      <th>4759</th>\n",
              "      <td>Documentary</td>\n",
              "      <td>music actors legendary perfomer classic hollyw...</td>\n",
              "      <td></td>\n",
              "      <td>Tony Oppedisano</td>\n",
              "      <td>Simon Napier-Bell</td>\n",
              "    </tr>\n",
              "  </tbody>\n",
              "</table>\n",
              "<p>4760 rows × 5 columns</p>\n",
              "</div>\n",
              "    <div class=\"colab-df-buttons\">\n",
              "\n",
              "  <div class=\"colab-df-container\">\n",
              "    <button class=\"colab-df-convert\" onclick=\"convertToInteractive('df-c475b384-93f2-4cc0-8b51-683607468d8e')\"\n",
              "            title=\"Convert this dataframe to an interactive table.\"\n",
              "            style=\"display:none;\">\n",
              "\n",
              "  <svg xmlns=\"http://www.w3.org/2000/svg\" height=\"24px\" viewBox=\"0 -960 960 960\">\n",
              "    <path d=\"M120-120v-720h720v720H120Zm60-500h600v-160H180v160Zm220 220h160v-160H400v160Zm0 220h160v-160H400v160ZM180-400h160v-160H180v160Zm440 0h160v-160H620v160ZM180-180h160v-160H180v160Zm440 0h160v-160H620v160Z\"/>\n",
              "  </svg>\n",
              "    </button>\n",
              "\n",
              "  <style>\n",
              "    .colab-df-container {\n",
              "      display:flex;\n",
              "      gap: 12px;\n",
              "    }\n",
              "\n",
              "    .colab-df-convert {\n",
              "      background-color: #E8F0FE;\n",
              "      border: none;\n",
              "      border-radius: 50%;\n",
              "      cursor: pointer;\n",
              "      display: none;\n",
              "      fill: #1967D2;\n",
              "      height: 32px;\n",
              "      padding: 0 0 0 0;\n",
              "      width: 32px;\n",
              "    }\n",
              "\n",
              "    .colab-df-convert:hover {\n",
              "      background-color: #E2EBFA;\n",
              "      box-shadow: 0px 1px 2px rgba(60, 64, 67, 0.3), 0px 1px 3px 1px rgba(60, 64, 67, 0.15);\n",
              "      fill: #174EA6;\n",
              "    }\n",
              "\n",
              "    .colab-df-buttons div {\n",
              "      margin-bottom: 4px;\n",
              "    }\n",
              "\n",
              "    [theme=dark] .colab-df-convert {\n",
              "      background-color: #3B4455;\n",
              "      fill: #D2E3FC;\n",
              "    }\n",
              "\n",
              "    [theme=dark] .colab-df-convert:hover {\n",
              "      background-color: #434B5C;\n",
              "      box-shadow: 0px 1px 3px 1px rgba(0, 0, 0, 0.15);\n",
              "      filter: drop-shadow(0px 1px 2px rgba(0, 0, 0, 0.3));\n",
              "      fill: #FFFFFF;\n",
              "    }\n",
              "  </style>\n",
              "\n",
              "    <script>\n",
              "      const buttonEl =\n",
              "        document.querySelector('#df-c475b384-93f2-4cc0-8b51-683607468d8e button.colab-df-convert');\n",
              "      buttonEl.style.display =\n",
              "        google.colab.kernel.accessAllowed ? 'block' : 'none';\n",
              "\n",
              "      async function convertToInteractive(key) {\n",
              "        const element = document.querySelector('#df-c475b384-93f2-4cc0-8b51-683607468d8e');\n",
              "        const dataTable =\n",
              "          await google.colab.kernel.invokeFunction('convertToInteractive',\n",
              "                                                    [key], {});\n",
              "        if (!dataTable) return;\n",
              "\n",
              "        const docLinkHtml = 'Like what you see? Visit the ' +\n",
              "          '<a target=\"_blank\" href=https://colab.research.google.com/notebooks/data_table.ipynb>data table notebook</a>'\n",
              "          + ' to learn more about interactive tables.';\n",
              "        element.innerHTML = '';\n",
              "        dataTable['output_type'] = 'display_data';\n",
              "        await google.colab.output.renderOutput(dataTable, element);\n",
              "        const docLink = document.createElement('div');\n",
              "        docLink.innerHTML = docLinkHtml;\n",
              "        element.appendChild(docLink);\n",
              "      }\n",
              "    </script>\n",
              "  </div>\n",
              "\n",
              "\n",
              "<div id=\"df-083aeb7f-63b6-4316-a70e-83597c1986ae\">\n",
              "  <button class=\"colab-df-quickchart\" onclick=\"quickchart('df-083aeb7f-63b6-4316-a70e-83597c1986ae')\"\n",
              "            title=\"Suggest charts\"\n",
              "            style=\"display:none;\">\n",
              "\n",
              "<svg xmlns=\"http://www.w3.org/2000/svg\" height=\"24px\"viewBox=\"0 0 24 24\"\n",
              "     width=\"24px\">\n",
              "    <g>\n",
              "        <path d=\"M19 3H5c-1.1 0-2 .9-2 2v14c0 1.1.9 2 2 2h14c1.1 0 2-.9 2-2V5c0-1.1-.9-2-2-2zM9 17H7v-7h2v7zm4 0h-2V7h2v10zm4 0h-2v-4h2v4z\"/>\n",
              "    </g>\n",
              "</svg>\n",
              "  </button>\n",
              "\n",
              "<style>\n",
              "  .colab-df-quickchart {\n",
              "      --bg-color: #E8F0FE;\n",
              "      --fill-color: #1967D2;\n",
              "      --hover-bg-color: #E2EBFA;\n",
              "      --hover-fill-color: #174EA6;\n",
              "      --disabled-fill-color: #AAA;\n",
              "      --disabled-bg-color: #DDD;\n",
              "  }\n",
              "\n",
              "  [theme=dark] .colab-df-quickchart {\n",
              "      --bg-color: #3B4455;\n",
              "      --fill-color: #D2E3FC;\n",
              "      --hover-bg-color: #434B5C;\n",
              "      --hover-fill-color: #FFFFFF;\n",
              "      --disabled-bg-color: #3B4455;\n",
              "      --disabled-fill-color: #666;\n",
              "  }\n",
              "\n",
              "  .colab-df-quickchart {\n",
              "    background-color: var(--bg-color);\n",
              "    border: none;\n",
              "    border-radius: 50%;\n",
              "    cursor: pointer;\n",
              "    display: none;\n",
              "    fill: var(--fill-color);\n",
              "    height: 32px;\n",
              "    padding: 0;\n",
              "    width: 32px;\n",
              "  }\n",
              "\n",
              "  .colab-df-quickchart:hover {\n",
              "    background-color: var(--hover-bg-color);\n",
              "    box-shadow: 0 1px 2px rgba(60, 64, 67, 0.3), 0 1px 3px 1px rgba(60, 64, 67, 0.15);\n",
              "    fill: var(--button-hover-fill-color);\n",
              "  }\n",
              "\n",
              "  .colab-df-quickchart-complete:disabled,\n",
              "  .colab-df-quickchart-complete:disabled:hover {\n",
              "    background-color: var(--disabled-bg-color);\n",
              "    fill: var(--disabled-fill-color);\n",
              "    box-shadow: none;\n",
              "  }\n",
              "\n",
              "  .colab-df-spinner {\n",
              "    border: 2px solid var(--fill-color);\n",
              "    border-color: transparent;\n",
              "    border-bottom-color: var(--fill-color);\n",
              "    animation:\n",
              "      spin 1s steps(1) infinite;\n",
              "  }\n",
              "\n",
              "  @keyframes spin {\n",
              "    0% {\n",
              "      border-color: transparent;\n",
              "      border-bottom-color: var(--fill-color);\n",
              "      border-left-color: var(--fill-color);\n",
              "    }\n",
              "    20% {\n",
              "      border-color: transparent;\n",
              "      border-left-color: var(--fill-color);\n",
              "      border-top-color: var(--fill-color);\n",
              "    }\n",
              "    30% {\n",
              "      border-color: transparent;\n",
              "      border-left-color: var(--fill-color);\n",
              "      border-top-color: var(--fill-color);\n",
              "      border-right-color: var(--fill-color);\n",
              "    }\n",
              "    40% {\n",
              "      border-color: transparent;\n",
              "      border-right-color: var(--fill-color);\n",
              "      border-top-color: var(--fill-color);\n",
              "    }\n",
              "    60% {\n",
              "      border-color: transparent;\n",
              "      border-right-color: var(--fill-color);\n",
              "    }\n",
              "    80% {\n",
              "      border-color: transparent;\n",
              "      border-right-color: var(--fill-color);\n",
              "      border-bottom-color: var(--fill-color);\n",
              "    }\n",
              "    90% {\n",
              "      border-color: transparent;\n",
              "      border-bottom-color: var(--fill-color);\n",
              "    }\n",
              "  }\n",
              "</style>\n",
              "\n",
              "  <script>\n",
              "    async function quickchart(key) {\n",
              "      const quickchartButtonEl =\n",
              "        document.querySelector('#' + key + ' button');\n",
              "      quickchartButtonEl.disabled = true;  // To prevent multiple clicks.\n",
              "      quickchartButtonEl.classList.add('colab-df-spinner');\n",
              "      try {\n",
              "        const charts = await google.colab.kernel.invokeFunction(\n",
              "            'suggestCharts', [key], {});\n",
              "      } catch (error) {\n",
              "        console.error('Error during call to suggestCharts:', error);\n",
              "      }\n",
              "      quickchartButtonEl.classList.remove('colab-df-spinner');\n",
              "      quickchartButtonEl.classList.add('colab-df-quickchart-complete');\n",
              "    }\n",
              "    (() => {\n",
              "      let quickchartButtonEl =\n",
              "        document.querySelector('#df-083aeb7f-63b6-4316-a70e-83597c1986ae button');\n",
              "      quickchartButtonEl.style.display =\n",
              "        google.colab.kernel.accessAllowed ? 'block' : 'none';\n",
              "    })();\n",
              "  </script>\n",
              "</div>\n",
              "\n",
              "  <div id=\"id_bfa100d3-1de1-4869-92ff-6f0733508fff\">\n",
              "    <style>\n",
              "      .colab-df-generate {\n",
              "        background-color: #E8F0FE;\n",
              "        border: none;\n",
              "        border-radius: 50%;\n",
              "        cursor: pointer;\n",
              "        display: none;\n",
              "        fill: #1967D2;\n",
              "        height: 32px;\n",
              "        padding: 0 0 0 0;\n",
              "        width: 32px;\n",
              "      }\n",
              "\n",
              "      .colab-df-generate:hover {\n",
              "        background-color: #E2EBFA;\n",
              "        box-shadow: 0px 1px 2px rgba(60, 64, 67, 0.3), 0px 1px 3px 1px rgba(60, 64, 67, 0.15);\n",
              "        fill: #174EA6;\n",
              "      }\n",
              "\n",
              "      [theme=dark] .colab-df-generate {\n",
              "        background-color: #3B4455;\n",
              "        fill: #D2E3FC;\n",
              "      }\n",
              "\n",
              "      [theme=dark] .colab-df-generate:hover {\n",
              "        background-color: #434B5C;\n",
              "        box-shadow: 0px 1px 3px 1px rgba(0, 0, 0, 0.15);\n",
              "        filter: drop-shadow(0px 1px 2px rgba(0, 0, 0, 0.3));\n",
              "        fill: #FFFFFF;\n",
              "      }\n",
              "    </style>\n",
              "    <button class=\"colab-df-generate\" onclick=\"generateWithVariable('df_features')\"\n",
              "            title=\"Generate code using this dataframe.\"\n",
              "            style=\"display:none;\">\n",
              "\n",
              "  <svg xmlns=\"http://www.w3.org/2000/svg\" height=\"24px\"viewBox=\"0 0 24 24\"\n",
              "       width=\"24px\">\n",
              "    <path d=\"M7,19H8.4L18.45,9,17,7.55,7,17.6ZM5,21V16.75L18.45,3.32a2,2,0,0,1,2.83,0l1.4,1.43a1.91,1.91,0,0,1,.58,1.4,1.91,1.91,0,0,1-.58,1.4L9.25,21ZM18.45,9,17,7.55Zm-12,3A5.31,5.31,0,0,0,4.9,8.1,5.31,5.31,0,0,0,1,6.5,5.31,5.31,0,0,0,4.9,4.9,5.31,5.31,0,0,0,6.5,1,5.31,5.31,0,0,0,8.1,4.9,5.31,5.31,0,0,0,12,6.5,5.46,5.46,0,0,0,6.5,12Z\"/>\n",
              "  </svg>\n",
              "    </button>\n",
              "    <script>\n",
              "      (() => {\n",
              "      const buttonEl =\n",
              "        document.querySelector('#id_bfa100d3-1de1-4869-92ff-6f0733508fff button.colab-df-generate');\n",
              "      buttonEl.style.display =\n",
              "        google.colab.kernel.accessAllowed ? 'block' : 'none';\n",
              "\n",
              "      buttonEl.onclick = () => {\n",
              "        google.colab.notebook.generateWithVariable('df_features');\n",
              "      }\n",
              "      })();\n",
              "    </script>\n",
              "  </div>\n",
              "\n",
              "    </div>\n",
              "  </div>\n"
            ],
            "application/vnd.google.colaboratory.intrinsic+json": {
              "type": "dataframe",
              "variable_name": "df_features",
              "summary": "{\n  \"name\": \"df_features\",\n  \"rows\": 4760,\n  \"fields\": [\n    {\n      \"column\": \"Movie_Genre\",\n      \"properties\": {\n        \"dtype\": \"category\",\n        \"num_unique_values\": 1164,\n        \"samples\": [\n          \"Family Animation Adventure\",\n          \"Adventure Science Fiction Action\",\n          \"Action Crime Drama Romance Thriller\"\n        ],\n        \"semantic_type\": \"\",\n        \"description\": \"\"\n      }\n    },\n    {\n      \"column\": \"Movie_Keywords\",\n      \"properties\": {\n        \"dtype\": \"string\",\n        \"num_unique_values\": 4203,\n        \"samples\": [\n          \"canada nazis sequel spin off ancient evil\",\n          \"sex professor wedding woman director columbia university\",\n          \"prophecy sea beach gold small town\"\n        ],\n        \"semantic_type\": \"\",\n        \"description\": \"\"\n      }\n    },\n    {\n      \"column\": \"Movie_Tagline\",\n      \"properties\": {\n        \"dtype\": \"string\",\n        \"num_unique_values\": 3928,\n        \"samples\": [\n          \"The messenger must be silenced.\",\n          \"It's not the house that's haunted.\",\n          \"The final hunt begins.\"\n        ],\n        \"semantic_type\": \"\",\n        \"description\": \"\"\n      }\n    },\n    {\n      \"column\": \"Movie_Cast\",\n      \"properties\": {\n        \"dtype\": \"string\",\n        \"num_unique_values\": 4715,\n        \"samples\": [\n          \"Robin Tunney Fairuza Balk Neve Campbell Rachel True Skeet Ulrich\",\n          \"Peter Sellers Christopher Plummer Herbert Lom Catherine Schell Peter Arne\",\n          \"John Wayne Laraine Day Cedric Hardwicke Judith Anderson Anthony Quinn\"\n        ],\n        \"semantic_type\": \"\",\n        \"description\": \"\"\n      }\n    },\n    {\n      \"column\": \"Movie_Director\",\n      \"properties\": {\n        \"dtype\": \"category\",\n        \"num_unique_values\": 2332,\n        \"samples\": [\n          \"Rob McKittrick\",\n          \"Terron R. Parsons\",\n          \"Cyrus Nowrasteh\"\n        ],\n        \"semantic_type\": \"\",\n        \"description\": \"\"\n      }\n    }\n  ]\n}"
            }
          },
          "metadata": {},
          "execution_count": 14
        }
      ]
    },
    {
      "cell_type": "code",
      "source": [
        "x=df_features['Movie_Genre']+' '+df_features['Movie_Keywords']+' '+df_features['Movie_Tagline']+' '+df_features['Movie_Cast']+' '+df_features['Movie_Director']"
      ],
      "metadata": {
        "id": "bcWAvRnEbPDI"
      },
      "execution_count": 15,
      "outputs": []
    },
    {
      "cell_type": "code",
      "source": [
        "x"
      ],
      "metadata": {
        "colab": {
          "base_uri": "https://localhost:8080/"
        },
        "id": "l7POawZ7bSey",
        "outputId": "14bb87c2-ebc7-4722-d1c1-19b88a951fc6"
      },
      "execution_count": 16,
      "outputs": [
        {
          "output_type": "execute_result",
          "data": {
            "text/plain": [
              "0       Crime Comedy hotel new year's eve witch bet ho...\n",
              "1       Adventure Action Science Fiction android galax...\n",
              "2       Animation Family father son relationship harbo...\n",
              "3       Comedy Drama Romance vietnam veteran hippie me...\n",
              "4       Drama male nudity female nudity adultery midli...\n",
              "                              ...                        \n",
              "4755    Horror  The hot spot where Satan's waitin'. Li...\n",
              "4756    Comedy Family Drama  It’s better to stand out ...\n",
              "4757    Thriller Drama christian film sex trafficking ...\n",
              "4758                                           Family    \n",
              "4759    Documentary music actors legendary perfomer cl...\n",
              "Length: 4760, dtype: object"
            ]
          },
          "metadata": {},
          "execution_count": 16
        }
      ]
    },
    {
      "cell_type": "code",
      "source": [
        "x.shape"
      ],
      "metadata": {
        "colab": {
          "base_uri": "https://localhost:8080/"
        },
        "id": "-bmzYTfdbU4j",
        "outputId": "fe642462-7fe1-443e-a603-5ad13fbe9344"
      },
      "execution_count": 17,
      "outputs": [
        {
          "output_type": "execute_result",
          "data": {
            "text/plain": [
              "(4760,)"
            ]
          },
          "metadata": {},
          "execution_count": 17
        }
      ]
    },
    {
      "cell_type": "code",
      "source": [
        "from sklearn.feature_extraction.text import TfidfVectorizer"
      ],
      "metadata": {
        "id": "0P4I3MaibW2G"
      },
      "execution_count": 18,
      "outputs": []
    },
    {
      "cell_type": "code",
      "source": [
        "Tfidf =TfidfVectorizer()"
      ],
      "metadata": {
        "id": "KQxKYlArbaL9"
      },
      "execution_count": 19,
      "outputs": []
    },
    {
      "cell_type": "code",
      "source": [
        "x = Tfidf.fit_transform(x)"
      ],
      "metadata": {
        "id": "SxXUAMvcbc15"
      },
      "execution_count": 20,
      "outputs": []
    },
    {
      "cell_type": "code",
      "source": [
        "x.shape"
      ],
      "metadata": {
        "colab": {
          "base_uri": "https://localhost:8080/"
        },
        "id": "ji1ojRJcbfMw",
        "outputId": "2f00ef47-f3be-4cd1-ec23-08ba441cee00"
      },
      "execution_count": 21,
      "outputs": [
        {
          "output_type": "execute_result",
          "data": {
            "text/plain": [
              "(4760, 17258)"
            ]
          },
          "metadata": {},
          "execution_count": 21
        }
      ]
    },
    {
      "cell_type": "code",
      "source": [
        "print(x)"
      ],
      "metadata": {
        "colab": {
          "base_uri": "https://localhost:8080/"
        },
        "id": "9rAPjEdLbhGR",
        "outputId": "8ca3f266-de14-437c-df80-8bee78a5bb02"
      },
      "execution_count": 22,
      "outputs": [
        {
          "output_type": "stream",
          "name": "stdout",
          "text": [
            "  (0, 617)\t0.1633382144407513\n",
            "  (0, 492)\t0.1432591540388685\n",
            "  (0, 15413)\t0.1465525095337543\n",
            "  (0, 9675)\t0.14226057295252661\n",
            "  (0, 9465)\t0.1659841367820977\n",
            "  (0, 1390)\t0.16898383612799558\n",
            "  (0, 7825)\t0.09799561597509843\n",
            "  (0, 1214)\t0.13865857545144072\n",
            "  (0, 729)\t0.13415063359531618\n",
            "  (0, 13093)\t0.1432591540388685\n",
            "  (0, 15355)\t0.10477815972666779\n",
            "  (0, 9048)\t0.0866842116160778\n",
            "  (0, 11161)\t0.06250380151644369\n",
            "  (0, 16773)\t0.17654247479915475\n",
            "  (0, 5612)\t0.08603537588547631\n",
            "  (0, 16735)\t0.10690083751525419\n",
            "  (0, 7904)\t0.13348000542112332\n",
            "  (0, 15219)\t0.09800472886453934\n",
            "  (0, 11242)\t0.07277788238484746\n",
            "  (0, 3878)\t0.11998399582562203\n",
            "  (0, 5499)\t0.11454057510303811\n",
            "  (0, 7071)\t0.19822417598406614\n",
            "  (0, 7454)\t0.14745635785412262\n",
            "  (0, 1495)\t0.19712637387361423\n",
            "  (0, 9206)\t0.15186283580984414\n",
            "  :\t:\n",
            "  (4757, 5455)\t0.12491480594769522\n",
            "  (4757, 2967)\t0.16273475835631626\n",
            "  (4757, 8464)\t0.23522565554066333\n",
            "  (4757, 6938)\t0.17088173678136628\n",
            "  (4757, 8379)\t0.17480603856721913\n",
            "  (4757, 15303)\t0.07654356007668191\n",
            "  (4757, 15384)\t0.09754322497537371\n",
            "  (4757, 7649)\t0.11479421494340192\n",
            "  (4757, 10896)\t0.14546473055066447\n",
            "  (4757, 4494)\t0.05675298448720501\n",
            "  (4758, 5238)\t1.0\n",
            "  (4759, 11264)\t0.33947721804318337\n",
            "  (4759, 11708)\t0.33947721804318337\n",
            "  (4759, 205)\t0.3237911628497312\n",
            "  (4759, 8902)\t0.3040290704566037\n",
            "  (4759, 14062)\t0.3237911628497312\n",
            "  (4759, 3058)\t0.2812896191863103\n",
            "  (4759, 7130)\t0.26419662449963793\n",
            "  (4759, 10761)\t0.3126617295732147\n",
            "  (4759, 4358)\t0.18306542312175342\n",
            "  (4759, 14051)\t0.20084315377640435\n",
            "  (4759, 5690)\t0.19534291014627303\n",
            "  (4759, 15431)\t0.19628653185946862\n",
            "  (4759, 1490)\t0.21197258705292082\n",
            "  (4759, 10666)\t0.15888268987343043\n"
          ]
        }
      ]
    },
    {
      "cell_type": "code",
      "source": [
        "from sklearn.metrics.pairwise import cosine_similarity"
      ],
      "metadata": {
        "id": "F2PK0BqAbjB9"
      },
      "execution_count": 23,
      "outputs": []
    },
    {
      "cell_type": "code",
      "source": [
        "similarity_score = cosine_similarity(x)"
      ],
      "metadata": {
        "id": "_skfHMorbmGg"
      },
      "execution_count": 24,
      "outputs": []
    },
    {
      "cell_type": "code",
      "source": [
        "similarity_score"
      ],
      "metadata": {
        "colab": {
          "base_uri": "https://localhost:8080/"
        },
        "id": "-OwB3-RkboGl",
        "outputId": "ded56495-d573-47de-9221-cbf7bd927caf"
      },
      "execution_count": 25,
      "outputs": [
        {
          "output_type": "execute_result",
          "data": {
            "text/plain": [
              "array([[1.        , 0.01351235, 0.03570468, ..., 0.        , 0.        ,\n",
              "        0.        ],\n",
              "       [0.01351235, 1.        , 0.00806674, ..., 0.        , 0.        ,\n",
              "        0.        ],\n",
              "       [0.03570468, 0.00806674, 1.        , ..., 0.        , 0.08014876,\n",
              "        0.        ],\n",
              "       ...,\n",
              "       [0.        , 0.        , 0.        , ..., 1.        , 0.        ,\n",
              "        0.        ],\n",
              "       [0.        , 0.        , 0.08014876, ..., 0.        , 1.        ,\n",
              "        0.        ],\n",
              "       [0.        , 0.        , 0.        , ..., 0.        , 0.        ,\n",
              "        1.        ]])"
            ]
          },
          "metadata": {},
          "execution_count": 25
        }
      ]
    },
    {
      "cell_type": "code",
      "source": [
        "similarity_score.shape"
      ],
      "metadata": {
        "colab": {
          "base_uri": "https://localhost:8080/"
        },
        "id": "FbAqDWbCbqTc",
        "outputId": "073826e8-247f-4f74-e020-fd8611c4f524"
      },
      "execution_count": 26,
      "outputs": [
        {
          "output_type": "execute_result",
          "data": {
            "text/plain": [
              "(4760, 4760)"
            ]
          },
          "metadata": {},
          "execution_count": 26
        }
      ]
    },
    {
      "cell_type": "code",
      "source": [
        "favourite_Movie_Name=input('enter your favourite movie name:')"
      ],
      "metadata": {
        "colab": {
          "base_uri": "https://localhost:8080/"
        },
        "id": "Uuj7u_NNbsZ9",
        "outputId": "a2c459c2-c22f-4e5b-887e-2c9307aff034"
      },
      "execution_count": 27,
      "outputs": [
        {
          "name": "stdout",
          "output_type": "stream",
          "text": [
            "enter your favourite movie name:kalki\n"
          ]
        }
      ]
    },
    {
      "cell_type": "code",
      "source": [
        "All_Movies_Title_List=df['Movie_Title'].tolist()"
      ],
      "metadata": {
        "id": "5kkFATBGbu2b"
      },
      "execution_count": 28,
      "outputs": []
    },
    {
      "cell_type": "code",
      "source": [
        "import difflib"
      ],
      "metadata": {
        "id": "6mIsb5JKb0p-"
      },
      "execution_count": 29,
      "outputs": []
    },
    {
      "cell_type": "code",
      "source": [
        "Movie_recommendation=difflib.get_close_matches(favourite_Movie_Name,All_Movies_Title_List)\n",
        "print(Movie_recommendation)"
      ],
      "metadata": {
        "colab": {
          "base_uri": "https://localhost:8080/"
        },
        "id": "m6NPuWX7b21-",
        "outputId": "3c825fa8-8abc-485f-e104-1863cc20cdb1"
      },
      "execution_count": 30,
      "outputs": [
        {
          "output_type": "stream",
          "name": "stdout",
          "text": [
            "['Valkyrie']\n"
          ]
        }
      ]
    },
    {
      "cell_type": "code",
      "source": [
        "close_Match=Movie_recommendation[0]\n",
        "print(close_Match)"
      ],
      "metadata": {
        "colab": {
          "base_uri": "https://localhost:8080/"
        },
        "id": "Ih03-vz6b5X1",
        "outputId": "ae012132-7326-476a-bfb5-896115ecbbbe"
      },
      "execution_count": 31,
      "outputs": [
        {
          "output_type": "stream",
          "name": "stdout",
          "text": [
            "Valkyrie\n"
          ]
        }
      ]
    },
    {
      "cell_type": "code",
      "source": [
        "Index_of_close_Match_Movie=df[df.Movie_Title==close_Match]['Movie_ID'].values[0]\n",
        "print(Index_of_close_Match_Movie)"
      ],
      "metadata": {
        "colab": {
          "base_uri": "https://localhost:8080/"
        },
        "id": "YHTVrkb7b-b9",
        "outputId": "7dbb6fc4-1423-481c-9aaf-fb8a85680dd1"
      },
      "execution_count": 32,
      "outputs": [
        {
          "output_type": "stream",
          "name": "stdout",
          "text": [
            "697\n"
          ]
        }
      ]
    },
    {
      "cell_type": "code",
      "source": [
        "recommendation_score = list(enumerate(similarity_score[Index_of_close_Match_Movie]))\n",
        "print(recommendation_score)"
      ],
      "metadata": {
        "colab": {
          "base_uri": "https://localhost:8080/"
        },
        "id": "eEuIch84cCQm",
        "outputId": "73c12e87-0735-4521-d26f-76462c463b05"
      },
      "execution_count": 33,
      "outputs": [
        {
          "output_type": "stream",
          "name": "stdout",
          "text": [
            "[(0, 0.0660363595177146), (1, 0.0), (2, 0.01139114162283551), (3, 0.04923723692061154), (4, 0.07222472134276867), (5, 0.01348956321789665), (6, 0.025820492812984562), (7, 0.002106847524804603), (8, 0.01076448021327137), (9, 0.02678368091399373), (10, 0.0), (11, 0.0030370815913783036), (12, 0.003131933653928668), (13, 0.0), (14, 0.022220494476494854), (15, 0.04553839339154158), (16, 0.04304264568750055), (17, 0.0), (18, 0.030831891045894334), (19, 0.010158702039015997), (20, 0.003067656988323905), (21, 0.0031363459402326747), (22, 0.035327660623074714), (23, 0.035708389340366034), (24, 0.017822026411381447), (25, 0.06049680967038946), (26, 0.0028696377939074094), (27, 0.06539382048509537), (28, 0.0284117190010829), (29, 0.04987440774941756), (30, 0.0), (31, 0.02532805630904263), (32, 0.02087531880536974), (33, 0.029785968432348826), (34, 0.013995179731103265), (35, 0.020943704297722646), (36, 0.021930641571841946), (37, 0.0), (38, 0.0045540276905395695), (39, 0.05307236238540746), (40, 0.012991198708652082), (41, 0.003263440870870184), (42, 0.07043305890611745), (43, 0.03005968612605083), (44, 0.029681256127008688), (45, 0.0037820062899946503), (46, 0.04461045338402515), (47, 0.02879120146620163), (48, 0.003231559537325373), (49, 0.08686712541574698), (50, 0.003935346037522591), (51, 0.03605215203760343), (52, 0.048056166990616066), (53, 0.003776097201866194), (54, 0.013482052166196508), (55, 0.015779371341122197), (56, 0.007734019836643835), (57, 0.02347846557446311), (58, 0.0), (59, 0.025575756151491477), (60, 0.030883947182463418), (61, 0.01327849008829494), (62, 0.07425337294373668), (63, 0.045781961180819314), (64, 0.0), (65, 0.0), (66, 0.002927127442818044), (67, 0.013776378069168989), (68, 0.0031104362486933093), (69, 0.01604234258729225), (70, 0.03485050560093768), (71, 0.03510466238494998), (72, 0.014645813486843585), (73, 0.003449981873561127), (74, 0.03186579735465777), (75, 0.0), (76, 0.013473361032535845), (77, 0.0), (78, 0.006385264962713567), (79, 0.010496231687732753), (80, 0.0), (81, 0.0), (82, 0.035259824231549663), (83, 0.023000724922934715), (84, 0.053668883299950024), (85, 0.0670990134653533), (86, 0.06559806625734835), (87, 0.021652735165965324), (88, 0.008674089001770168), (89, 0.0), (90, 0.0), (91, 0.003527860776748127), (92, 0.04235281561520612), (93, 0.0), (94, 0.0), (95, 0.0), (96, 0.06693304109460628), (97, 0.002573774433786345), (98, 0.0028718227400680602), (99, 0.026650219991184762), (100, 0.022200055824686482), (101, 0.0), (102, 0.0), (103, 0.01203666231959315), (104, 0.03510366934466128), (105, 0.027062547560891), (106, 0.03524483185979625), (107, 0.0033263306684860987), (108, 0.08792707158097984), (109, 0.04526259145839506), (110, 0.011205461204837217), (111, 0.022554132415260972), (112, 0.017362200290387035), (113, 0.04097860674509512), (114, 0.04048664169544009), (115, 0.08234642192575466), (116, 0.03234065264017219), (117, 0.0236346957326247), (118, 0.015495025817433145), (119, 0.010329965233837696), (120, 0.023132657219752155), (121, 0.0335127822139403), (122, 0.023146657661041667), (123, 0.0032087612852489634), (124, 0.016550424866813615), (125, 0.06850177906379742), (126, 0.022612314557075335), (127, 0.013095711369443704), (128, 0.026623101451884876), (129, 0.06455951579267218), (130, 0.06121821604796059), (131, 0.030208127183170817), (132, 0.03037947653680512), (133, 0.0), (134, 0.0040707889426725465), (135, 0.0), (136, 0.03869072143252855), (137, 0.021488729749479095), (138, 0.0), (139, 0.004471020439819877), (140, 0.0027472838892551054), (141, 0.0043770057312862215), (142, 0.020799425951940936), (143, 0.0), (144, 0.041599513150173385), (145, 0.0), (146, 0.01182652853026997), (147, 0.023395389344294238), (148, 0.0), (149, 0.011106449797408461), (150, 0.0), (151, 0.0), (152, 0.04354240035404168), (153, 0.004683575039041289), (154, 0.04780557570687542), (155, 0.08866889136411271), (156, 0.017460036801607386), (157, 0.006588455323166596), (158, 0.03758246122477875), (159, 0.025631159591736882), (160, 0.021807963528327035), (161, 0.056810891797759305), (162, 0.016047231857795954), (163, 0.0), (164, 0.010018827020796787), (165, 0.0025353342053799264), (166, 0.04878933844400307), (167, 0.03414027081153475), (168, 0.02343351245878876), (169, 0.013653571978367616), (170, 0.0), (171, 0.0), (172, 0.002942147994548732), (173, 0.05187218499447841), (174, 0.08341144730453079), (175, 0.012255693863491485), (176, 0.0030136231583390944), (177, 0.006475637177539455), (178, 0.03604680995308864), (179, 0.0), (180, 0.01901729903179384), (181, 0.014513220743071016), (182, 0.03995728310767011), (183, 0.009656363409568621), (184, 0.044307555464594466), (185, 0.010948829993659039), (186, 0.03495154961587251), (187, 0.018723999843471922), (188, 0.02780067087877431), (189, 0.010890473617861718), (190, 0.015389742990615211), (191, 0.0), (192, 0.08615139261609422), (193, 0.07374458844882695), (194, 0.047032783039912485), (195, 0.020520371207020376), (196, 0.002463418579042996), (197, 0.020293965471014804), (198, 0.13054182936129405), (199, 0.06257797591804734), (200, 0.01981927763541443), (201, 0.0), (202, 0.009118727591512756), (203, 0.05278659973528373), (204, 0.018214277169855825), (205, 0.029631364639268788), (206, 0.003111115095835158), (207, 0.0), (208, 0.027210926222491452), (209, 0.02858207450602419), (210, 0.0031608739152982645), (211, 0.04414736698492242), (212, 0.04992987488777753), (213, 0.01251779022671171), (214, 0.018483311787066636), (215, 0.030372870420894316), (216, 0.016803951599557557), (217, 0.0038840697127262643), (218, 0.009049104668269694), (219, 0.04535959976075932), (220, 0.0), (221, 0.009424077587611789), (222, 0.015953149839614888), (223, 0.04719077950624036), (224, 0.023527355458199832), (225, 0.08809187187769768), (226, 0.04915056319407124), (227, 0.052759979426235254), (228, 0.05497741871368989), (229, 0.002734274945491235), (230, 0.007397566771185598), (231, 0.07071191994278238), (232, 0.06442473549547255), (233, 0.013102615462119414), (234, 0.0), (235, 0.021948161119492365), (236, 0.016939864093342714), (237, 0.028001352214235643), (238, 0.056481119645871596), (239, 0.0), (240, 0.03194723788085588), (241, 0.02393943983363966), (242, 0.03770938889633413), (243, 0.0074127813782279535), (244, 0.06201749532370316), (245, 0.004087518355756808), (246, 0.011594786987737669), (247, 0.01734596266550577), (248, 0.016756462530168836), (249, 0.002572093159269164), (250, 0.0), (251, 0.009024480126164369), (252, 0.016055077671132074), (253, 0.040048026534399574), (254, 0.0032326004284501976), (255, 0.010379401721314803), (256, 0.03361860370346848), (257, 0.0), (258, 0.04459887238185738), (259, 0.0), (260, 0.0), (261, 0.0), (262, 0.0030810468223324357), (263, 0.04700950634831433), (264, 0.05725971602115821), (265, 0.0), (266, 0.008101401215066186), (267, 0.002485420089964958), (268, 0.002615812497672267), (269, 0.03998026247944894), (270, 0.03133553869323699), (271, 0.06109693419666752), (272, 0.006976963385254207), (273, 0.036204117534060686), (274, 0.04057715813796751), (275, 0.007380297507277385), (276, 0.030852336705983134), (277, 0.0066772077010125545), (278, 0.011968845164957866), (279, 0.07274611288364168), (280, 0.010501533549305254), (281, 0.0033108873583917657), (282, 0.07818664510741229), (283, 0.04077769411618208), (284, 0.016972082053447055), (285, 0.024391010533173916), (286, 0.02341569114183762), (287, 0.02657832592511003), (288, 0.024579253941249386), (289, 0.0), (290, 0.017419064544577468), (291, 0.03146078451530629), (292, 0.010215459570318646), (293, 0.002085334197800988), (294, 0.008373626000149422), (295, 0.017408323472884814), (296, 0.013584508698047514), (297, 0.0), (298, 0.0), (299, 0.0), (300, 0.007236932956019437), (301, 0.008035357961831), (302, 0.12014188528969066), (303, 0.02604158476314457), (304, 0.019391664604851283), (305, 0.022198564469935452), (306, 0.044931620251958376), (307, 0.06906199514610853), (308, 0.023180133728057495), (309, 0.03329627336676541), (310, 0.06917165182217212), (311, 0.003740311855769408), (312, 0.030671908172658288), (313, 0.00787233828735185), (314, 0.0), (315, 0.013316493467311612), (316, 0.028703210656517777), (317, 0.03532737304515268), (318, 0.04942912101010052), (319, 0.0032651385379812866), (320, 0.0), (321, 0.007372943523498136), (322, 0.007480090034194113), (323, 0.0), (324, 0.028405352532877744), (325, 0.036146142960585624), (326, 0.04196426214784732), (327, 0.018723271294105975), (328, 0.02153325607550494), (329, 0.03779821924731698), (330, 0.023021187209935342), (331, 0.007915649983814957), (332, 0.026979013749156178), (333, 0.0), (334, 0.04037532276270695), (335, 0.00972250538462623), (336, 0.017826994388363087), (337, 0.0), (338, 0.003635666616753025), (339, 0.003856283292895611), (340, 0.008161650317237612), (341, 0.008179103849908144), (342, 0.027386019553572595), (343, 0.0470479542917336), (344, 0.008382300561700712), (345, 0.03313444658570246), (346, 0.02893998453085107), (347, 0.007002681049062944), (348, 0.022203791149809596), (349, 0.12139062994906138), (350, 0.007531130371971492), (351, 0.005277851277996768), (352, 0.016174818458896532), (353, 0.01069359222908614), (354, 0.06716084124065227), (355, 0.05731044695635571), (356, 0.0525938695473845), (357, 0.026678742399584877), (358, 0.05250364643004356), (359, 0.002691491762087508), (360, 0.015668335923181648), (361, 0.004230087309775859), (362, 0.004399722156377262), (363, 0.03693549364284896), (364, 0.002523144698165286), (365, 0.031470531146372674), (366, 0.003249748350534542), (367, 0.0038174872736268578), (368, 0.0047832894155048445), (369, 0.003049779288218131), (370, 0.051798218474458466), (371, 0.07576823118450088), (372, 0.002732664911917613), (373, 0.04505652893233809), (374, 0.056459770824889156), (375, 0.01039343295367686), (376, 0.04169320680929373), (377, 0.0639709645534861), (378, 0.023873496524264976), (379, 0.0), (380, 0.0), (381, 0.019891562777993164), (382, 0.0), (383, 0.0035515309452353594), (384, 0.0), (385, 0.012137216602054683), (386, 0.041685671489769434), (387, 0.0027660216682610993), (388, 0.041939942458187336), (389, 0.047783536454067986), (390, 0.037159993587616555), (391, 0.00510367752863898), (392, 0.004232964716264438), (393, 0.015285369976573832), (394, 0.0), (395, 0.014429997990688045), (396, 0.002818367511142211), (397, 0.019231323013648778), (398, 0.011040238280179006), (399, 0.1055336914073203), (400, 0.0029059205428090575), (401, 0.024611358724385017), (402, 0.05309519444986236), (403, 0.014839711831669902), (404, 0.018045940929327615), (405, 0.011753924701755417), (406, 0.04271089568478364), (407, 0.05922515725699386), (408, 0.08606079466128846), (409, 0.03966650463097998), (410, 0.03516508247769596), (411, 0.0), (412, 0.06852285225073776), (413, 0.016621891211050926), (414, 0.024726923088247876), (415, 0.020159635048569106), (416, 0.009990980696347435), (417, 0.003701499780134445), (418, 0.052224168827486), (419, 0.0033031591855107404), (420, 0.019136536239686443), (421, 0.003081910685614609), (422, 0.02363823524841421), (423, 0.03949784521074047), (424, 0.0), (425, 0.0), (426, 0.0), (427, 0.013909725437752391), (428, 0.00950600205164715), (429, 0.003073704016790225), (430, 0.003156705237811382), (431, 0.016388891274653983), (432, 0.0024950248816614034), (433, 0.014826366782906608), (434, 0.027893514224901925), (435, 0.011847227712766539), (436, 0.0032813539446199013), (437, 0.017198398326509833), (438, 0.02821635823717836), (439, 0.0), (440, 0.04394644020532669), (441, 0.0087008464614703), (442, 0.0024318385224162175), (443, 0.015556214368862998), (444, 0.01805981479031174), (445, 0.01801663526624131), (446, 0.010271181572701548), (447, 0.05963471369832238), (448, 0.01144077652345385), (449, 0.10017836894422208), (450, 0.02955133977291733), (451, 0.0), (452, 0.013651387233807703), (453, 0.0022426530352171064), (454, 0.07022277830948406), (455, 0.04566243761302432), (456, 0.0447486464256602), (457, 0.0026917978461364926), (458, 0.003272489053835341), (459, 0.003904006528857728), (460, 0.0), (461, 0.08574872823300547), (462, 0.04000270524507357), (463, 0.009758030699859192), (464, 0.06894311251002126), (465, 0.022919076530137493), (466, 0.030469062923479593), (467, 0.01440236947121133), (468, 0.007108261381473494), (469, 0.036607335242698665), (470, 0.04750735137453386), (471, 0.06644295224392942), (472, 0.07180643010812687), (473, 0.006258586254285793), (474, 0.011520415495154472), (475, 0.04187435223489976), (476, 0.04778242281638659), (477, 0.0060593045001625274), (478, 0.0033192347885737756), (479, 0.02199320744111999), (480, 0.023632109812570478), (481, 0.07213222268602323), (482, 0.010989928576143657), (483, 0.02368234101238193), (484, 0.0), (485, 0.03787186143075186), (486, 0.01274890391040397), (487, 0.0028075524022848483), (488, 0.009587297511869337), (489, 0.011857111097184962), (490, 0.024282808163063663), (491, 0.019304241315586664), (492, 0.0), (493, 0.06186199147253026), (494, 0.00400324002813249), (495, 0.002593993336393014), (496, 0.015474451113884406), (497, 0.03834066424969095), (498, 0.0037990349467261274), (499, 0.021161806951025118), (500, 0.1439472091338445), (501, 0.061023482739522225), (502, 0.04944400840415974), (503, 0.003876419288892793), (504, 0.013980829513971465), (505, 0.006571772289276159), (506, 0.048963261545323614), (507, 0.006495616670332266), (508, 0.05122241291065392), (509, 0.03492498895760508), (510, 0.011108284273014081), (511, 0.013836322092525555), (512, 0.0), (513, 0.0), (514, 0.0), (515, 0.015715231903337686), (516, 0.0), (517, 0.010928995971763989), (518, 0.00343826475170243), (519, 0.021018312886831647), (520, 0.030548380190816325), (521, 0.02521732395575608), (522, 0.07307820196859466), (523, 0.007985143533544672), (524, 0.05073052386904378), (525, 0.003963612566076636), (526, 0.003688008215428968), (527, 0.02485902103238758), (528, 0.038786721804700414), (529, 0.05515432055421943), (530, 0.0), (531, 0.05689329268585712), (532, 0.01602790714551751), (533, 0.0032987170931490987), (534, 0.002896666729331146), (535, 0.021491778585789083), (536, 0.004240898279388447), (537, 0.06811139240597547), (538, 0.08185902031296798), (539, 0.0), (540, 0.029937066929690895), (541, 0.06501844958651617), (542, 0.01264645645821356), (543, 0.031205937654515334), (544, 0.0029762279429452476), (545, 0.023020218927435887), (546, 0.0038448454322474327), (547, 0.058805728320674266), (548, 0.0), (549, 0.022596095325809987), (550, 0.0), (551, 0.03399749926281248), (552, 0.0), (553, 0.0323476913830688), (554, 0.021554354200646015), (555, 0.03955476984764261), (556, 0.0), (557, 0.03140041545506916), (558, 0.002704432072977042), (559, 0.0), (560, 0.0), (561, 0.01872462745349182), (562, 0.022368168156102243), (563, 0.02428446816598477), (564, 0.010384190303525833), (565, 0.0239274926614), (566, 0.04677654195293375), (567, 0.0), (568, 0.007045264138892615), (569, 0.020359597659020078), (570, 0.02062639531634893), (571, 0.002261271684359563), (572, 0.03372525555836743), (573, 0.049010630123163285), (574, 0.023602512078751674), (575, 0.008822551644870714), (576, 0.029787901586168355), (577, 0.015458929326822093), (578, 0.025417575224847826), (579, 0.03877527903378478), (580, 0.0030647081669865585), (581, 0.0026429659686347112), (582, 0.08340902478603128), (583, 0.020438422775018655), (584, 0.0030346827973696125), (585, 0.003833473413733105), (586, 0.21037810307666957), (587, 0.010900925834721152), (588, 0.025991999673528637), (589, 0.035450136065437565), (590, 0.0027030996270865264), (591, 0.0), (592, 0.016771296756193436), (593, 0.0029914119534668127), (594, 0.006183244249131128), (595, 0.0), (596, 0.04014653033307766), (597, 0.021398589863088326), (598, 0.03295473688334946), (599, 0.0), (600, 0.023366782729413078), (601, 0.0), (602, 0.03689872838998352), (603, 0.0), (604, 0.014906822148160602), (605, 0.04291177749532604), (606, 0.07296709591416525), (607, 0.04462235308218048), (608, 0.030738729098786954), (609, 0.09670567871193227), (610, 0.0), (611, 0.004712044087453892), (612, 0.09468701067349333), (613, 0.010366046992519307), (614, 0.023783810018811566), (615, 0.007868793092082908), (616, 0.04124546292936419), (617, 0.002476175352673997), (618, 0.08900481230944762), (619, 0.10394802279602001), (620, 0.031441541480244944), (621, 0.08017845704237621), (622, 0.03274779442764175), (623, 0.026044706698275792), (624, 0.043694043282693454), (625, 0.015314859073519121), (626, 0.02014542861353965), (627, 0.049141191044370376), (628, 0.002956963524680789), (629, 0.010000498746876415), (630, 0.0040264405735354145), (631, 0.010825865147138533), (632, 0.047933622942455095), (633, 0.07879787607814205), (634, 0.0), (635, 0.00829337891403541), (636, 0.027557934177967373), (637, 0.05764283240478986), (638, 0.05513874441623616), (639, 0.0), (640, 0.0), (641, 0.0075398424166741125), (642, 0.0025332882763121553), (643, 0.02483661703009969), (644, 0.009415878928325516), (645, 0.0023953795779945047), (646, 0.002820380976208282), (647, 0.01180064533879956), (648, 0.07915095206738047), (649, 0.04778439756464537), (650, 0.0), (651, 0.04148149196543309), (652, 0.039832255085610814), (653, 0.042764320285931696), (654, 0.01875685314225553), (655, 0.055866629282393394), (656, 0.021325038527328647), (657, 0.021139086793246442), (658, 0.03353557941707016), (659, 0.0972344634245011), (660, 0.10807004908396647), (661, 0.0), (662, 0.0038636709968580497), (663, 0.01623841261765471), (664, 0.025182957965396817), (665, 0.058931723872264495), (666, 0.0), (667, 0.02468801396738851), (668, 0.0), (669, 0.07429539410791372), (670, 0.01997515075349931), (671, 0.08122007507533514), (672, 0.04769914878405999), (673, 0.019680096829461324), (674, 0.01496968190202256), (675, 0.003198376822771386), (676, 0.04211775930584551), (677, 0.011525452919174551), (678, 0.022345725302200185), (679, 0.0045925602242378955), (680, 0.032534992346810544), (681, 0.0), (682, 0.0), (683, 0.08936739481924387), (684, 0.058787554378526514), (685, 0.05429612283401544), (686, 0.0), (687, 0.00442115501694449), (688, 0.04148371377688442), (689, 0.010471313637168148), (690, 0.021847884767223134), (691, 0.011730528640064354), (692, 0.03224520293196845), (693, 0.03335111988500238), (694, 0.022537187389922348), (695, 0.0), (696, 0.02710780022846608), (697, 1.0000000000000002), (698, 0.0697503095345042), (699, 0.0), (700, 0.05094561877826871), (701, 0.0032738701006186826), (702, 0.01614890957771515), (703, 0.043003192814547994), (704, 0.0), (705, 0.07724272738839616), (706, 0.08701706942174961), (707, 0.0382925495784586), (708, 0.18875746484330208), (709, 0.16122840502473745), (710, 0.25457320774534514), (711, 0.1901926719011744), (712, 0.006111826835401524), (713, 0.0), (714, 0.0), (715, 0.09095168216425119), (716, 0.003075492875425867), (717, 0.03807044219425644), (718, 0.0), (719, 0.0290398670012912), (720, 0.0038326098880982814), (721, 0.0033604216184674723), (722, 0.0026352836683006028), (723, 0.0), (724, 0.03435997136238077), (725, 0.0), (726, 0.038027563668221846), (727, 0.0028814676659498313), (728, 0.00316326938231655), (729, 0.0032704564945364523), (730, 0.004103191500987603), (731, 0.025761693255407912), (732, 0.025286154395230766), (733, 0.05176253871569563), (734, 0.009860775211354124), (735, 0.06326872882373359), (736, 0.01103751215493935), (737, 0.08765823463969002), (738, 0.0), (739, 0.015347148182890428), (740, 0.028750925679832107), (741, 0.05544312794992011), (742, 0.05440364192074484), (743, 0.00301376986030608), (744, 0.014989399473045204), (745, 0.03364712651996783), (746, 0.031115246946898455), (747, 0.0), (748, 0.008060521112431373), (749, 0.002934611398686271), (750, 0.048666983708923216), (751, 0.017499308064115343), (752, 0.06529845109989495), (753, 0.01750559605005105), (754, 0.011746263453047454), (755, 0.020921775462164276), (756, 0.009234861417939293), (757, 0.017661318633585887), (758, 0.07557720143055514), (759, 0.01960085374395189), (760, 0.040516549097260046), (761, 0.0029332839098674445), (762, 0.02583253180706646), (763, 0.02096457992980829), (764, 0.016001324577760528), (765, 0.0), (766, 0.009742276557351945), (767, 0.002782110719933798), (768, 0.015250140688995554), (769, 0.08929194671675052), (770, 0.0036806470298033633), (771, 0.02616150191445185), (772, 0.06503858735257462), (773, 0.0309535756804644), (774, 0.08732270803031769), (775, 0.011622736333964438), (776, 0.020609306568894478), (777, 0.0035249560204311465), (778, 0.01601941229713151), (779, 0.0), (780, 0.016422170692237323), (781, 0.004196673282512421), (782, 0.010103496627112036), (783, 0.043066115937449315), (784, 0.011368235923377223), (785, 0.010970493949835083), (786, 0.009182938649121137), (787, 0.0234308924241341), (788, 0.049001099170276445), (789, 0.035863751755212), (790, 0.0), (791, 0.014448473197035301), (792, 0.003119751804577447), (793, 0.01792576153953465), (794, 0.09014682453666868), (795, 0.012958769658192197), (796, 0.008229070776209851), (797, 0.03302602718495425), (798, 0.0027988187391294037), (799, 0.0028590799151198987), (800, 0.03103440761121421), (801, 0.0), (802, 0.022801572278689574), (803, 0.0), (804, 0.022623140633670817), (805, 0.03170736135751129), (806, 0.016726796838460872), (807, 0.02521833779389917), (808, 0.07117236909961647), (809, 0.00779851634172392), (810, 0.05500116719730201), (811, 0.024691110159042216), (812, 0.019735113025539836), (813, 0.011132471403310692), (814, 0.07523888231401794), (815, 0.002620190342536935), (816, 0.0317975772449183), (817, 0.010189157278984841), (818, 0.021189755673031715), (819, 0.00661488320484103), (820, 0.038148657875747616), (821, 0.01060645671122211), (822, 0.01867410350333209), (823, 0.02022133761955143), (824, 0.05671872355839219), (825, 0.0), (826, 0.003127857093273688), (827, 0.030771932581915448), (828, 0.002770507678150155), (829, 0.032491616871425426), (830, 0.051832975465982284), (831, 0.013727635310947535), (832, 0.027745209122499767), (833, 0.042326154408833666), (834, 0.04485804295918179), (835, 0.042761379551886566), (836, 0.003513035148917126), (837, 0.0030632551960275154), (838, 0.08750261701624494), (839, 0.0045022522528643345), (840, 0.018003422038831422), (841, 0.054288259261069505), (842, 0.004872594350095831), (843, 0.06687365528886013), (844, 0.02955476064208388), (845, 0.10153600573286628), (846, 0.03616447921318204), (847, 0.04912547291754155), (848, 0.05668642865612222), (849, 0.003982318914188252), (850, 0.01071896475970835), (851, 0.019289624291579596), (852, 0.009481479859300534), (853, 0.01981689421005528), (854, 0.03463455255213105), (855, 0.053844863234917856), (856, 0.021392640558064106), (857, 0.01094552525383), (858, 0.0019802523995410457), (859, 0.055247624540956046), (860, 0.060230923293859505), (861, 0.051097566324168286), (862, 0.003471605655076081), (863, 0.054267369943734586), (864, 0.010639272432013205), (865, 0.0434528768595538), (866, 0.023383277439570617), (867, 0.07898910579760642), (868, 0.06412316676867834), (869, 0.004085744467400695), (870, 0.04198357493803821), (871, 0.04601367928111318), (872, 0.007405898314729923), (873, 0.02300241682817775), (874, 0.02052861832903398), (875, 0.06762745280533902), (876, 0.003347592802066789), (877, 0.0499946636932618), (878, 0.015309147841193974), (879, 0.014498357924396965), (880, 0.024170238480135567), (881, 0.015380141449659617), (882, 0.0), (883, 0.05776531205478982), (884, 0.007197319694193851), (885, 0.038368905410436326), (886, 0.06134223706705641), (887, 0.051354196077640246), (888, 0.0032504807580004623), (889, 0.0649546571611643), (890, 0.06216865182174279), (891, 0.045357000582529686), (892, 0.08076205974284364), (893, 0.0), (894, 0.0029052974326825754), (895, 0.030498559731406312), (896, 0.003203922585768455), (897, 0.17087980934368358), (898, 0.02187526049240772), (899, 0.039158385186910165), (900, 0.042448443605170146), (901, 0.028561378153838538), (902, 0.02279347600630643), (903, 0.006484520620189027), (904, 0.0046908841507481485), (905, 0.004609726990794256), (906, 0.028349156427624672), (907, 0.012779694118976441), (908, 0.004070982522203253), (909, 0.0), (910, 0.021265674434798855), (911, 0.03013905113521236), (912, 0.0035041030009158977), (913, 0.0), (914, 0.0), (915, 0.029899282670690135), (916, 0.010731071647796981), (917, 0.002625170718049983), (918, 0.0), (919, 0.018085291236868382), (920, 0.0036582466088151857), (921, 0.03896074493955031), (922, 0.0475573271913976), (923, 0.04984124697249429), (924, 0.09507076720113858), (925, 0.007954305654247002), (926, 0.008551412184305785), (927, 0.0338556535347404), (928, 0.0), (929, 0.014736467352891854), (930, 0.03284571052605797), (931, 0.003982196282679313), (932, 0.0), (933, 0.007064982464239678), (934, 0.0359737228147617), (935, 0.002727919531217678), (936, 0.031066730656355374), (937, 0.0034265219861619634), (938, 0.04517846135820848), (939, 0.041682341303469574), (940, 0.03712260232009771), (941, 0.0064792032825514885), (942, 0.002384307507974143), (943, 0.00399450022068054), (944, 0.04928536017515575), (945, 0.004035006841408498), (946, 0.010910569892204416), (947, 0.0039562085749232905), (948, 0.04447015120411827), (949, 0.012523905966029786), (950, 0.03660822614636331), (951, 0.023596059682551778), (952, 0.08210620579470469), (953, 0.020252065359788858), (954, 0.0), (955, 0.004698544004446634), (956, 0.03065917487444936), (957, 0.06466614419603099), (958, 0.042458198007800776), (959, 0.046096005194306594), (960, 0.034425210260030356), (961, 0.05609614198042747), (962, 0.04129879030776725), (963, 0.08092638018561106), (964, 0.0033220349598118877), (965, 0.0039762331895497344), (966, 0.057934346157378365), (967, 0.014849050266850333), (968, 0.03848027372117723), (969, 0.04940601501768448), (970, 0.00978478932131969), (971, 0.05189751068971313), (972, 0.03289800407389306), (973, 0.06943214983503679), (974, 0.036880407173322347), (975, 0.10589659472506609), (976, 0.01108459248451879), (977, 0.0), (978, 0.00737176292931218), (979, 0.03723728196996537), (980, 0.003031174737968076), (981, 0.017506258743429405), (982, 0.05002887764979617), (983, 0.06510588722756828), (984, 0.034842369947352125), (985, 0.015896961356417643), (986, 0.0029306095775345534), (987, 0.0030419919028844295), (988, 0.04442608520466655), (989, 0.020388794243522645), (990, 0.004377538982813455), (991, 0.003148197296358856), (992, 0.0), (993, 0.05130420570937064), (994, 0.002980481854270352), (995, 0.05185643559500899), (996, 0.03313544142221875), (997, 0.0), (998, 0.07228909634998928), (999, 0.015741017152791678), (1000, 0.0026379199993954113), (1001, 0.002795229870702155), (1002, 0.07884906420512401), (1003, 0.053902924026959266), (1004, 0.017429280536409998), (1005, 0.008047861708120899), (1006, 0.030427652747288078), (1007, 0.023180748608051978), (1008, 0.023978579232760817), (1009, 0.009340608227554652), (1010, 0.036351424121640455), (1011, 0.0), (1012, 0.022485041566718825), (1013, 0.029568164134267497), (1014, 0.00880070565988277), (1015, 0.011381623884861563), (1016, 0.023849505993471902), (1017, 0.010234040838283637), (1018, 0.006624101708359433), (1019, 0.012774477561458254), (1020, 0.016797089644845987), (1021, 0.027680830224488612), (1022, 0.00396672147949446), (1023, 0.08803934356924598), (1024, 0.004150450773317011), (1025, 0.0153814761007739), (1026, 0.19417849354206854), (1027, 0.032426118360862045), (1028, 0.003932931368871464), (1029, 0.02397123029211124), (1030, 0.013019038940703385), (1031, 0.02940875480829436), (1032, 0.002770094832047081), (1033, 0.0479990145266809), (1034, 0.03247438651104936), (1035, 0.002849189504447422), (1036, 0.002766111213606708), (1037, 0.02084945688516817), (1038, 0.06829108092053653), (1039, 0.013728959746104457), (1040, 0.04167070409174257), (1041, 0.016467476607437283), (1042, 0.002449467783251335), (1043, 0.02747232334145807), (1044, 0.002841112446265075), (1045, 0.029097912417798424), (1046, 0.024102422339517926), (1047, 0.02915542401588624), (1048, 0.09674242569894058), (1049, 0.016478467506516617), (1050, 0.07460904674286936), (1051, 0.0), (1052, 0.02864847947031303), (1053, 0.011658318928048032), (1054, 0.02266085981731238), (1055, 0.0), (1056, 0.0), (1057, 0.025750429997104102), (1058, 0.07137188745631697), (1059, 0.013313367450948077), (1060, 0.009563301638359235), (1061, 0.054171837181748964), (1062, 0.021180668385335832), (1063, 0.0), (1064, 0.023558780655873527), (1065, 0.009059429787813867), (1066, 0.016390557249296858), (1067, 0.010030431581158659), (1068, 0.02647665179625439), (1069, 0.008498951786135737), (1070, 0.003405930778256339), (1071, 0.0031298008210592664), (1072, 0.002904849307168563), (1073, 0.04126190945695822), (1074, 0.02216573596333856), (1075, 0.025795503863494686), (1076, 0.0), (1077, 0.01788651840476245), (1078, 0.005761021337207026), (1079, 0.022727033238462396), (1080, 0.08982603856404224), (1081, 0.02442789099420991), (1082, 0.053679947193523266), (1083, 0.0030515066639543215), (1084, 0.03748121863016828), (1085, 0.014783774519756846), (1086, 0.014104892150768574), (1087, 0.010704393874544901), (1088, 0.005913606327353002), (1089, 0.01897685366566066), (1090, 0.07531476481990093), (1091, 0.030281521025906293), (1092, 0.0), (1093, 0.003601698749590653), (1094, 0.0822801758270954), (1095, 0.006788525919372266), (1096, 0.033936808533522066), (1097, 0.0), (1098, 0.002391565590067762), (1099, 0.012280372003593847), (1100, 0.006803306137876228), (1101, 0.054654040824866024), (1102, 0.00291079342696578), (1103, 0.026959280203119166), (1104, 0.0), (1105, 0.050218255326195185), (1106, 0.0503666825938005), (1107, 0.031399197263009264), (1108, 0.08152048754723955), (1109, 0.06064607822340187), (1110, 0.02283466619073201), (1111, 0.007762458757348956), (1112, 0.0068901353888427795), (1113, 0.0038469166249122362), (1114, 0.04360885809797871), (1115, 0.00320198457382828), (1116, 0.008047383700003612), (1117, 0.042453119085030105), (1118, 0.007298657383269541), (1119, 0.003131303809963988), (1120, 0.04092046336165784), (1121, 0.04089873073743114), (1122, 0.010091204022152654), (1123, 0.0027873512849068897), (1124, 0.05595304970864631), (1125, 0.0038293286172427503), (1126, 0.03487541895194265), (1127, 0.0), (1128, 0.007443268708881568), (1129, 0.060927931435259756), (1130, 0.04803115030730157), (1131, 0.022504843455112347), (1132, 0.041287469169890574), (1133, 0.01447046076449339), (1134, 0.03120813368514693), (1135, 0.05022103366535499), (1136, 0.00923066924177761), (1137, 0.0), (1138, 0.018242914350192718), (1139, 0.003748169315820217), (1140, 0.014400757615578678), (1141, 0.01125211610875998), (1142, 0.004174715490577288), (1143, 0.012115390495149253), (1144, 0.00839447280715112), (1145, 0.013706262664199456), (1146, 0.0073447900864849185), (1147, 0.0), (1148, 0.03993472356073028), (1149, 0.06053114052640805), (1150, 0.016288200229459305), (1151, 0.0), (1152, 0.003694446685792395), (1153, 0.02491500619751739), (1154, 0.07429712085514391), (1155, 0.045054949688522826), (1156, 0.029171316085258615), (1157, 0.18792379013935046), (1158, 0.0), (1159, 0.006906802132864688), (1160, 0.002783758431511037), (1161, 0.020247364836845208), (1162, 0.016574749575186273), (1163, 0.002927679190528537), (1164, 0.0), (1165, 0.0041278132369914336), (1166, 0.028887630038990714), (1167, 0.011521677187491166), (1168, 0.0035218494882217517), (1169, 0.00809632059863098), (1170, 0.0361575537329214), (1171, 0.0), (1172, 0.13709261081901), (1173, 0.05768471969216341), (1174, 0.0029982520635148968), (1175, 0.055808424758298426), (1176, 0.0029937587491520702), (1177, 0.03527606843309698), (1178, 0.03690274751722812), (1179, 0.0029324416120878657), (1180, 0.027990490798936146), (1181, 0.0), (1182, 0.010742498240121735), (1183, 0.0027222676952115693), (1184, 0.011307787697132757), (1185, 0.017396774826168478), (1186, 0.00257521910024659), (1187, 0.054437659177307834), (1188, 0.057299094281999675), (1189, 0.02133755319607649), (1190, 0.05177662956600827), (1191, 0.0029444150720992052), (1192, 0.026339353572917553), (1193, 0.026012158020567958), (1194, 0.023312619137953065), (1195, 0.007874035937930646), (1196, 0.003958935696793295), (1197, 0.022065120004649746), (1198, 0.003944566397887854), (1199, 0.06666613547188327), (1200, 0.04582843756663278), (1201, 0.016930071540305673), (1202, 0.05358092240143232), (1203, 0.12590127910110444), (1204, 0.0525105928257906), (1205, 0.020308213465690277), (1206, 0.040165136095244636), (1207, 0.0), (1208, 0.04876687076602212), (1209, 0.013506960056282487), (1210, 0.0), (1211, 0.0355890482860521), (1212, 0.0034377711040810004), (1213, 0.0035005310514935953), (1214, 0.014473344093320295), (1215, 0.041222435641211336), (1216, 0.07882490467134842), (1217, 0.05373374849755274), (1218, 0.0), (1219, 0.02080166060855298), (1220, 0.015802224861041013), (1221, 0.019951693812800958), (1222, 0.00334059976822983), (1223, 0.002944192155096689), (1224, 0.007221271024333474), (1225, 0.0030939871687530734), (1226, 0.04897039743891023), (1227, 0.017243096123772485), (1228, 0.014246174931544111), (1229, 0.003061878566262134), (1230, 0.014494883338855529), (1231, 0.03276050311948847), (1232, 0.006971159850325724), (1233, 0.0), (1234, 0.03273814980437351), (1235, 0.01676351502599783), (1236, 0.020080625996295558), (1237, 0.008997611027580427), (1238, 0.011502214756901616), (1239, 0.025475582692304297), (1240, 0.0), (1241, 0.002411028644167762), (1242, 0.030065231231933165), (1243, 0.04229931456862995), (1244, 0.004110399323970472), (1245, 0.023770409249759802), (1246, 0.004304945713574117), (1247, 0.02239601600545536), (1248, 0.052789231109431935), (1249, 0.05691696084324492), (1250, 0.007742277267712591), (1251, 0.006121524625732965), (1252, 0.002905757838654479), (1253, 0.010369931568411341), (1254, 0.032182342234023), (1255, 0.08023179766941356), (1256, 0.04967227996461306), (1257, 0.017860806725063377), (1258, 0.0), (1259, 0.02964732991535209), (1260, 0.027087715541865464), (1261, 0.02363717792737512), (1262, 0.007575967163970635), (1263, 0.013091592394276751), (1264, 0.003532835685560444), (1265, 0.02119047310983265), (1266, 0.007749794416922408), (1267, 0.011195503955430623), (1268, 0.036556040905443635), (1269, 0.013254254216370144), (1270, 0.0), (1271, 0.054200064617563284), (1272, 0.02072417247527868), (1273, 0.03261184167480028), (1274, 0.03002328691103799), (1275, 0.0033840759258719527), (1276, 0.0), (1277, 0.005173162674592155), (1278, 0.07652488079101198), (1279, 0.006395540737198757), (1280, 0.0), (1281, 0.043868001827019394), (1282, 0.025104212417624686), (1283, 0.0), (1284, 0.03830983021947711), (1285, 0.0), (1286, 0.013623767556801348), (1287, 0.0), (1288, 0.017365960765380866), (1289, 0.03531048850881741), (1290, 0.08436383725103312), (1291, 0.003691251856029951), (1292, 0.02751808385370186), (1293, 0.018432774426710187), (1294, 0.0030107746853173987), (1295, 0.06522492743219813), (1296, 0.07885796193034197), (1297, 0.007976569319644867), (1298, 0.050134035870297765), (1299, 0.019520452402031385), (1300, 0.0033695663378863574), (1301, 0.01811010739160753), (1302, 0.018824503479225596), (1303, 0.002364632964601702), (1304, 0.006920094403095531), (1305, 0.008194282839387243), (1306, 0.053278009826531116), (1307, 0.007148501409835673), (1308, 0.013316032659816134), (1309, 0.006821052472035787), (1310, 0.017308555486780366), (1311, 0.004470528654255655), (1312, 0.012248339960867518), (1313, 0.013694045380392447), (1314, 0.03957355701339314), (1315, 0.01606155842130089), (1316, 0.05066450608610355), (1317, 0.05050678774469903), (1318, 0.02598638990163927), (1319, 0.020337473670094176), (1320, 0.003128190341080631), (1321, 0.004586255659796791), (1322, 0.03877713426561131), (1323, 0.0034238302908798186), (1324, 0.021791292684252152), (1325, 0.0031788596950955094), (1326, 0.01916919936885123), (1327, 0.026715056692780674), (1328, 0.0), (1329, 0.07107698408014976), (1330, 0.003911827686281106), (1331, 0.003652516741850115), (1332, 0.04696317440443744), (1333, 0.004249512743398053), (1334, 0.0030107260764258045), (1335, 0.0029620511386482273), (1336, 0.029756274457936535), (1337, 0.007059652546681089), (1338, 0.022848835779732853), (1339, 0.039804115137817946), (1340, 0.03518660534473768), (1341, 0.020401107526714795), (1342, 0.025732030993204334), (1343, 0.0), (1344, 0.03614897210386759), (1345, 0.13193170463280834), (1346, 0.026627446100448666), (1347, 0.010158072308079559), (1348, 0.03153879704295784), (1349, 0.03584504353301047), (1350, 0.00965505378560852), (1351, 0.03920852245134759), (1352, 0.0024912726413659336), (1353, 0.023262036941408434), (1354, 0.0), (1355, 0.0030033864504616994), (1356, 0.013718692312932856), (1357, 0.0027027580878807157), (1358, 0.0), (1359, 0.11024273586054817), (1360, 0.002669243050203083), (1361, 0.039108154677556066), (1362, 0.060913701266667564), (1363, 0.05807877360705007), (1364, 0.03659514665520494), (1365, 0.008370028821640644), (1366, 0.00894096705393457), (1367, 0.03554287906880901), (1368, 0.0038448348925542333), (1369, 0.014835001120640316), (1370, 0.0059648454593676774), (1371, 0.004426589615626883), (1372, 0.013036086197042046), (1373, 0.0038606109479571277), (1374, 0.02271403356196388), (1375, 0.025596673102354667), (1376, 0.05951139149139247), (1377, 0.008493472868159487), (1378, 0.009903479851729553), (1379, 0.030838746016983262), (1380, 0.02140718947941308), (1381, 0.060654669426678576), (1382, 0.08768122813640267), (1383, 0.003310682809857596), (1384, 0.015839011141809325), (1385, 0.02383466438083825), (1386, 0.02063637870721552), (1387, 0.017554200559730802), (1388, 0.004002299014739409), (1389, 0.004196271120018448), (1390, 0.030106260862935937), (1391, 0.0), (1392, 0.01904401096383406), (1393, 0.05647300255185107), (1394, 0.030947442642113368), (1395, 0.0), (1396, 0.007943959131354577), (1397, 0.005982266169837524), (1398, 0.011474182099954879), (1399, 0.0), (1400, 0.05320213518223767), (1401, 0.0361967152901863), (1402, 0.014103336998272663), (1403, 0.02818598552807552), (1404, 0.002772322450553138), (1405, 0.009638987851001011), (1406, 0.0), (1407, 0.019248663849486553), (1408, 0.05113686279948585), (1409, 0.03345568674621564), (1410, 0.04272570041871985), (1411, 0.030550386264098426), (1412, 0.041002896129428354), (1413, 0.010685729243906341), (1414, 0.021660137569063206), (1415, 0.008120901369069093), (1416, 0.0028026684803999524), (1417, 0.00821893242349258), (1418, 0.039357169425440326), (1419, 0.0), (1420, 0.01153402073240034), (1421, 0.009555408222275786), (1422, 0.010615500728235753), (1423, 0.05515972715868058), (1424, 0.012517328676757946), (1425, 0.03438574758382486), (1426, 0.0), (1427, 0.011391783305244974), (1428, 0.009969179059738386), (1429, 0.023376810068683054), (1430, 0.08244527730758414), (1431, 0.01546360562697035), (1432, 0.02529460265109492), (1433, 0.0027285477775912804), (1434, 0.00267768342887441), (1435, 0.0), (1436, 0.034320430499278534), (1437, 0.06846427531365533), (1438, 0.04889083866494555), (1439, 0.003070808482870143), (1440, 0.0332262145543785), (1441, 0.12496195370151643), (1442, 0.04270894437481326), (1443, 0.029371239448974504), (1444, 0.003965300511998142), (1445, 0.09199738196317352), (1446, 0.040415323541251096), (1447, 0.003930522286083415), (1448, 0.03295903335055926), (1449, 0.0), (1450, 0.002527410442033493), (1451, 0.014184958060508145), (1452, 0.06665329867871793), (1453, 0.014933552913415363), (1454, 0.08631538939536713), (1455, 0.014592722361275106), (1456, 0.057474374720928395), (1457, 0.02427407652415807), (1458, 0.029303251114286097), (1459, 0.04737203176135155), (1460, 0.05561088904302405), (1461, 0.011710745650238873), (1462, 0.024701895767761557), (1463, 0.019696403633747174), (1464, 0.0024024204494252624), (1465, 0.043149796832723505), (1466, 0.0), (1467, 0.01887935464690713), (1468, 0.03928553242494164), (1469, 0.025900047502607892), (1470, 0.0), (1471, 0.036407424245024585), (1472, 0.01002713554315698), (1473, 0.004036289798050316), (1474, 0.0032707468177672876), (1475, 0.07271169447758964), (1476, 0.05814115730516408), (1477, 0.03307623165671657), (1478, 0.04271887998534279), (1479, 0.08844795594682936), (1480, 0.06250929353628382), (1481, 0.002838595207959658), (1482, 0.00958345278468792), (1483, 0.002910100188487248), (1484, 0.025351481872562885), (1485, 0.04864500131970051), (1486, 0.012754184556759031), (1487, 0.003778189185692562), (1488, 0.030476316346745976), (1489, 0.015615391259481817), (1490, 0.003807448496956575), (1491, 0.004342631543591225), (1492, 0.019123276430066682), (1493, 0.09072691264772671), (1494, 0.01495220028611646), (1495, 0.004054207873629298), (1496, 0.01926137524343072), (1497, 0.03725643469442273), (1498, 0.0032605942669265545), (1499, 0.0032831049863380098), (1500, 0.010403253799047064), (1501, 0.04687786916884075), (1502, 0.0), (1503, 0.044638549308924365), (1504, 0.020831947183725746), (1505, 0.0327089638989993), (1506, 0.059770331074360306), (1507, 0.004563367992141249), (1508, 0.007848850069533415), (1509, 0.016262173470061193), (1510, 0.06675511204994886), (1511, 0.03432908730929608), (1512, 0.017912342020565197), (1513, 0.007206286928752076), (1514, 0.009744308476982093), (1515, 0.007645710744096761), (1516, 0.007124375494381114), (1517, 0.0039674276857137045), (1518, 0.06665953103292316), (1519, 0.009736542070460881), (1520, 0.004277764967671722), (1521, 0.003441662683103443), (1522, 0.0), (1523, 0.020708591521389486), (1524, 0.047607684330519526), (1525, 0.0040857700871196855), (1526, 0.011067042562420675), (1527, 0.0028702966695487073), (1528, 0.06880547874454382), (1529, 0.0), (1530, 0.005715447143704229), (1531, 0.0), (1532, 0.023748070120733576), (1533, 0.03543261951772636), (1534, 0.028786457747802214), (1535, 0.02727553619401197), (1536, 0.028927227863154676), (1537, 0.041905242605085886), (1538, 0.04492514479368733), (1539, 0.02271843501009852), (1540, 0.0), (1541, 0.021545315759258082), (1542, 0.004125814653033087), (1543, 0.02503442756094209), (1544, 0.05916572720044878), (1545, 0.013906138828909932), (1546, 0.0), (1547, 0.0034158630511205764), (1548, 0.0), (1549, 0.05407098273858874), (1550, 0.05355967177535722), (1551, 0.01780208711592577), (1552, 0.02504182840042441), (1553, 0.03713735499773888), (1554, 0.0), (1555, 0.0027302672202007775), (1556, 0.0), (1557, 0.028754567864461452), (1558, 0.00921389066914131), (1559, 0.018203556980946188), (1560, 0.09949997049832625), (1561, 0.031044538560545336), (1562, 0.019482260074832836), (1563, 0.04389911835357614), (1564, 0.00408125363685562), (1565, 0.014437746958520424), (1566, 0.00698465339439525), (1567, 0.045813769900761823), (1568, 0.0), (1569, 0.06649804813011749), (1570, 0.0030843957494751883), (1571, 0.011999649343466449), (1572, 0.040978910567646826), (1573, 0.0), (1574, 0.002959633223852211), (1575, 0.05069545245336911), (1576, 0.04721976254034954), (1577, 0.01741128958428996), (1578, 0.004197044139035729), (1579, 0.042145605135369954), (1580, 0.0032362866289748953), (1581, 0.0), (1582, 0.016737839436572536), (1583, 0.012687961194160708), (1584, 0.0), (1585, 0.041512429807263315), (1586, 0.003183638116520793), (1587, 0.004056335950985975), (1588, 0.0), (1589, 0.04933154422230894), (1590, 0.0), (1591, 0.0), (1592, 0.0412041256381005), (1593, 0.0035542473222475207), (1594, 0.10499999264095312), (1595, 0.01217143734579985), (1596, 0.0042329789747450625), (1597, 0.03535853611571976), (1598, 0.00682886571408264), (1599, 0.028332536942184135), (1600, 0.014325163120364496), (1601, 0.04614045531460191), (1602, 0.02259890687430521), (1603, 0.029779562703946588), (1604, 0.013162486305700632), (1605, 0.008954663002163), (1606, 0.029148393050139717), (1607, 0.016080484495666198), (1608, 0.02050568754666182), (1609, 0.01841928519886565), (1610, 0.010151093869084112), (1611, 0.01928854722374484), (1612, 0.08238125768316244), (1613, 0.061721695543374006), (1614, 0.050534827222146306), (1615, 0.031032454080667644), (1616, 0.04955804721281779), (1617, 0.002863226394797789), (1618, 0.010616298958185217), (1619, 0.018658155887474256), (1620, 0.002742380783248649), (1621, 0.0028912665917210146), (1622, 0.03188544269256442), (1623, 0.0), (1624, 0.0342870944980193), (1625, 0.002637253650876676), (1626, 0.022952869169110972), (1627, 0.030234292379540492), (1628, 0.009069338989393364), (1629, 0.05014676507474406), (1630, 0.0), (1631, 0.04644097781182243), (1632, 0.014479036984407705), (1633, 0.0), (1634, 0.01772301982007173), (1635, 0.0), (1636, 0.0), (1637, 0.007420452205984638), (1638, 0.0354608544013952), (1639, 0.009281726175542265), (1640, 0.05511819334400235), (1641, 0.0027196907055513403), (1642, 0.006402516186611435), (1643, 0.003079070840220117), (1644, 0.011568070139843102), (1645, 0.012993059303333714), (1646, 0.017525465000757807), (1647, 0.04974817485917302), (1648, 0.007402089398831876), (1649, 0.0), (1650, 0.009763404624154058), (1651, 0.0), (1652, 0.003534661449525128), (1653, 0.020214544325478968), (1654, 0.2568240694783023), (1655, 0.08484358489502541), (1656, 0.007931187825592122), (1657, 0.0), (1658, 0.03854185190558803), (1659, 0.0), (1660, 0.00722793123133395), (1661, 0.0209957363994229), (1662, 0.007079802330873248), (1663, 0.006517067167214483), (1664, 0.02992304094500062), (1665, 0.0027460515765177847), (1666, 0.026058244429038636), (1667, 0.0027029347563289033), (1668, 0.05039202469791114), (1669, 0.026265107862207596), (1670, 0.0030868521861073823), (1671, 0.03469018722622119), (1672, 0.0026848473803798203), (1673, 0.00370981944963413), (1674, 0.0), (1675, 0.0026718160834051418), (1676, 0.019388983940781715), (1677, 0.03287229033703353), (1678, 0.05724743186177634), (1679, 0.004317717562343293), (1680, 0.01882624761250008), (1681, 0.03561155565973074), (1682, 0.05677786871012439), (1683, 0.0074026699137295544), (1684, 0.03116611450988575), (1685, 0.018523853148862623), (1686, 0.09313625380410527), (1687, 0.003109603664148221), (1688, 0.04459701443480095), (1689, 0.0041808956944013485), (1690, 0.1411183044856927), (1691, 0.0025024775124208986), (1692, 0.02197186448223325), (1693, 0.051418541049267526), (1694, 0.00353808706720306), (1695, 0.02273905797475414), (1696, 0.05358337949365075), (1697, 0.0041018375651209445), (1698, 0.030193349975804668), (1699, 0.009098977111225976), (1700, 0.01953477611967342), (1701, 0.01792308136682625), (1702, 0.004141796172283112), (1703, 0.018151343795577098), (1704, 0.04056591736933489), (1705, 0.0), (1706, 0.04227930442662524), (1707, 0.04476247967241142), (1708, 0.041016972461193284), (1709, 0.003735740417234553), (1710, 0.025615423826295475), (1711, 0.024384989221888212), (1712, 0.011254504284230032), (1713, 0.008625714203234042), (1714, 0.07049590715596701), (1715, 0.013941277287960394), (1716, 0.020225278287569065), (1717, 0.033620478637379846), (1718, 0.044982472816659534), (1719, 0.03420025769943418), (1720, 0.01047467589349346), (1721, 0.03792007668911662), (1722, 0.11122585286104117), (1723, 0.023837516667405922), (1724, 0.014294266983345884), (1725, 0.0), (1726, 0.004089212913659722), (1727, 0.03029547099906936), (1728, 0.0), (1729, 0.028822131159407315), (1730, 0.009599221897794274), (1731, 0.03464055377413144), (1732, 0.023279727043315383), (1733, 0.007585081858913144), (1734, 0.00417548058884418), (1735, 0.022462389486032453), (1736, 0.0030702797356988495), (1737, 0.03512405769383873), (1738, 0.046348185611423266), (1739, 0.0026370685285642833), (1740, 0.04240368571276155), (1741, 0.004017189314147979), (1742, 0.0027730974753806315), (1743, 0.1344140940385739), (1744, 0.04420142164999251), (1745, 0.0), (1746, 0.017321999387842756), (1747, 0.07201251852008791), (1748, 0.0034337621928365184), (1749, 0.0), (1750, 0.01296000091373254), (1751, 0.019310673124708987), (1752, 0.011989734754460264), (1753, 0.0), (1754, 0.00323079790687724), (1755, 0.0), (1756, 0.01678212723483751), (1757, 0.018318443677631288), (1758, 0.027153649555809786), (1759, 0.03956422294587085), (1760, 0.002711607636969665), (1761, 0.0077627050156466385), (1762, 0.10504097213816439), (1763, 0.02934379039260625), (1764, 0.03443690925401862), (1765, 0.007154824738415398), (1766, 0.04713916174814526), (1767, 0.04561090220057566), (1768, 0.03486454642966513), (1769, 0.01879137780457048), (1770, 0.0081679545277812), (1771, 0.010689203355172101), (1772, 0.02082493994265643), (1773, 0.02487870379765777), (1774, 0.08272217233448603), (1775, 0.06338957749206749), (1776, 0.025966172130677798), (1777, 0.02602435250776015), (1778, 0.05279053690123064), (1779, 0.056713302436272435), (1780, 0.04887832775035163), (1781, 0.061960423360235155), (1782, 0.0320471264473298), (1783, 0.01795863446811662), (1784, 0.025223099730125795), (1785, 0.017595829152106265), (1786, 0.012058549568116729), (1787, 0.12268379084591123), (1788, 0.0323194311316546), (1789, 0.022489168983332385), (1790, 0.013805819555395359), (1791, 0.08228123006156829), (1792, 0.008129613606885109), (1793, 0.02940004865212416), (1794, 0.0036463535124518004), (1795, 0.025600935947647858), (1796, 0.0026759517931443555), (1797, 0.030651366015145173), (1798, 0.04494090168763107), (1799, 0.07292611094425452), (1800, 0.0), (1801, 0.002463037483508177), (1802, 0.03901693248796976), (1803, 0.13450309830910612), (1804, 0.01099727474660173), (1805, 0.0031953922402267556), (1806, 0.09339940428366479), (1807, 0.025140361413384042), (1808, 0.0026302719488776644), (1809, 0.024485573167989532), (1810, 0.0), (1811, 0.02671466919034144), (1812, 0.027125452491172666), (1813, 0.0028473464206290305), (1814, 0.0027004279688874603), (1815, 0.0), (1816, 0.04271499090274424), (1817, 0.0), (1818, 0.032030915870438534), (1819, 0.009234316253221464), (1820, 0.03879517241106803), (1821, 0.05369707450620979), (1822, 0.007302572310792505), (1823, 0.0), (1824, 0.003745785292037637), (1825, 0.017023551806803795), (1826, 0.0026520636660966254), (1827, 0.056803707648651065), (1828, 0.002530644474212789), (1829, 0.04675509225754376), (1830, 0.0061296079348652525), (1831, 0.05231016295262253), (1832, 0.0), (1833, 0.01840424708090108), (1834, 0.003950547995962968), (1835, 0.0), (1836, 0.0044245172901083265), (1837, 0.0039458355923154), (1838, 0.00906313032937404), (1839, 0.003805504795346252), (1840, 0.0), (1841, 0.007900641845961513), (1842, 0.003898966233970838), (1843, 0.02055788451140379), (1844, 0.0043750276663402626), (1845, 0.027160958543289763), (1846, 0.0), (1847, 0.040714564390244595), (1848, 0.007446941667212704), (1849, 0.026267718317890026), (1850, 0.036738378660507554), (1851, 0.01446779226322738), (1852, 0.0074908597562324515), (1853, 0.0702200798320834), (1854, 0.025713046791309573), (1855, 0.0037272851173172587), (1856, 0.02582440847348355), (1857, 0.0), (1858, 0.022858618651635153), (1859, 0.0), (1860, 0.09677691233956306), (1861, 0.01971091676728943), (1862, 0.0032846704472956918), (1863, 0.01564308589439168), (1864, 0.010127054897001192), (1865, 0.03813172189551721), (1866, 0.010823029164796227), (1867, 0.0402743430457891), (1868, 0.0074641588064293845), (1869, 0.034222337086983946), (1870, 0.03576566511510358), (1871, 0.06707945903468056), (1872, 0.022686147890290567), (1873, 0.060866017471640894), (1874, 0.003169564215201967), (1875, 0.01607767836655896), (1876, 0.023941476699885313), (1877, 0.006601250749767484), (1878, 0.08222975468165249), (1879, 0.004031487214706013), (1880, 0.029698967058933375), (1881, 0.062414048421005355), (1882, 0.022761500754128274), (1883, 0.009039205907575346), (1884, 0.002741241881046474), (1885, 0.011613762798027855), (1886, 0.0023310913717989054), (1887, 0.0033236141474355854), (1888, 0.04893976196364672), (1889, 0.0040457037766358775), (1890, 0.03027819753111048), (1891, 0.038552351816040914), (1892, 0.0026631605198923795), (1893, 0.01886041975509128), (1894, 0.01789363217105122), (1895, 0.003753896089623425), (1896, 0.0031113269370446075), (1897, 0.07562453943417499), (1898, 0.0037261543221214764), (1899, 0.019108706529423772), (1900, 0.0038365684271091235), (1901, 0.06451796757857074), (1902, 0.022628447224506378), (1903, 0.06623052460843142), (1904, 0.05187399297257186), (1905, 0.015150767787670423), (1906, 0.003998466265556266), (1907, 0.037219559218262234), (1908, 0.007636584774750778), (1909, 0.03428959687687512), (1910, 0.011215280404418541), (1911, 0.06868277750081762), (1912, 0.003815229542361305), (1913, 0.04584108849763077), (1914, 0.003745146472984396), (1915, 0.013791202434780908), (1916, 0.020491480133853095), (1917, 0.004090563611422547), (1918, 0.04106085582411613), (1919, 0.04686459144559289), (1920, 0.03551921264405661), (1921, 0.03262610278091206), (1922, 0.002960637330399553), (1923, 0.007682865638286615), (1924, 0.025624972144086454), (1925, 0.047985641848582575), (1926, 0.0358872117513472), (1927, 0.0), (1928, 0.004505134839103826), (1929, 0.04521490157669471), (1930, 0.049585974433240344), (1931, 0.03343169050137775), (1932, 0.015171215388407563), (1933, 0.0), (1934, 0.024145470774846467), (1935, 0.07993352234033795), (1936, 0.04603706039807051), (1937, 0.0), (1938, 0.04112872687957579), (1939, 0.005288481181608012), (1940, 0.0), (1941, 0.004769499965727383), (1942, 0.0709618896886588), (1943, 0.006021286840225028), (1944, 0.02077898327215697), (1945, 0.03004268034280673), (1946, 0.05036394093039476), (1947, 0.008030638615435579), (1948, 0.05974260240785919), (1949, 0.025735327867425745), (1950, 0.04367113780809424), (1951, 0.08728571652105441), (1952, 0.0), (1953, 0.01729162952137639), (1954, 0.02458757416066555), (1955, 0.011516583938903112), (1956, 0.011089924260052366), (1957, 0.036571668935562206), (1958, 0.0), (1959, 0.04699400272997459), (1960, 0.0032472246285728435), (1961, 0.034792561967330306), (1962, 0.0), (1963, 0.02828721995713271), (1964, 0.021664452888662773), (1965, 0.029229130231285053), (1966, 0.0), (1967, 0.0235866508107465), (1968, 0.0034442424902495134), (1969, 0.018765817725049202), (1970, 0.021430223981178324), (1971, 0.030477917053316223), (1972, 0.0), (1973, 0.05224187033277249), (1974, 0.06497420471788286), (1975, 0.0), (1976, 0.0), (1977, 0.08656848195176019), (1978, 0.01292505527459099), (1979, 0.040644269289845686), (1980, 0.057142475038764455), (1981, 0.04341050027747043), (1982, 0.022242093842821876), (1983, 0.05032509926217209), (1984, 0.010077106430734414), (1985, 0.01063931705552244), (1986, 0.011453469483639279), (1987, 0.003657909600622603), (1988, 0.01439690324448928), (1989, 0.002355625044805266), (1990, 0.021863905207711358), (1991, 0.024345094888280832), (1992, 0.05834649926099395), (1993, 0.049125493640815476), (1994, 0.036056451124099845), (1995, 0.003153639684196854), (1996, 0.03173231751513639), (1997, 0.043767461219088734), (1998, 0.0), (1999, 0.0045013984900520694), (2000, 0.03896519815510453), (2001, 0.009441042169533446), (2002, 0.004170789147780848), (2003, 0.02075241115232295), (2004, 0.009315910518555306), (2005, 0.017244080535936276), (2006, 0.009350308436072341), (2007, 0.025079780817218168), (2008, 0.010239454245606435), (2009, 0.01298561902757371), (2010, 0.016370202456230224), (2011, 0.01592016428192505), (2012, 0.03218144725994706), (2013, 0.006052252498988012), (2014, 0.014423291736447968), (2015, 0.0), (2016, 0.021519582180842836), (2017, 0.0), (2018, 0.0032503555059454443), (2019, 0.027791406482670544), (2020, 0.006479522358823073), (2021, 0.004313446440640727), (2022, 0.020138127872787355), (2023, 0.0027618484221346197), (2024, 0.002808481555705851), (2025, 0.003287239721064271), (2026, 0.010955281428152362), (2027, 0.03028961089598915), (2028, 0.0), (2029, 0.013130717939200273), (2030, 0.0), (2031, 0.002646548695921421), (2032, 0.055528291950991654), (2033, 0.003624744914811437), (2034, 0.002416294808191529), (2035, 0.05732866578182449), (2036, 0.06774342870044645), (2037, 0.04100078324558738), (2038, 0.0), (2039, 0.06036925659340938), (2040, 0.029874624823742597), (2041, 0.004041370183266185), (2042, 0.00415825506433511), (2043, 0.01563038040577874), (2044, 0.007413184354112143), (2045, 0.032394425518664456), (2046, 0.0039799798147614794), (2047, 0.022226800881553963), (2048, 0.050811952341718036), (2049, 0.05418857403396647), (2050, 0.0037997518045224323), (2051, 0.12407380309766741), (2052, 0.017884770961553872), (2053, 0.023157168051231622), (2054, 0.0), (2055, 0.01642741065786453), (2056, 0.04628260922859059), (2057, 0.061480020723941056), (2058, 0.02925638159338059), (2059, 0.0034754159284921897), (2060, 0.053903094924078195), (2061, 0.0029705357926158612), (2062, 0.007355319515424204), (2063, 0.003612718252177744), (2064, 0.04155557564342707), (2065, 0.002634931104895288), (2066, 0.0), (2067, 0.030776801359380896), (2068, 0.05732922295091024), (2069, 0.05781344591047839), (2070, 0.009005992965304317), (2071, 0.0037072274405521256), (2072, 0.02606375815658067), (2073, 0.0029890607066536306), (2074, 0.00670604600355141), (2075, 0.06468649065837329), (2076, 0.03319167000818872), (2077, 0.004859881998894841), (2078, 0.016143327488952506), (2079, 0.004549056912988496), (2080, 0.002833658485207112), (2081, 0.02623279576987068), (2082, 0.022236842146222895), (2083, 0.0030692693135902583), (2084, 0.0), (2085, 0.010957088906695535), (2086, 0.011677267812492894), (2087, 0.014195723748379335), (2088, 0.016981763849445438), (2089, 0.0034462266703139937), (2090, 0.0041589704808817594), (2091, 0.019716066260673386), (2092, 0.004093612682254983), (2093, 0.03422891028748391), (2094, 0.007188283918624943), (2095, 0.021920746290936943), (2096, 0.011222613517123328), (2097, 0.019624864181845326), (2098, 0.028165853620984223), (2099, 0.00646591701670547), (2100, 0.010112685578986869), (2101, 0.020310701076288636), (2102, 0.02397332044579474), (2103, 0.050045680578365906), (2104, 0.051224726605125066), (2105, 0.036488526607265766), (2106, 0.015453688124454131), (2107, 0.02308902346460355), (2108, 0.015424440594411566), (2109, 0.03516348409860434), (2110, 0.07148689134171483), (2111, 0.030520013635759374), (2112, 0.011621147016603103), (2113, 0.009062649023627604), (2114, 0.05056561981031135), (2115, 0.0), (2116, 0.07957938312159377), (2117, 0.0028132272594855634), (2118, 0.08116775228215452), (2119, 0.007046738655279306), (2120, 0.04306793281236572), (2121, 0.02266246656928087), (2122, 0.021074742243516763), (2123, 0.0337893952792027), (2124, 0.039000784113106465), (2125, 0.003644580411301907), (2126, 0.003024608778339182), (2127, 0.0024621081316149557), (2128, 0.003918635550912749), (2129, 0.05447925920252757), (2130, 0.0), (2131, 0.051995042616991866), (2132, 0.048676183497731666), (2133, 0.05615359632925392), (2134, 0.023186537226157475), (2135, 0.0), (2136, 0.0), (2137, 0.009804763330107527), (2138, 0.004516507466951994), (2139, 0.01905061231891157), (2140, 0.03463154641708919), (2141, 0.049687302334254904), (2142, 0.022678907195414533), (2143, 0.09714660001434085), (2144, 0.03239771537621413), (2145, 0.020570976714781808), (2146, 0.005911908055054118), (2147, 0.12023456326810004), (2148, 0.01130062808687578), (2149, 0.03531648193900793), (2150, 0.003858953410371136), (2151, 0.011624366600804183), (2152, 0.044484267579419715), (2153, 0.0040067284236674746), (2154, 0.03628198684336301), (2155, 0.017814168897765124), (2156, 0.029536804918462743), (2157, 0.01697991195777642), (2158, 0.07079684489896934), (2159, 0.05443766777897621), (2160, 0.03300304632337303), (2161, 0.058033307740184815), (2162, 0.014443178778726624), (2163, 0.02121112028809454), (2164, 0.004460331609743915), (2165, 0.0), (2166, 0.05382387789524619), (2167, 0.04669527663787407), (2168, 0.009382204929226513), (2169, 0.009975969015906805), (2170, 0.010253180381089846), (2171, 0.047373368523389414), (2172, 0.0), (2173, 0.0028880162565388446), (2174, 0.010436572920238078), (2175, 0.007014499658126524), (2176, 0.003237626944390337), (2177, 0.02817489057098329), (2178, 0.02334272401317998), (2179, 0.0037435447953244813), (2180, 0.012021587362575213), (2181, 0.0), (2182, 0.0), (2183, 0.025949422145391924), (2184, 0.0), (2185, 0.050186863707419246), (2186, 0.012427381330094104), (2187, 0.04390057471944487), (2188, 0.029011425406503255), (2189, 0.004116942960413089), (2190, 0.04333930627338607), (2191, 0.01573323604012369), (2192, 0.10074257733769174), (2193, 0.043229217595262305), (2194, 0.004132991603684197), (2195, 0.03417593119740409), (2196, 0.014222847339788281), (2197, 0.04393327222334198), (2198, 0.022740871155087303), (2199, 0.009005028298589825), (2200, 0.004072210821827385), (2201, 0.012927486800406465), (2202, 0.06485471697363204), (2203, 0.030929578155277377), (2204, 0.0033780654620752704), (2205, 0.033001368437582265), (2206, 0.033093255696642086), (2207, 0.0036482569686141155), (2208, 0.029658939730577955), (2209, 0.10151066768826562), (2210, 0.0029819115508220766), (2211, 0.04137554714504689), (2212, 0.024959084937270726), (2213, 0.011993783037461176), (2214, 0.003188819642725537), (2215, 0.0037403904798136776), (2216, 0.0028743488243720356), (2217, 0.004171757278830352), (2218, 0.004430185303370779), (2219, 0.026879060144374415), (2220, 0.0), (2221, 0.05777443749658734), (2222, 0.004116075235742771), (2223, 0.007865587315841801), (2224, 0.0027830013803356694), (2225, 0.0036499355535372503), (2226, 0.015849069272691495), (2227, 0.049729360932728936), (2228, 0.0051575592277770645), (2229, 0.0032051127009118433), (2230, 0.01017937381559074), (2231, 0.0), (2232, 0.0), (2233, 0.0), (2234, 0.05400202680734929), (2235, 0.01364159461456588), (2236, 0.029319435542985908), (2237, 0.008697533704728016), (2238, 0.0), (2239, 0.027209653330900287), (2240, 0.012195175425126081), (2241, 0.022649866898543584), (2242, 0.013208909982836584), (2243, 0.0), (2244, 0.008354410548801101), (2245, 0.0), (2246, 0.0), (2247, 0.0), (2248, 0.0026366929522335077), (2249, 0.011465940441626729), (2250, 0.023914510223473153), (2251, 0.004080676006648646), (2252, 0.0), (2253, 0.008317035968729845), (2254, 0.03307172324025036), (2255, 0.003783867394163993), (2256, 0.00944928432625699), (2257, 0.02990961395909035), (2258, 0.11089829062725157), (2259, 0.0), (2260, 0.00740026360407184), (2261, 0.02524742238824159), (2262, 0.0035900785213566974), (2263, 0.016207806699642995), (2264, 0.0246592847359983), (2265, 0.07049705120088165), (2266, 0.012204712449471742), (2267, 0.0), (2268, 0.015653845718107153), (2269, 0.035915543813625626), (2270, 0.03286796316080684), (2271, 0.0037712574727506573), (2272, 0.0037014162549627097), (2273, 0.0), (2274, 0.03351243598469793), (2275, 0.0), (2276, 0.007802731412638394), (2277, 0.030437188275873977), (2278, 0.0), (2279, 0.026587218596503946), (2280, 0.03813815549653818), (2281, 0.005286783469349545), (2282, 0.00511988525027133), (2283, 0.0), (2284, 0.006955120527726871), (2285, 0.00947427396705037), (2286, 0.00374805846993689), (2287, 0.014091944195379198), (2288, 0.0031021869174692606), (2289, 0.0029125389935395637), (2290, 0.025849713625718616), (2291, 0.036149762295128285), (2292, 0.03185049228265184), (2293, 0.0031968666282980287), (2294, 0.013124742338058869), (2295, 0.0029794775896698827), (2296, 0.0033474863614001843), (2297, 0.05392291485160394), (2298, 0.020226875784852775), (2299, 0.08036663278893841), (2300, 0.0481965982355327), (2301, 0.04327756654856157), (2302, 0.015784373426692443), (2303, 0.013688661280104797), (2304, 0.008904857719815232), (2305, 0.004557646390888326), (2306, 0.07298422514773568), (2307, 0.0040874860798619), (2308, 0.032620043680177145), (2309, 0.037129208721664336), (2310, 0.003921294976439296), (2311, 0.026323459626846294), (2312, 0.005737130901501322), (2313, 0.02489685685557491), (2314, 0.03669637565227141), (2315, 0.025792859884584917), (2316, 0.0), (2317, 0.0027136744760228385), (2318, 0.006271977900454168), (2319, 0.035597313239585274), (2320, 0.016155398332396438), (2321, 0.0030132241277405192), (2322, 0.019966644008344272), (2323, 0.04328442482457775), (2324, 0.007568106275548854), (2325, 0.0041368863874178445), (2326, 0.0), (2327, 0.00371534323187876), (2328, 0.008565856803031215), (2329, 0.003908658053683345), (2330, 0.01544762262286828), (2331, 0.021386307850824408), (2332, 0.0), (2333, 0.013051727085768839), (2334, 0.09303265804992719), (2335, 0.04427943308880197), (2336, 0.003962580457280618), (2337, 0.0), (2338, 0.008955223336244982), (2339, 0.031908124677136475), (2340, 0.038563183460860365), (2341, 0.0), (2342, 0.0), (2343, 0.0), (2344, 0.009932500662526048), (2345, 0.0), (2346, 0.04021502166453612), (2347, 0.012363747595946613), (2348, 0.05172504972735522), (2349, 0.013723909012142805), (2350, 0.003768695686749369), (2351, 0.03382636434723329), (2352, 0.00898785490664859), (2353, 0.0221161805555438), (2354, 0.016224671153164512), (2355, 0.022452456022983278), (2356, 0.0032785974532111364), (2357, 0.028181313712580324), (2358, 0.0), (2359, 0.03937811357558864), (2360, 0.08799137081763657), (2361, 0.0031108731031168307), (2362, 0.03141071290307772), (2363, 0.0049245729007604865), (2364, 0.0032039761012928195), (2365, 0.0), (2366, 0.0035339837310227654), (2367, 0.026010264595197875), (2368, 0.04142506579635112), (2369, 0.019492042091225778), (2370, 0.003055524746832071), (2371, 0.004316766286820074), (2372, 0.0), (2373, 0.003323304367212445), (2374, 0.0029723328802414377), (2375, 0.02985165217563103), (2376, 0.04310572232965777), (2377, 0.0031633234248805877), (2378, 0.024395218774249813), (2379, 0.035667261068237255), (2380, 0.004168217466467454), (2381, 0.022853348700538692), (2382, 0.002512344271136336), (2383, 0.022569480544767293), (2384, 0.00443818383681691), (2385, 0.061861744630916926), (2386, 0.010133751585529397), (2387, 0.03120417591825927), (2388, 0.015769630755021274), (2389, 0.0035545654498050595), (2390, 0.01086593521249727), (2391, 0.04568805248784484), (2392, 0.0038293626203924945), (2393, 0.053305716134804115), (2394, 0.007289303454481557), (2395, 0.03012930535684354), (2396, 0.006980669162530413), (2397, 0.038540630260434326), (2398, 0.0), (2399, 0.035308871925052186), (2400, 0.0033172069740960816), (2401, 0.002850336714627055), (2402, 0.041960818787443066), (2403, 0.016728207392587784), (2404, 0.009409180100804448), (2405, 0.025504791775547507), (2406, 0.0034449869739563844), (2407, 0.036526770992998496), (2408, 0.010413856579604521), (2409, 0.07116037952685181), (2410, 0.044897167363392616), (2411, 0.024377266940997202), (2412, 0.008606539880474096), (2413, 0.0), (2414, 0.0), (2415, 0.0120273934681874), (2416, 0.03464865819061078), (2417, 0.012327971207599209), (2418, 0.011160737181010676), (2419, 0.0030812570214757257), (2420, 0.0350175887926665), (2421, 0.007739640367917419), (2422, 0.06840936768745133), (2423, 0.008718134876709102), (2424, 0.0036119674341155506), (2425, 0.0038010780075521714), (2426, 0.026479206422095142), (2427, 0.003406708268286156), (2428, 0.0032366492387744723), (2429, 0.07553737948559325), (2430, 0.010056387368258741), (2431, 0.026321296953619767), (2432, 0.0), (2433, 0.003489652960357418), (2434, 0.016613422064299527), (2435, 0.0039350207987993045), (2436, 0.016221827024098835), (2437, 0.0033289251605513734), (2438, 0.044539266562880826), (2439, 0.00950829257413343), (2440, 0.020684384483167454), (2441, 0.13347398551650497), (2442, 0.0), (2443, 0.03748497737792722), (2444, 0.004064795384148347), (2445, 0.0036677260274080065), (2446, 0.02045134247686356), (2447, 0.043681028323507703), (2448, 0.0038302165232343395), (2449, 0.004010755029144221), (2450, 0.003704464394598726), (2451, 0.0), (2452, 0.03834851287610476), (2453, 0.009109903545300562), (2454, 0.025031197376186774), (2455, 0.005057947047595064), (2456, 0.03759147580332409), (2457, 0.03082394069868378), (2458, 0.004342682258830231), (2459, 0.019728405427367895), (2460, 0.04561163472942292), (2461, 0.05564679168515494), (2462, 0.0), (2463, 0.010349622227153257), (2464, 0.007586975548212231), (2465, 0.02411224285819087), (2466, 0.0030119922461334164), (2467, 0.06068923767097193), (2468, 0.0046560411946821225), (2469, 0.03707973548155378), (2470, 0.0), (2471, 0.030614881697456835), (2472, 0.028851679033983765), (2473, 0.010027550119418221), (2474, 0.02197460973056424), (2475, 0.010659369729563275), (2476, 0.0), (2477, 0.0385383524044309), (2478, 0.007941425153253447), (2479, 0.004449878807086731), (2480, 0.028383542653070297), (2481, 0.026149632185767886), (2482, 0.017923853025993804), (2483, 0.005255327024693995), (2484, 0.003921418653531905), (2485, 0.01848000434119777), (2486, 0.02681033148776742), (2487, 0.01173697302130627), (2488, 0.016983473438902434), (2489, 0.010101193462668885), (2490, 0.03562094711918708), (2491, 0.04858278423642002), (2492, 0.013983821445845045), (2493, 0.0043980232624307525), (2494, 0.05430929139692702), (2495, 0.006917184223273247), (2496, 0.0027427262196922054), (2497, 0.01339332449234405), (2498, 0.0), (2499, 0.008473822384223471), (2500, 0.015297165972942074), (2501, 0.0), (2502, 0.008745174958485284), (2503, 0.007532584259116412), (2504, 0.003890719235925079), (2505, 0.01169325154528685), (2506, 0.0), (2507, 0.007514793721906303), (2508, 0.003298474918561347), (2509, 0.07209676825725767), (2510, 0.013275706013382502), (2511, 0.036239490880859544), (2512, 0.051887632849292604), (2513, 0.02113546453950592), (2514, 0.0035801494739732933), (2515, 0.004947372950980328), (2516, 0.015365400754807322), (2517, 0.050473055851052856), (2518, 0.04111666254813505), (2519, 0.033328089500715995), (2520, 0.002542433165708395), (2521, 0.0), (2522, 0.0031257491702916104), (2523, 0.006887498426373511), (2524, 0.026582261131900094), (2525, 0.002761698293461926), (2526, 0.002399633007292354), (2527, 0.008524987706339787), (2528, 0.06058224490768086), (2529, 0.02017280400520622), (2530, 0.02952651846461151), (2531, 0.014483011547520637), (2532, 0.0), (2533, 0.016302095018515685), (2534, 0.04136344370336646), (2535, 0.015402540041165147), (2536, 0.005205535180493085), (2537, 0.009489865850129418), (2538, 0.02799252501790585), (2539, 0.040154092581326226), (2540, 0.0027952312771918797), (2541, 0.0), (2542, 0.02565043557078745), (2543, 0.03822163534039677), (2544, 0.0), (2545, 0.010969651528989398), (2546, 0.03255484056810329), (2547, 0.13406100927998355), (2548, 0.03393111921783173), (2549, 0.0), (2550, 0.013092209004196432), (2551, 0.020826882366040297), (2552, 0.025511828972548202), (2553, 0.08423014399574257), (2554, 0.006978726550968288), (2555, 0.006670254432224517), (2556, 0.0027195106928997745), (2557, 0.0438664847175291), (2558, 0.013451316729309912), (2559, 0.013029859613144049), (2560, 0.08783550721331661), (2561, 0.007217178185445129), (2562, 0.028064639344910988), (2563, 0.02119760560120073), (2564, 0.04524802820638832), (2565, 0.02666820051238326), (2566, 0.01580423922061304), (2567, 0.0), (2568, 0.012877396463665498), (2569, 0.00683560887187383), (2570, 0.016356155090073956), (2571, 0.02894777281727882), (2572, 0.023813998265005475), (2573, 0.026588799541569653), (2574, 0.03840363113612918), (2575, 0.004355484460035138), (2576, 0.04073779114222383), (2577, 0.0), (2578, 0.05962803468952403), (2579, 0.04909516909570105), (2580, 0.0026191343165685777), (2581, 0.031654643758458854), (2582, 0.04983986968933321), (2583, 0.04070762998602458), (2584, 0.07860004310018959), (2585, 0.014972256483884947), (2586, 0.004037549296113927), (2587, 0.02938223005399962), (2588, 0.06353546430512055), (2589, 0.045549290146690596), (2590, 0.0037095928568881735), (2591, 0.025076515122493547), (2592, 0.025938918506605242), (2593, 0.0027059036339374615), (2594, 0.010269448074734544), (2595, 0.0031810542835509488), (2596, 0.03681167686502459), (2597, 0.006580372577290283), (2598, 0.045379782716588275), (2599, 0.0), (2600, 0.005027529766044958), (2601, 0.015136627432612553), (2602, 0.0024335295221143477), (2603, 0.06871552907241833), (2604, 0.004336697664414082), (2605, 0.019411622540875296), (2606, 0.018158811385848725), (2607, 0.01569331598760735), (2608, 0.006980543150065011), (2609, 0.010572245620085829), (2610, 0.018897824660085195), (2611, 0.04098244234685527), (2612, 0.026009882794569457), (2613, 0.024420810962000234), (2614, 0.04039146099788841), (2615, 0.02599459995016021), (2616, 0.05324105341330041), (2617, 0.06806452809217702), (2618, 0.032872088141268525), (2619, 0.01312962305277884), (2620, 0.0038025541922836587), (2621, 0.07488808015521276), (2622, 0.017845006175006877), (2623, 0.003320201735843022), (2624, 0.02622424779472674), (2625, 0.03895172809934493), (2626, 0.05419208130458814), (2627, 0.008850378294432776), (2628, 0.0038393456279903126), (2629, 0.03889786542416257), (2630, 0.0), (2631, 0.003784309713012338), (2632, 0.010281571757818044), (2633, 0.022564202536159997), (2634, 0.0027404041246014066), (2635, 0.022363953690646053), (2636, 0.0022018750047322283), (2637, 0.052417674085135556), (2638, 0.01196315337366905), (2639, 0.00390980977808648), (2640, 0.0361264465718695), (2641, 0.031082787160763865), (2642, 0.038970070894993485), (2643, 0.012819095444645292), (2644, 0.0303259324277953), (2645, 0.0037744363310391327), (2646, 0.015335933387606027), (2647, 0.0029704719933345692), (2648, 0.02885483209203529), (2649, 0.004142765363447039), (2650, 0.04615842693774387), (2651, 0.0027748209843384266), (2652, 0.010020578895109992), (2653, 0.034604873159515354), (2654, 0.035958227858434846), (2655, 0.0038866800957077256), (2656, 0.005031370623092665), (2657, 0.005837118376047036), (2658, 0.0), (2659, 0.005740099556031932), (2660, 0.00496016179460846), (2661, 0.014918297431655682), (2662, 0.05996227486668935), (2663, 0.014614712299238468), (2664, 0.07889538985816652), (2665, 0.009536146438840163), (2666, 0.045685409693751663), (2667, 0.0054300526306257915), (2668, 0.026371859669616228), (2669, 0.005893206882807509), (2670, 0.05376848756671465), (2671, 0.008052869235541674), (2672, 0.004466490621766595), (2673, 0.03582587694773402), (2674, 0.0026997606374887404), (2675, 0.004177392307686482), (2676, 0.004569495142653238), (2677, 0.09377733712240555), (2678, 0.022632514674346536), (2679, 0.0027752602686779222), (2680, 0.025970536453605607), (2681, 0.08786937184895556), (2682, 0.0), (2683, 0.0), (2684, 0.005770866705673024), (2685, 0.004044182188312499), (2686, 0.0), (2687, 0.06124379068055195), (2688, 0.040183244380879245), (2689, 0.05291102063203501), (2690, 0.023572545858876078), (2691, 0.00790297452151439), (2692, 0.009143071449328686), (2693, 0.07331153184598667), (2694, 0.003906716438932969), (2695, 0.002936466232704907), (2696, 0.04446556529583586), (2697, 0.014362011185424729), (2698, 0.0102585015373176), (2699, 0.010228704421025931), (2700, 0.0), (2701, 0.01774470358698141), (2702, 0.01588310824423005), (2703, 0.028786124193039008), (2704, 0.0501484375464079), (2705, 0.010732411393905128), (2706, 0.030717420713136486), (2707, 0.0034421609506382765), (2708, 0.0077428186757617125), (2709, 0.020506426209702604), (2710, 0.0), (2711, 0.045669823312359144), (2712, 0.046431294088739375), (2713, 0.0), (2714, 0.0031039379406779923), (2715, 0.03730780950043589), (2716, 0.034068807130569104), (2717, 0.0), (2718, 0.0), (2719, 0.0), (2720, 0.008107818519180245), (2721, 0.03799642371285702), (2722, 0.009711400989306975), (2723, 0.0031454143241042786), (2724, 0.016025200828134228), (2725, 0.0031365808919557115), (2726, 0.06667641907122987), (2727, 0.004792964077658966), (2728, 0.006296763500116441), (2729, 0.0261193538950261), (2730, 0.03142254494941307), (2731, 0.0508576516504496), (2732, 0.03011042301296841), (2733, 0.0), (2734, 0.0031672515116457503), (2735, 0.002707896740358959), (2736, 0.010013808089235472), (2737, 0.018331558514186712), (2738, 0.027650295083368647), (2739, 0.014759690295952511), (2740, 0.03616345870650808), (2741, 0.006228704909575786), (2742, 0.02768311242112416), (2743, 0.0025145160961093653), (2744, 0.06833286042076145), (2745, 0.010004679884221691), (2746, 0.02482290122895411), (2747, 0.03355106759978361), (2748, 0.015111653811192076), (2749, 0.01208216599702867), (2750, 0.03801293601120492), (2751, 0.021524085143820773), (2752, 0.028200171307203536), (2753, 0.04239726960027866), (2754, 0.0041778174739846964), (2755, 0.014694699807369926), (2756, 0.004797190888335622), (2757, 0.08295940355713399), (2758, 0.00587522480481412), (2759, 0.01764949946215815), (2760, 0.039090534387068374), (2761, 0.019953846101040777), (2762, 0.03543462816151322), (2763, 0.0038916952442870634), (2764, 0.019798706776305706), (2765, 0.01667562699232427), (2766, 0.03867552434037064), (2767, 0.01749926285196538), (2768, 0.00416902024994841), (2769, 0.058016744115349864), (2770, 0.003295290331417658), (2771, 0.06164035704062568), (2772, 0.0034741807579391484), (2773, 0.0), (2774, 0.04789203927362313), (2775, 0.01345601311013279), (2776, 0.040257972428527945), (2777, 0.00974247750480734), (2778, 0.003546325364982305), (2779, 0.05392286171787798), (2780, 0.0), (2781, 0.004802387427191576), (2782, 0.030295918051568196), (2783, 0.0029515344416977955), (2784, 0.0029977074981061883), (2785, 0.01890597995666485), (2786, 0.007408186077511385), (2787, 0.0037892186312686125), (2788, 0.0), (2789, 0.006314096325264153), (2790, 0.011057449221667471), (2791, 0.04112043955553961), (2792, 0.021961540536548956), (2793, 0.016561343793650343), (2794, 0.01135074821815531), (2795, 0.05982606788660124), (2796, 0.007916769443450803), (2797, 0.017009588071682027), (2798, 0.08365616868710275), (2799, 0.044136515854155435), (2800, 0.002770900577358463), (2801, 0.009021487310272917), (2802, 0.057320625189426024), (2803, 0.03910074252989394), (2804, 0.017265889773759514), (2805, 0.01878390349310447), (2806, 0.030208984114857666), (2807, 0.010756075320417037), (2808, 0.11263430547458847), (2809, 0.02941568905909977), (2810, 0.004466103128789093), (2811, 0.039885241660815675), (2812, 0.07300643020210101), (2813, 0.054333837665455575), (2814, 0.016799668289526268), (2815, 0.0), (2816, 0.019204233321611607), (2817, 0.011690985558134592), (2818, 0.030501779977697884), (2819, 0.011140766362226212), (2820, 0.010129654374809612), (2821, 0.04716403960168307), (2822, 0.06557283191164504), (2823, 0.007545739964085235), (2824, 0.020302158164663346), (2825, 0.09739519454983815), (2826, 0.0029485088533272256), (2827, 0.009783006217452813), (2828, 0.0), (2829, 0.003817897894453082), (2830, 0.037740085679112155), (2831, 0.023832075542943018), (2832, 0.018237529876093343), (2833, 0.003552024715740192), (2834, 0.07956178590341503), (2835, 0.01904366326101089), (2836, 0.01087876270033383), (2837, 0.0), (2838, 0.048429252872048995), (2839, 0.0), (2840, 0.0032710553698490625), (2841, 0.0016381623106009693), (2842, 0.009092593695870595), (2843, 0.012860476876127513), (2844, 0.05116377267843533), (2845, 0.05138603140164799), (2846, 0.008094537182473138), (2847, 0.0), (2848, 0.01209872918629183), (2849, 0.0031005822712801005), (2850, 0.01500906929429974), (2851, 0.0), (2852, 0.03217163296757702), (2853, 0.03761452178759511), (2854, 0.018001111746031192), (2855, 0.009297713755442156), (2856, 0.05066797749452134), (2857, 0.01715408623722168), (2858, 0.06380082411516293), (2859, 0.0659123132489079), (2860, 0.016384428833314004), (2861, 0.00388742836891787), (2862, 0.002733260006908983), (2863, 0.042152778287624856), (2864, 0.0), (2865, 0.0), (2866, 0.010202418408082515), (2867, 0.005923988512022387), (2868, 0.0167692378281104), (2869, 0.0), (2870, 0.013436779714194057), (2871, 0.0), (2872, 0.01599658704250098), (2873, 0.036821913198475185), (2874, 0.0788486042264407), (2875, 0.03601855891537445), (2876, 0.06263867290259513), (2877, 0.052700857598658064), (2878, 0.025849842831804186), (2879, 0.0035717537439607814), (2880, 0.011816799550759004), (2881, 0.04217878650259978), (2882, 0.00751730628519968), (2883, 0.01341318078296976), (2884, 0.033636317679024245), (2885, 0.0), (2886, 0.009456504358706628), (2887, 0.034352832083173065), (2888, 0.003176964360864645), (2889, 0.00403736872588993), (2890, 0.01093732850882485), (2891, 0.015530362055689506), (2892, 0.03218907751886346), (2893, 0.020278328641337003), (2894, 0.045590949809215235), (2895, 0.003510533196875455), (2896, 0.018883557749560166), (2897, 0.01047246931501174), (2898, 0.0), (2899, 0.022529237000067155), (2900, 0.0029235218914772224), (2901, 0.0037655121576110214), (2902, 0.06897386486391298), (2903, 0.023246464524212973), (2904, 0.041213059798717276), (2905, 0.0), (2906, 0.0), (2907, 0.028519344889267592), (2908, 0.03121377458760353), (2909, 0.002860356445285828), (2910, 0.03439702215074508), (2911, 0.028837383282099515), (2912, 0.023930588555500586), (2913, 0.019917654466035186), (2914, 0.00782356692634157), (2915, 0.102412207049041), (2916, 0.0032851160103107555), (2917, 0.031090204633484546), (2918, 0.012790068802399336), (2919, 0.0030297862124786974), (2920, 0.038784018741845394), (2921, 0.022712719322148543), (2922, 0.005422116504487452), (2923, 0.03130079636075431), (2924, 0.02831339143014782), (2925, 0.005554271002672211), (2926, 0.007234733895685337), (2927, 0.0), (2928, 0.055767191308469646), (2929, 0.006774889383428789), (2930, 0.00438136865463), (2931, 0.02535072715736319), (2932, 0.003877697534961206), (2933, 0.01825262964855869), (2934, 0.0029542162690972466), (2935, 0.006746418329844454), (2936, 0.011918982857777597), (2937, 0.00421144878191736), (2938, 0.0), (2939, 0.004963147886111202), (2940, 0.03304446545038741), (2941, 0.005121088236935263), (2942, 0.00911103290516658), (2943, 0.009876274435437376), (2944, 0.015725173495300098), (2945, 0.013603247267491937), (2946, 0.002886300013894603), (2947, 0.0), (2948, 0.03162294038235322), (2949, 0.014370534610088529), (2950, 0.019803241335849354), (2951, 0.008780287991445986), (2952, 0.0), (2953, 0.11419611269036517), (2954, 0.006316534813751779), (2955, 0.0), (2956, 0.0), (2957, 0.019829451386797994), (2958, 0.04471498302373758), (2959, 0.023391662669593527), (2960, 0.03308328265752942), (2961, 0.002886857662040187), (2962, 0.003792089955766084), (2963, 0.055451210184201793), (2964, 0.03406209318640563), (2965, 0.025582716555411344), (2966, 0.012049404420307115), (2967, 0.007872414821524207), (2968, 0.10423090062815056), (2969, 0.03273740988588802), (2970, 0.007373622114393562), (2971, 0.0034673414106846465), (2972, 0.02075526036729286), (2973, 0.04957125764150991), (2974, 0.011128393141254744), (2975, 0.03646507944994089), (2976, 0.006196997664830905), (2977, 0.030744009613350644), (2978, 0.03479227205752333), (2979, 0.07272392671473962), (2980, 0.06602405783085011), (2981, 0.11099700950902101), (2982, 0.01247743190338006), (2983, 0.013837393645716293), (2984, 0.0), (2985, 0.008782413735299727), (2986, 0.03596959889135991), (2987, 0.0033858591491167764), (2988, 0.021706292614935976), (2989, 0.004086669271333832), (2990, 0.005364436628850054), (2991, 0.0), (2992, 0.017305683742310056), (2993, 0.003537479587163255), (2994, 0.004010782583654737), (2995, 0.032475885269517876), (2996, 0.051094230409168426), (2997, 0.0027720837958324003), (2998, 0.0044029696997672325), (2999, 0.01381804389783528), (3000, 0.13618915881575053), (3001, 0.02659442884542887), (3002, 0.020512914580899214), (3003, 0.007684788955984194), (3004, 0.04176708204927239), (3005, 0.021258860900299263), (3006, 0.017851011168358487), (3007, 0.0031331911505934535), (3008, 0.00849215124340971), (3009, 0.03847403169525838), (3010, 0.012969399409230612), (3011, 0.038043276871019466), (3012, 0.0032881658790443902), (3013, 0.06064946726492125), (3014, 0.009357108673214126), (3015, 0.012560278741046736), (3016, 0.011192666950353515), (3017, 0.013026549697331436), (3018, 0.05428591714298859), (3019, 0.0034142028236029726), (3020, 0.008398136246244563), (3021, 0.0), (3022, 0.04431803396515307), (3023, 0.028209819670953505), (3024, 0.013408174799151039), (3025, 0.0), (3026, 0.00764303267523999), (3027, 0.002639152517591756), (3028, 0.0028341504761033583), (3029, 0.0), (3030, 0.013427640155507493), (3031, 0.003582630249800514), (3032, 0.0032828120788383408), (3033, 0.02666745256902263), (3034, 0.060360714363340846), (3035, 0.019734099960023944), (3036, 0.002788382349358903), (3037, 0.007302119726965441), (3038, 0.00416855042609277), (3039, 0.02100260875296442), (3040, 0.009660829498734508), (3041, 0.025631616989792855), (3042, 0.009373178112656953), (3043, 0.03089026197870163), (3044, 0.007540708797420786), (3045, 0.019818061461415896), (3046, 0.010326873143578507), (3047, 0.0), (3048, 0.0), (3049, 0.0), (3050, 0.012732118527773336), (3051, 0.004183522042544781), (3052, 0.004005965900455809), (3053, 0.0), (3054, 0.0047882997955998), (3055, 0.0039908595160083596), (3056, 0.04089742294442894), (3057, 0.025598222759230408), (3058, 0.0), (3059, 0.0), (3060, 0.0040506752487125585), (3061, 0.03692680394656064), (3062, 0.007669491436660653), (3063, 0.04301194452761269), (3064, 0.0031912913978805343), (3065, 0.024059524907561598), (3066, 0.10559294668725687), (3067, 0.04135560867649644), (3068, 0.028823190091209597), (3069, 0.026647349542169286), (3070, 0.017049386976338628), (3071, 0.0383336114775869), (3072, 0.011520275659738248), (3073, 0.003931685574847724), (3074, 0.008487386591651824), (3075, 0.00962648167402497), (3076, 0.0038382798591299096), (3077, 0.05575483627131907), (3078, 0.06775169662184125), (3079, 0.0), (3080, 0.004441748889897323), (3081, 0.0034515620634333866), (3082, 0.003544226440992647), (3083, 0.08480081138663739), (3084, 0.026212152874068584), (3085, 0.058133202553075046), (3086, 0.02909293944998549), (3087, 0.0050274274240038755), (3088, 0.005925700377450412), (3089, 0.004841681353339685), (3090, 0.00391861075296167), (3091, 0.021053404879874334), (3092, 0.029200294429156125), (3093, 0.002886333864782759), (3094, 0.020485934732763653), (3095, 0.011303965616791603), (3096, 0.0775253478346057), (3097, 0.007628087621616699), (3098, 0.05463576989084515), (3099, 0.0), (3100, 0.013647740051858115), (3101, 0.031000736206978134), (3102, 0.035467670226468295), (3103, 0.014747469197372864), (3104, 0.030464759111148498), (3105, 0.022915953219085922), (3106, 0.003972328952576319), (3107, 0.0), (3108, 0.026139890458401746), (3109, 0.011676877483418937), (3110, 0.0), (3111, 0.08847193566331028), (3112, 0.003153723621221497), (3113, 0.02389776604076391), (3114, 0.00702236121437034), (3115, 0.006203575161911742), (3116, 0.040068697768359335), (3117, 0.012056249841339564), (3118, 0.0), (3119, 0.004020770172189891), (3120, 0.022478378863307648), (3121, 0.05270480267071274), (3122, 0.01673580130517693), (3123, 0.003577354930809901), (3124, 0.0), (3125, 0.0029473348342922948), (3126, 0.0), (3127, 0.003859990151353824), (3128, 0.003697030462542669), (3129, 0.03341582138095605), (3130, 0.0), (3131, 0.0), (3132, 0.0), (3133, 0.02088550414576383), (3134, 0.0), (3135, 0.01666838727378728), (3136, 0.0), (3137, 0.03741480607523031), (3138, 0.0), (3139, 0.034990675626574236), (3140, 0.043123994701936695), (3141, 0.03404813958779893), (3142, 0.053229936013532014), (3143, 0.0165283335625218), (3144, 0.0056559733062003), (3145, 0.0), (3146, 0.007737894461990689), (3147, 0.049110114508969745), (3148, 0.011222398857801841), (3149, 0.057527154706707315), (3150, 0.007237881691408196), (3151, 0.03322895765258598), (3152, 0.008216360327723743), (3153, 0.003020067110879369), (3154, 0.10764537146420833), (3155, 0.006965117751311341), (3156, 0.0), (3157, 0.011719405556861495), (3158, 0.04684386549803235), (3159, 0.003629840483090626), (3160, 0.0), (3161, 0.0374447203635815), (3162, 0.004155339656133195), (3163, 0.0), (3164, 0.03426422429701737), (3165, 0.011384573117150788), (3166, 0.01927657151642855), (3167, 0.012044774461326284), (3168, 0.012345827612126829), (3169, 0.004085210444143965), (3170, 0.009429580233110503), (3171, 0.0027898497721584236), (3172, 0.004640083359372046), (3173, 0.017276923421623833), (3174, 0.002925018408323953), (3175, 0.04911544395096541), (3176, 0.0), (3177, 0.04923570890691225), (3178, 0.021971653931627477), (3179, 0.04624017376418016), (3180, 0.04361367444607441), (3181, 0.0043423863332750475), (3182, 0.05125860682564169), (3183, 0.015217699859877278), (3184, 0.06296274102979837), (3185, 0.0), (3186, 0.003325453398068277), (3187, 0.047367915950181645), (3188, 0.02145621145075169), (3189, 0.028867814000516842), (3190, 0.0046175940922852255), (3191, 0.0), (3192, 0.03570964792842006), (3193, 0.0), (3194, 0.01311681892393839), (3195, 0.0028862013348209875), (3196, 0.026050200264959116), (3197, 0.003621541824726819), (3198, 0.014355985273005915), (3199, 0.0022711767559228245), (3200, 0.06439001023178058), (3201, 0.028721748299261555), (3202, 0.04285525960951973), (3203, 0.004799217633527278), (3204, 0.005334381209236351), (3205, 0.03496947871111139), (3206, 0.019610649926904596), (3207, 0.06678795473752734), (3208, 0.015874741053346714), (3209, 0.03123010624649796), (3210, 0.002958331229267524), (3211, 0.0025393162172599585), (3212, 0.037923185156828194), (3213, 0.017468161200869865), (3214, 0.013267188343045251), (3215, 0.01857177864648519), (3216, 0.019350562153273233), (3217, 0.014128794790637719), (3218, 0.022913791189362032), (3219, 0.035195050041667286), (3220, 0.01358187532990543), (3221, 0.01930527491478337), (3222, 0.018924520688569826), (3223, 0.0), (3224, 0.007202278339186863), (3225, 0.06890009468893062), (3226, 0.04480760118762289), (3227, 0.024480515696114008), (3228, 0.030508682080042857), (3229, 0.031636106098783714), (3230, 0.0033859394246071152), (3231, 0.0525133213504197), (3232, 0.024466382865468865), (3233, 0.003017194700494822), (3234, 0.037106038427404564), (3235, 0.05210447255741159), (3236, 0.004238289735246339), (3237, 0.04134790718561439), (3238, 0.04572819869090915), (3239, 0.013745832004607232), (3240, 0.03654337483195966), (3241, 0.010340671949795762), (3242, 0.053844523922936954), (3243, 0.02244668211598848), (3244, 0.010608992844932627), (3245, 0.02071004643740622), (3246, 0.041906267995998496), (3247, 0.0), (3248, 0.011054318699809124), (3249, 0.02753970150592252), (3250, 0.03415895380352958), (3251, 0.0), (3252, 0.0024438113612547897), (3253, 0.021808158333472397), (3254, 0.018959186041816144), (3255, 0.0), (3256, 0.03838370661536689), (3257, 0.01674500798259613), (3258, 0.01511133826869026), (3259, 0.029511742666217533), (3260, 0.030332962224647098), (3261, 0.0), (3262, 0.0037737192450453304), (3263, 0.0), (3264, 0.043819495139805674), (3265, 0.016041569173181634), (3266, 0.005512475071009452), (3267, 0.006277032382737651), (3268, 0.009460241153650012), (3269, 0.003172491969498178), (3270, 0.041805992649680095), (3271, 0.05436924283438521), (3272, 0.03162437831372376), (3273, 0.02581473604457658), (3274, 0.011167969424165865), (3275, 0.003427903971023297), (3276, 0.04182681655365184), (3277, 0.004195938544145902), (3278, 0.002666792068523715), (3279, 0.03858716794884693), (3280, 0.015373445387312511), (3281, 0.033551500209263986), (3282, 0.0691389358948252), (3283, 0.08553773875864434), (3284, 0.016600322860301796), (3285, 0.0259234055476272), (3286, 0.0038689053024455067), (3287, 0.01922369516717946), (3288, 0.034316095013109005), (3289, 0.06283157988073099), (3290, 0.007119155042278664), (3291, 0.061150490441494426), (3292, 0.003828593483224375), (3293, 0.0321855089705853), (3294, 0.022236301259978587), (3295, 0.009977638930868936), (3296, 0.011273465057696982), (3297, 0.05465159351505769), (3298, 0.009574651269829523), (3299, 0.06476074823860808), (3300, 0.03186710556236205), (3301, 0.0022966654726453914), (3302, 0.012076733480901998), (3303, 0.027651770991306297), (3304, 0.07841881796747849), (3305, 0.0), (3306, 0.0026887811240190376), (3307, 0.003406793475747077), (3308, 0.14917035803059692), (3309, 0.014864119492963616), (3310, 0.0383085885802697), (3311, 0.006257723355478733), (3312, 0.0), (3313, 0.016923888119900084), (3314, 0.03596440016450007), (3315, 0.06190470982877432), (3316, 0.008099276077880373), (3317, 0.02060163988300994), (3318, 0.02788995918187907), (3319, 0.007451656563637323), (3320, 0.0037427440715292887), (3321, 0.003687092023029244), (3322, 0.00377461267389056), (3323, 0.023189633012075953), (3324, 0.004683237440558749), (3325, 0.005239983604471879), (3326, 0.010498012833588784), (3327, 0.008890628829550832), (3328, 0.04314684404627817), (3329, 0.04817018479691455), (3330, 0.016153312331629564), (3331, 0.002444795142479552), (3332, 0.020742974618640816), (3333, 0.018294980345685597), (3334, 0.02524964620055122), (3335, 0.06985479262307348), (3336, 0.021571500614950723), (3337, 0.00798206614735798), (3338, 0.0), (3339, 0.014210418355865269), (3340, 0.0), (3341, 0.002941061332032017), (3342, 0.002723393145177584), (3343, 0.025305787513570162), (3344, 0.02680481161821515), (3345, 0.0), (3346, 0.023741446356841448), (3347, 0.002461580327796084), (3348, 0.006694762970710688), (3349, 0.007177081682023044), (3350, 0.003931337052666823), (3351, 0.049500540138162616), (3352, 0.05038781571844639), (3353, 0.018238653856557315), (3354, 0.0036924930092709475), (3355, 0.0033741444645855566), (3356, 0.0), (3357, 0.008598888152966543), (3358, 0.021894275071480895), (3359, 0.011535171625299044), (3360, 0.054553091888381665), (3361, 0.0), (3362, 0.06759567765814886), (3363, 0.012361716731266119), (3364, 0.01604265924828564), (3365, 0.0020682556762768862), (3366, 0.003848587522931702), (3367, 0.0), (3368, 0.06720551693439283), (3369, 0.03741531551197472), (3370, 0.03433224933336418), (3371, 0.01214541649821942), (3372, 0.0030801851687135523), (3373, 0.026371359711189916), (3374, 0.002910621118068697), (3375, 0.010628749884792104), (3376, 0.0025044412538632157), (3377, 0.07869627845021228), (3378, 0.004158271344314334), (3379, 0.0028753889267291227), (3380, 0.04877336412181984), (3381, 0.03349840607482199), (3382, 0.02444875655577667), (3383, 0.004512198735417362), (3384, 0.008905566387751944), (3385, 0.0), (3386, 0.02536222057111892), (3387, 0.020001810474738455), (3388, 0.01464185722735158), (3389, 0.035230668065475666), (3390, 0.00279438429867672), (3391, 0.014318234208081728), (3392, 0.008936553206620056), (3393, 0.005949679324780717), (3394, 0.060201184740129296), (3395, 0.044205248462040006), (3396, 0.0033828891710305257), (3397, 0.02351747350440204), (3398, 0.0), (3399, 0.009836922286753015), (3400, 0.03159797862609664), (3401, 0.0), (3402, 0.006741247963298089), (3403, 0.05104639167676862), (3404, 0.018106504713040348), (3405, 0.0), (3406, 0.021559407757537473), (3407, 0.01643653165743237), (3408, 0.08979406198620268), (3409, 0.008982986556600589), (3410, 0.04303489880275112), (3411, 0.0034961918618756785), (3412, 0.03306532471590431), (3413, 0.016691772857563944), (3414, 0.026609880762851073), (3415, 0.043261293042058405), (3416, 0.020852344856443085), (3417, 0.10028925746750812), (3418, 0.02831529775029562), (3419, 0.031490333453637234), (3420, 0.014066225517280461), (3421, 0.01689011290535948), (3422, 0.004203218406928677), (3423, 0.01204760993927216), (3424, 0.03869571366974783), (3425, 0.01148486502592987), (3426, 0.02692364734710649), (3427, 0.0), (3428, 0.02707312417482977), (3429, 0.0), (3430, 0.01680839126087153), (3431, 0.002355164098525258), (3432, 0.014503449700497533), (3433, 0.04516315490749873), (3434, 0.036454754259814204), (3435, 0.013318821835483278), (3436, 0.002951704938453811), (3437, 0.04012907584902771), (3438, 0.02278864895536288), (3439, 0.005168670091166134), (3440, 0.042769615983165865), (3441, 0.0029087596605842903), (3442, 0.05271502728315415), (3443, 0.06903990047564088), (3444, 0.008785204989158277), (3445, 0.0030036128657089383), (3446, 0.046047509433714176), (3447, 0.024896075985953788), (3448, 0.03934893035286719), (3449, 0.0835851912318143), (3450, 0.0034062043135004963), (3451, 0.014229328738243311), (3452, 0.0027348211906660018), (3453, 0.06610098590752989), (3454, 0.0), (3455, 0.0026929267102117935), (3456, 0.041920321453657566), (3457, 0.008098314777898205), (3458, 0.04789860105504404), (3459, 0.0), (3460, 0.05935687035446329), (3461, 0.004247694065186694), (3462, 0.05937008122216312), (3463, 0.0598301803174342), (3464, 0.02172373431900853), (3465, 0.014343924031237094), (3466, 0.0241170900321142), (3467, 0.0), (3468, 0.0), (3469, 0.018492007759284394), (3470, 0.024940945682819547), (3471, 0.026832985984197068), (3472, 0.0), (3473, 0.0), (3474, 0.046414356560564606), (3475, 0.006477643932598707), (3476, 0.01922837951203374), (3477, 0.035813467468132965), (3478, 0.002932855170594131), (3479, 0.018558892670693296), (3480, 0.0), (3481, 0.0033537901616894463), (3482, 0.0), (3483, 0.026617435359225165), (3484, 0.0), (3485, 0.003541079749387022), (3486, 0.0), (3487, 0.0028198371674979785), (3488, 0.0), (3489, 0.011301554764034806), (3490, 0.010528791377741134), (3491, 0.002944362357164307), (3492, 0.016870163611587857), (3493, 0.014545244765200326), (3494, 0.036440250605341146), (3495, 0.02133971541137355), (3496, 0.01491693482566743), (3497, 0.01916792673550215), (3498, 0.022898754610732697), (3499, 0.019102933072750426), (3500, 0.05482138329392761), (3501, 0.002981217198316421), (3502, 0.0), (3503, 0.0343266418103143), (3504, 0.010084972686579229), (3505, 0.0), (3506, 0.02884896389552155), (3507, 0.0), (3508, 0.08271644992841579), (3509, 0.02156579479083994), (3510, 0.015633655825691057), (3511, 0.036069945049195286), (3512, 0.010607837487414855), (3513, 0.030133039081722462), (3514, 0.032275454665450246), (3515, 0.008258764889396331), (3516, 0.003189677216516737), (3517, 0.03237945585187963), (3518, 0.0323024528655067), (3519, 0.06244667657262136), (3520, 0.015287540949600519), (3521, 0.00361313030128561), (3522, 0.0), (3523, 0.004204306657309317), (3524, 0.0995390332322595), (3525, 0.0), (3526, 0.014221897654566249), (3527, 0.0030316652732620504), (3528, 0.03629136046506834), (3529, 0.012047760555242717), (3530, 0.0), (3531, 0.06230785399788391), (3532, 0.0), (3533, 0.04955117350428745), (3534, 0.041866773740048734), (3535, 0.0), (3536, 0.05135449777675142), (3537, 0.008580471435629781), (3538, 0.0055160207390408285), (3539, 0.08333064818190346), (3540, 0.003420704618877912), (3541, 0.10305609395912371), (3542, 0.021209133718758197), (3543, 0.0037043743188385943), (3544, 0.008420730045260536), (3545, 0.003955325548363492), (3546, 0.00739503583373338), (3547, 0.0), (3548, 0.0024118224501436516), (3549, 0.011338945471006886), (3550, 0.0), (3551, 0.024750024245615135), (3552, 0.02260179455352445), (3553, 0.03108845496501608), (3554, 0.004823873386160028), (3555, 0.0), (3556, 0.03264181400596927), (3557, 0.0028760289561602236), (3558, 0.04566092706305163), (3559, 0.02717385396391417), (3560, 0.011136934988751401), (3561, 0.00397577501807102), (3562, 0.023910682352570718), (3563, 0.028177308813720513), (3564, 0.023863915728431478), (3565, 0.06351561869530503), (3566, 0.007135378576718721), (3567, 0.0), (3568, 0.0), (3569, 0.015041191321690593), (3570, 0.027808265153296888), (3571, 0.01522353575444449), (3572, 0.004411888748117804), (3573, 0.0), (3574, 0.0030605399158344132), (3575, 0.03061473643724319), (3576, 0.019802131536200442), (3577, 0.0572607746842352), (3578, 0.0), (3579, 0.03913445270572786), (3580, 0.03772010660408747), (3581, 0.004380613579319027), (3582, 0.029417118403032114), (3583, 0.020727191200998186), (3584, 0.011774923878781967), (3585, 0.048883841392957365), (3586, 0.0), (3587, 0.003303766095379523), (3588, 0.02730061943156886), (3589, 0.10947436583500217), (3590, 0.003115417979222149), (3591, 0.05932366577321441), (3592, 0.013631373706946415), (3593, 0.0032739411316317205), (3594, 0.03473572790823082), (3595, 0.0038126671568), (3596, 0.010420272646931352), (3597, 0.01076312794358981), (3598, 0.02936349582499227), (3599, 0.06312551272728167), (3600, 0.02196087414472333), (3601, 0.01482076423776532), (3602, 0.013053436981996208), (3603, 0.06044884058401977), (3604, 0.07803340223482749), (3605, 0.0), (3606, 0.020589293779187025), (3607, 0.0), (3608, 0.0019103096922544287), (3609, 0.0141997105919107), (3610, 0.004706525505618749), (3611, 0.015281703341188325), (3612, 0.06686113398093109), (3613, 0.0036174739546746748), (3614, 0.0690920328971033), (3615, 0.0027618342003962668), (3616, 0.008602556975500702), (3617, 0.0), (3618, 0.0031087805738975504), (3619, 0.0), (3620, 0.0035713078603114524), (3621, 0.008140226513907391), (3622, 0.04083251114996167), (3623, 0.003025480090895749), (3624, 0.0029056712593692954), (3625, 0.0), (3626, 0.010661766951186383), (3627, 0.0027136312629285246), (3628, 0.022414729818887452), (3629, 0.002518770150972235), (3630, 0.006878828841184381), (3631, 0.0), (3632, 0.051846990083097254), (3633, 0.003568944707133008), (3634, 0.049483303133279574), (3635, 0.003965234869223888), (3636, 0.003022419690087197), (3637, 0.02732515777395815), (3638, 0.0036565960133408204), (3639, 0.03880124970002674), (3640, 0.03043158552267835), (3641, 0.006681062140055491), (3642, 0.0031803499507769436), (3643, 0.03131735731262936), (3644, 0.03865255772293442), (3645, 0.002210615439207783), (3646, 0.036169049039315164), (3647, 0.002885545630114689), (3648, 0.034321048584071145), (3649, 0.004520704408789185), (3650, 0.07894206845317533), (3651, 0.020068866640568922), (3652, 0.004403143992253813), (3653, 0.0029896471677662447), (3654, 0.0360377922149491), (3655, 0.036121992717847766), (3656, 0.05102536523750913), (3657, 0.0024749867304064417), (3658, 0.0033485804482494145), (3659, 0.03271164080848715), (3660, 0.0028282475157371738), (3661, 0.012008349592093702), (3662, 0.020487249913131455), (3663, 0.0), (3664, 0.0), (3665, 0.006901332811348672), (3666, 0.0030452126540466166), (3667, 0.034247891227025665), (3668, 0.031787313598044355), (3669, 0.04669902969791931), (3670, 0.0029579215917336877), (3671, 0.0049603678988342104), (3672, 0.004167514475331847), (3673, 0.0068897790864962906), (3674, 0.0033637966307145093), (3675, 0.003496081681431864), (3676, 0.0040270033281753015), (3677, 0.0032193358478290425), (3678, 0.044932584715332805), (3679, 0.0), (3680, 0.003316478601244027), (3681, 0.057538271696007504), (3682, 0.018334288469067893), (3683, 0.0040790651092948915), (3684, 0.0034583724410504877), (3685, 0.024851091234590183), (3686, 0.013034168807707688), (3687, 0.0036631572076335672), (3688, 0.00441549911680432), (3689, 0.02600300005279543), (3690, 0.0), (3691, 0.032260502291416956), (3692, 0.0031578145637554678), (3693, 0.0), (3694, 0.003174016170235076), (3695, 0.02624937773815399), (3696, 0.10477342848704886), (3697, 0.03610474222526773), (3698, 0.02468619634310696), (3699, 0.06729538245137708), (3700, 0.0), (3701, 0.06278263773048356), (3702, 0.0), (3703, 0.0), (3704, 0.00316939189308095), (3705, 0.022760525642439716), (3706, 0.015818359293605897), (3707, 0.002984973124137707), (3708, 0.03745171183710883), (3709, 0.0), (3710, 0.0), (3711, 0.06839053500563892), (3712, 0.00377472876162825), (3713, 0.006333323597255241), (3714, 0.07326008598051942), (3715, 0.1139372189876508), (3716, 0.05299215287307908), (3717, 0.0), (3718, 0.0), (3719, 0.0028626242577169097), (3720, 0.0), (3721, 0.009258297670236365), (3722, 0.037447620460180735), (3723, 0.0), (3724, 0.0), (3725, 0.002730827144547304), (3726, 0.0), (3727, 0.002907892892087549), (3728, 0.04863818626119383), (3729, 0.0033989096763850524), (3730, 0.06082693035639693), (3731, 0.006478082348986933), (3732, 0.06578442296009707), (3733, 0.035796474983379), (3734, 0.0027661864909406426), (3735, 0.04713319320136918), (3736, 0.037946583527963346), (3737, 0.0434841686237128), (3738, 0.009619297648095885), (3739, 0.00699384928927595), (3740, 0.005043218089100132), (3741, 0.03767847200953974), (3742, 0.0026789289781092218), (3743, 0.0), (3744, 0.0), (3745, 0.01165978183426786), (3746, 0.07532623490371768), (3747, 0.04052333595350824), (3748, 0.016058690416317967), (3749, 0.003197779717123656), (3750, 0.0), (3751, 0.00865409373663266), (3752, 0.019282745242810165), (3753, 0.01010023534289932), (3754, 0.036266691610936576), (3755, 0.0061139044272345445), (3756, 0.0023990133477721593), (3757, 0.003163702030388841), (3758, 0.0422413050585747), (3759, 0.004562379613683176), (3760, 0.0), (3761, 0.00780455105589839), (3762, 0.003820892381829627), (3763, 0.008152819711128533), (3764, 0.02419219691376146), (3765, 0.026437200254425728), (3766, 0.003497514195441674), (3767, 0.019743573482059476), (3768, 0.02095071304253375), (3769, 0.0), (3770, 0.00306693302301943), (3771, 0.0031766412673724536), (3772, 0.007872430338573058), (3773, 0.0), (3774, 0.04218679117015065), (3775, 0.0), (3776, 0.0), (3777, 0.025116384014820692), (3778, 0.0030464082816331088), (3779, 0.003541512335660229), (3780, 0.07376048910097996), (3781, 0.019322883512514495), (3782, 0.034744680061754435), (3783, 0.016784937799311766), (3784, 0.010021914707203412), (3785, 0.01794030318556679), (3786, 0.0), (3787, 0.0), (3788, 0.0), (3789, 0.0047061633218004936), (3790, 0.04624769661632082), (3791, 0.004547040254432564), (3792, 0.060245895804105914), (3793, 0.0), (3794, 0.03947535255867917), (3795, 0.008866470353819943), (3796, 0.005511482612271892), (3797, 0.023289134035424312), (3798, 0.0072391749330855525), (3799, 0.002780106377278767), (3800, 0.01446506033799038), (3801, 0.029328961711286933), (3802, 0.011515580192837932), (3803, 0.05366945262870851), (3804, 0.011056827959917326), (3805, 0.003973358279162372), (3806, 0.008872140545047877), (3807, 0.0327739377195582), (3808, 0.012173285843887795), (3809, 0.010155426062355965), (3810, 0.0), (3811, 0.029145093907447413), (3812, 0.004055972135795544), (3813, 0.02977318636295181), (3814, 0.03219985603712515), (3815, 0.021245811006796365), (3816, 0.0), (3817, 0.0), (3818, 0.036119353427309986), (3819, 0.0027691612643672638), (3820, 0.004505068625279058), (3821, 0.008830145828248773), (3822, 0.01629668059955887), (3823, 0.018331730744541894), (3824, 0.00380339260774596), (3825, 0.006858444246207915), (3826, 0.029594746501784366), (3827, 0.002875589350707947), (3828, 0.003709168096060399), (3829, 0.06529186615361536), (3830, 0.00926533991453823), (3831, 0.0), (3832, 0.01330996904951519), (3833, 0.021360300785131504), (3834, 0.04915829447303872), (3835, 0.03859514429505348), (3836, 0.0038863972768623514), (3837, 0.025775603280362224), (3838, 0.0), (3839, 0.07425858206101722), (3840, 0.054958940941135084), (3841, 0.002630131686841689), (3842, 0.013199116101322432), (3843, 0.0179341008042702), (3844, 0.025685833155832782), (3845, 0.03989789722029084), (3846, 0.0), (3847, 0.01089220975448777), (3848, 0.0037208728461297935), (3849, 0.022171382484697164), (3850, 0.0), (3851, 0.012553151209452523), (3852, 0.018599697224056033), (3853, 0.01986036502445273), (3854, 0.002712144020168367), (3855, 0.033392904261758644), (3856, 0.08726490192888761), (3857, 0.04159324907263344), (3858, 0.02904820052834276), (3859, 0.016971594030845), (3860, 0.025078564734410523), (3861, 0.0035285716682311266), (3862, 0.0030630529039406664), (3863, 0.0026354530987058133), (3864, 0.023457187198883293), (3865, 0.010328196925606443), (3866, 0.01601878003678896), (3867, 0.03892665896602338), (3868, 0.04038776836323026), (3869, 0.044502221668836814), (3870, 0.00416602868122091), (3871, 0.0), (3872, 0.03325955245968201), (3873, 0.00313604253220073), (3874, 0.0035863954818352315), (3875, 0.06188799498980983), (3876, 0.028289811930432562), (3877, 0.037747624797110524), (3878, 0.06568936831570328), (3879, 0.010629595103827756), (3880, 0.051980443818798815), (3881, 0.019872681143560087), (3882, 0.05898782376126063), (3883, 0.003343106872696584), (3884, 0.020411341207322194), (3885, 0.03293837441908801), (3886, 0.026874325505639684), (3887, 0.0), (3888, 0.006844801845948465), (3889, 0.02647687234146509), (3890, 0.017299910270771032), (3891, 0.05175972963968565), (3892, 0.008992892153307633), (3893, 0.010707816361192292), (3894, 0.058815274530085046), (3895, 0.020298229494680714), (3896, 0.05228081312074007), (3897, 0.06878212262592459), (3898, 0.03251747905751945), (3899, 0.019509248727000956), (3900, 0.0028202030203684568), (3901, 0.003537016327216547), (3902, 0.018764191548335432), (3903, 0.012060172170674122), (3904, 0.010601820369918209), (3905, 0.004215203894610436), (3906, 0.13610473537626525), (3907, 0.0336530572967067), (3908, 0.0), (3909, 0.010805140463526201), (3910, 0.011807839872691), (3911, 0.003504508468526638), (3912, 0.028589054264030217), (3913, 0.04389067764551891), (3914, 0.006976412945858257), (3915, 0.0716975467330791), (3916, 0.04394246249265415), (3917, 0.019940514644104478), (3918, 0.0), (3919, 0.03346176845379252), (3920, 0.003037854078076273), (3921, 0.004591863544178295), (3922, 0.008539837752536484), (3923, 0.0036615387140341384), (3924, 0.003223961373505252), (3925, 0.039332110369433994), (3926, 0.04408873761696796), (3927, 0.008763852569042788), (3928, 0.0024498467539727136), (3929, 0.02379994503941712), (3930, 0.004125531901494587), (3931, 0.004661595020950729), (3932, 0.034309920933767266), (3933, 0.05128797952408814), (3934, 0.008463325703551038), (3935, 0.0034559223495696082), (3936, 0.039548278670154605), (3937, 0.04425110396838243), (3938, 0.06382933526608706), (3939, 0.0039062176179398005), (3940, 0.00626285901222106), (3941, 0.028971680408401094), (3942, 0.0), (3943, 0.03046143043363392), (3944, 0.0), (3945, 0.008540154404074598), (3946, 0.005890785915269356), (3947, 0.0), (3948, 0.028679279157706423), (3949, 0.005477810182464544), (3950, 0.0436901119385287), (3951, 0.012285599218967984), (3952, 0.015936683439718678), (3953, 0.002668478371494461), (3954, 0.03950896847917319), (3955, 0.0), (3956, 0.021361058269823926), (3957, 0.008678568043489713), (3958, 0.009018673214130683), (3959, 0.003037657179567266), (3960, 0.040098241543090926), (3961, 0.0032371450382553497), (3962, 0.007769392565343626), (3963, 0.0), (3964, 0.0484714705618696), (3965, 0.013849687723924234), (3966, 0.0), (3967, 0.012052536358307291), (3968, 0.015858418965359587), (3969, 0.00837265350089501), (3970, 0.0), (3971, 0.01958299745111045), (3972, 0.0), (3973, 0.09975893486359863), (3974, 0.0026397356154196335), (3975, 0.0), (3976, 0.011404089059898134), (3977, 0.0), (3978, 0.01720145225177029), (3979, 0.0), (3980, 0.005598785749197142), (3981, 0.0), (3982, 0.0), (3983, 0.018833692255103902), (3984, 0.05442937541099527), (3985, 0.050381052008354674), (3986, 0.0026388542002674232), (3987, 0.003123690276585918), (3988, 0.005015867026270143), (3989, 0.0), (3990, 0.026840270443337734), (3991, 0.0), (3992, 0.007819717917361925), (3993, 0.0), (3994, 0.0), (3995, 0.0), (3996, 0.004751326676790845), (3997, 0.036858462899546335), (3998, 0.011157358867836208), (3999, 0.06410561978464702), (4000, 0.002909077457474406), (4001, 0.011600658341817284), (4002, 0.024073687292581462), (4003, 0.02264245301883374), (4004, 0.03125469022674669), (4005, 0.025943179763213687), (4006, 0.010510502490248458), (4007, 0.08336504509496784), (4008, 0.036924854688366725), (4009, 0.029521863183556613), (4010, 0.004598070424371281), (4011, 0.009308774425670381), (4012, 0.01410862113451537), (4013, 0.052008811426129356), (4014, 0.002967454761318965), (4015, 0.0024193181306812186), (4016, 0.0029247737273891063), (4017, 0.030437776598237154), (4018, 0.042159403002718566), (4019, 0.003801923797888995), (4020, 0.05935017265383426), (4021, 0.0), (4022, 0.07204633690428965), (4023, 0.07953746685213803), (4024, 0.05052236440352726), (4025, 0.04252508260908528), (4026, 0.008780975322166294), (4027, 0.04582884819725116), (4028, 0.012782360943490627), (4029, 0.014211508607459298), (4030, 0.003432794510732832), (4031, 0.027450169142238356), (4032, 0.03719424432543291), (4033, 0.049356125381238944), (4034, 0.03598606684065502), (4035, 0.023216818330493154), (4036, 0.044860231232763816), (4037, 0.003775016193977016), (4038, 0.07343778331610881), (4039, 0.0), (4040, 0.00514213834843081), (4041, 0.0), (4042, 0.003239279997834671), (4043, 0.022624727351677042), (4044, 0.0), (4045, 0.04537873752897362), (4046, 0.05332846255604753), (4047, 0.01846678007381995), (4048, 0.003210701869810333), (4049, 0.007020815256436899), (4050, 0.01932685662660709), (4051, 0.03814969103496852), (4052, 0.044572898247439686), (4053, 0.02203086689426636), (4054, 0.022827509004046696), (4055, 0.006851479273353816), (4056, 0.03674154510996812), (4057, 0.026502347670055437), (4058, 0.004956623377629812), (4059, 0.012577565958290765), (4060, 0.03936692393839338), (4061, 0.07347755638968219), (4062, 0.07789556592535579), (4063, 0.00970553526279522), (4064, 0.030480816088107113), (4065, 0.0), (4066, 0.006075147411538901), (4067, 0.05121195638056303), (4068, 0.002979559782265593), (4069, 0.002832817303669902), (4070, 0.0), (4071, 0.0037704630545165258), (4072, 0.0), (4073, 0.010686328467330287), (4074, 0.09159245848413371), (4075, 0.04127067487073977), (4076, 0.0), (4077, 0.008369971997046815), (4078, 0.027024230114566946), (4079, 0.03552193506441382), (4080, 0.008887283872703742), (4081, 0.05460372474795594), (4082, 0.04344081321213558), (4083, 0.00306192774766435), (4084, 0.014098169999902065), (4085, 0.002791410354263964), (4086, 0.0043121532235407605), (4087, 0.06260435677927431), (4088, 0.0), (4089, 0.04407455859157262), (4090, 0.019176785412878598), (4091, 0.0), (4092, 0.0033189917395630678), (4093, 0.004076299329704734), (4094, 0.008541355485294043), (4095, 0.02315750495976029), (4096, 0.0), (4097, 0.04872761769837802), (4098, 0.03354055607823292), (4099, 0.033792363543256924), (4100, 0.0), (4101, 0.06014440666878044), (4102, 0.008783489941895505), (4103, 0.07816176417742048), (4104, 0.0123180082988845), (4105, 0.04088265546067689), (4106, 0.006800794863464963), (4107, 0.0036214485019121804), (4108, 0.0044589773034275065), (4109, 0.0036056890135437946), (4110, 0.01852408139096286), (4111, 0.025082654508068243), (4112, 0.0038896819856587654), (4113, 0.02745029852340725), (4114, 0.0), (4115, 0.0053768767500462), (4116, 0.003197470945994711), (4117, 0.015863549225744032), (4118, 0.004297275946057177), (4119, 0.03707591344376567), (4120, 0.030831714155194465), (4121, 0.004532349063706794), (4122, 0.026510768774474218), (4123, 0.0030967099350926374), (4124, 0.0527881092310323), (4125, 0.03023649218825472), (4126, 0.003412782996564447), (4127, 0.02643908636051644), (4128, 0.0), (4129, 0.0028387916044116026), (4130, 0.024515835799557302), (4131, 0.004264401798627514), (4132, 0.00744623249077961), (4133, 0.01966435521137018), (4134, 0.010424649497548398), (4135, 0.027602063229185746), (4136, 0.010325559047640686), (4137, 0.027178442225718757), (4138, 0.027725466166715472), (4139, 0.086514141409089), (4140, 0.007558499608212094), (4141, 0.02238318771771719), (4142, 0.022429204128211998), (4143, 0.024208301918988134), (4144, 0.017030518037821313), (4145, 0.011643256488206978), (4146, 0.033212362258685194), (4147, 0.008423313020828771), (4148, 0.020951091072229203), (4149, 0.02912559588530924), (4150, 0.011937960018749336), (4151, 0.03272072273067363), (4152, 0.05752108211858582), (4153, 0.01916733104977125), (4154, 0.00265015947115136), (4155, 0.04258210166250359), (4156, 0.05640386332316583), (4157, 0.0), (4158, 0.00652233325787148), (4159, 0.04220354625596159), (4160, 0.0032882767585043116), (4161, 0.003155164888234351), (4162, 0.0), (4163, 0.0034002947874511164), (4164, 0.03404046784230079), (4165, 0.012242594350227638), (4166, 0.014154656093267647), (4167, 0.0), (4168, 0.0), (4169, 0.05545333242318526), (4170, 0.0), (4171, 0.04976988783433757), (4172, 0.003877272817564939), (4173, 0.02193075323073989), (4174, 0.02026689673998361), (4175, 0.036487238737256046), (4176, 0.01236703798836562), (4177, 0.03205130020747281), (4178, 0.014122286665557982), (4179, 0.0), (4180, 0.0042111122415737), (4181, 0.030488924539541964), (4182, 0.044888735739870726), (4183, 0.04611108221713361), (4184, 0.004001209023729524), (4185, 0.0), (4186, 0.018763324085028486), (4187, 0.03846873117314612), (4188, 0.01937230161039344), (4189, 0.026217110567038647), (4190, 0.004752615511354156), (4191, 0.02127030466453013), (4192, 0.013457121742700959), (4193, 0.009564056919998808), (4194, 0.02939353769010304), (4195, 0.003982525890747666), (4196, 0.008271178521618), (4197, 0.014167067784148835), (4198, 0.01447715336761391), (4199, 0.00494359480874117), (4200, 0.0057195569419757454), (4201, 0.0), (4202, 0.004100959540940507), (4203, 0.03375954043780886), (4204, 0.0047429610513855325), (4205, 0.00940455851326471), (4206, 0.006571106948028118), (4207, 0.0043247264084031), (4208, 0.04058749249378684), (4209, 0.003593856286230172), (4210, 0.036088526754308375), (4211, 0.0), (4212, 0.0), (4213, 0.006578073291410929), (4214, 0.004036409619417181), (4215, 0.0), (4216, 0.05954672056439389), (4217, 0.07689815293813762), (4218, 0.035955001947081115), (4219, 0.025064598911301965), (4220, 0.026010228838112288), (4221, 0.059755639650076894), (4222, 0.04250521351117057), (4223, 0.01680570821446076), (4224, 0.0), (4225, 0.0030786961000211087), (4226, 0.07373102412568308), (4227, 0.0), (4228, 0.002897496721478217), (4229, 0.006746790488465916), (4230, 0.0037578777102619345), (4231, 0.0031285664837374374), (4232, 0.02372243892904549), (4233, 0.030512992587394584), (4234, 0.0038874431999567994), (4235, 0.015129707424173314), (4236, 0.007025134851800799), (4237, 0.003547716142857882), (4238, 0.0), (4239, 0.005505439599627763), (4240, 0.01594963344835954), (4241, 0.019282532016054316), (4242, 0.0036435559666788066), (4243, 0.03439187148799053), (4244, 0.022277049907801882), (4245, 0.0031510852167017543), (4246, 0.006549978823242295), (4247, 0.023670506092325905), (4248, 0.0), (4249, 0.003026087688036743), (4250, 0.0), (4251, 0.0), (4252, 0.010548816833336439), (4253, 0.0), (4254, 0.006495487404141777), (4255, 0.03043822542490094), (4256, 0.004228776144513253), (4257, 0.027898575707970115), (4258, 0.004341880394006202), (4259, 0.05056962505278279), (4260, 0.02481915650431603), (4261, 0.0), (4262, 0.013963234693344961), (4263, 0.026889311803131963), (4264, 0.017537411328203942), (4265, 0.0), (4266, 0.025381095193111398), (4267, 0.022328594436104444), (4268, 0.002921003399883814), (4269, 0.0031458733351433636), (4270, 0.08191789764160448), (4271, 0.0), (4272, 0.031238044578957118), (4273, 0.022952929409590057), (4274, 0.06586749389457944), (4275, 0.033943048006882595), (4276, 0.0), (4277, 0.002686357899215467), (4278, 0.0), (4279, 0.0), (4280, 0.0034758236974641488), (4281, 0.03783619506733326), (4282, 0.0231535104999399), (4283, 0.022863875986665134), (4284, 0.0028776701300407583), (4285, 0.06211949997642508), (4286, 0.07537680787522721), (4287, 0.03951828947441015), (4288, 0.02736701124386362), (4289, 0.014129890418883979), (4290, 0.0), (4291, 0.003979360990688292), (4292, 0.04046994218378576), (4293, 0.007719416284278077), (4294, 0.08585399431140289), (4295, 0.04609531833270497), (4296, 0.002554635703303862), (4297, 0.06310018532014598), (4298, 0.003598060514344702), (4299, 0.09842166342855753), (4300, 0.004016096000761128), (4301, 0.0021759439320851656), (4302, 0.0), (4303, 0.011120992073787089), (4304, 0.028760617499266887), (4305, 0.02939792705199071), (4306, 0.012254293911016182), (4307, 0.027343262036777227), (4308, 0.0075863432078980796), (4309, 0.019938914446269045), (4310, 0.0), (4311, 0.011290436831220777), (4312, 0.0), (4313, 0.0), (4314, 0.029444212986935645), (4315, 0.011675830682844706), (4316, 0.0), (4317, 0.0045187610635494604), (4318, 0.03737473725230096), (4319, 0.12727309115994323), (4320, 0.04742120939197252), (4321, 0.05644156307748243), (4322, 0.024241824587591203), (4323, 0.004197428940695234), (4324, 0.01607626585830976), (4325, 0.01724788145671484), (4326, 0.0026888974381850256), (4327, 0.02093418465111239), (4328, 0.0), (4329, 0.04819587940474564), (4330, 0.0029344838962691733), (4331, 0.0), (4332, 0.025475797906070977), (4333, 0.019006523085517583), (4334, 0.003031253253608827), (4335, 0.11444131287780139), (4336, 0.010170169223464691), (4337, 0.03485221763495082), (4338, 0.016494462628704853), (4339, 0.0), (4340, 0.024026867185126657), (4341, 0.004727006326535586), (4342, 0.006999860011559096), (4343, 0.0025941525947728856), (4344, 0.009000400942697342), (4345, 0.0027819369384385517), (4346, 0.004623198544505652), (4347, 0.008528562984754151), (4348, 0.01613324061225252), (4349, 0.019120897740801893), (4350, 0.04285161521666386), (4351, 0.04602147853246266), (4352, 0.017389428508744025), (4353, 0.0034606398301082818), (4354, 0.003068072159913685), (4355, 0.08096134620706066), (4356, 0.08117830068617347), (4357, 0.062411392058349065), (4358, 0.0035158427648161097), (4359, 0.09363900659866815), (4360, 0.024126422812738805), (4361, 0.003051324397428308), (4362, 0.002871710212148549), (4363, 0.0030717314658241608), (4364, 0.04575592340074808), (4365, 0.01717317419680759), (4366, 0.011936784383975626), (4367, 0.03482384164888438), (4368, 0.0033007728469060297), (4369, 0.05152188109860962), (4370, 0.00425596535465042), (4371, 0.05034790499650247), (4372, 0.051848269893840046), (4373, 0.005718342195790322), (4374, 0.012766827130043925), (4375, 0.0), (4376, 0.033255847614785), (4377, 0.0), (4378, 0.025212840584522205), (4379, 0.0030387098839693154), (4380, 0.0), (4381, 0.009609197708466511), (4382, 0.00668926452469611), (4383, 0.0), (4384, 0.02579541208097226), (4385, 0.04516638860182488), (4386, 0.002529455095376856), (4387, 0.018960722003150222), (4388, 0.011909620877635524), (4389, 0.0), (4390, 0.0), (4391, 0.0029639302685254163), (4392, 0.0), (4393, 0.020075906019620088), (4394, 0.006864617567215218), (4395, 0.006729939489945892), (4396, 0.02017687238616676), (4397, 0.0032640456695141196), (4398, 0.025918366284239096), (4399, 0.0269827142400962), (4400, 0.0037387223025180704), (4401, 0.026559363461806363), (4402, 0.0027119135011805288), (4403, 0.01714247509974458), (4404, 0.052424024020284794), (4405, 0.04142531431617145), (4406, 0.0), (4407, 0.0038362408813767956), (4408, 0.013163599897841747), (4409, 0.027125810641287607), (4410, 0.01537576421733459), (4411, 0.008491539205398718), (4412, 0.07942969632613155), (4413, 0.004320835095619747), (4414, 0.0), (4415, 0.015475762577575571), (4416, 0.021228089337179217), (4417, 0.038038661169247125), (4418, 0.02218385222517625), (4419, 0.00305749786516125), (4420, 0.04325931728204596), (4421, 0.004159816592511703), (4422, 0.014360965600591167), (4423, 0.0038030974224823643), (4424, 0.0), (4425, 0.0), (4426, 0.0034383837351784187), (4427, 0.029928483086366975), (4428, 0.03358535208794787), (4429, 0.0025464723427921806), (4430, 0.0030706689002670136), (4431, 0.0031365039461726477), (4432, 0.0025670438562303156), (4433, 0.004157537369348298), (4434, 0.003817359695438797), (4435, 0.0029468400406216203), (4436, 0.031209337438157025), (4437, 0.017031291725537204), (4438, 0.006690957098991245), (4439, 0.0), (4440, 0.057747016112909035), (4441, 0.0387986666693535), (4442, 0.033167824667428174), (4443, 0.0035928039609845665), (4444, 0.0038418699058365164), (4445, 0.0022017173622666244), (4446, 0.023616167355068295), (4447, 0.032297127726845266), (4448, 0.007224499430514813), (4449, 0.0), (4450, 0.0), (4451, 0.024184230037754797), (4452, 0.0045072865969830065), (4453, 0.022886300277905218), (4454, 0.004597362657929957), (4455, 0.0), (4456, 0.0), (4457, 0.05401836756247311), (4458, 0.011821477475235577), (4459, 0.03830750691081748), (4460, 0.044594249023862206), (4461, 0.0028234186699414394), (4462, 0.02711997080568703), (4463, 0.08205869341210661), (4464, 0.0), (4465, 0.02228589967300054), (4466, 0.024774756966442477), (4467, 0.007846517410947391), (4468, 0.024150467255465678), (4469, 0.0036644057362484606), (4470, 0.02813285242970557), (4471, 0.04085392804645024), (4472, 0.002835044653818749), (4473, 0.020406314844306276), (4474, 0.03724143891138372), (4475, 0.024538003567681974), (4476, 0.0025096435274506133), (4477, 0.003426405579879023), (4478, 0.0), (4479, 0.031559698118514105), (4480, 0.0679808395215818), (4481, 0.0), (4482, 0.010430677663705442), (4483, 0.041706736123075905), (4484, 0.03628667521318509), (4485, 0.04954844194544731), (4486, 0.012004051937691464), (4487, 0.002889475884560137), (4488, 0.06241717469942777), (4489, 0.007336968518982702), (4490, 0.0034781344921094586), (4491, 0.0), (4492, 0.004280753483674704), (4493, 0.0), (4494, 0.026855062480307938), (4495, 0.028846375095551328), (4496, 0.03495197538071004), (4497, 0.003070552653419482), (4498, 0.07074625329566064), (4499, 0.0), (4500, 0.021822414212233947), (4501, 0.03551823805762589), (4502, 0.04442916791762544), (4503, 0.002957862503901781), (4504, 0.015643648406237918), (4505, 0.00310441166849522), (4506, 0.004757661142088825), (4507, 0.007945864584833106), (4508, 0.0), (4509, 0.014948299432426808), (4510, 0.025849748606341948), (4511, 0.04273437097676662), (4512, 0.0), (4513, 0.0), (4514, 0.03478774227252123), (4515, 0.032136802401449664), (4516, 0.025720469220514647), (4517, 0.04258567385335827), (4518, 0.02913265010124657), (4519, 0.0031969721890339193), (4520, 0.019249709307850436), (4521, 0.0036607389644181983), (4522, 0.0075388401143622955), (4523, 0.036761126969977916), (4524, 0.04777275000414967), (4525, 0.0), (4526, 0.04763185171169139), (4527, 0.0), (4528, 0.0031850754811994166), (4529, 0.003932350550480684), (4530, 0.0067655562044694455), (4531, 0.026907213037958132), (4532, 0.0), (4533, 0.04291011980071521), (4534, 0.010228457788826688), (4535, 0.0032826484651904595), (4536, 0.028862549523997635), (4537, 0.005187248705165009), (4538, 0.0), (4539, 0.019806023049508875), (4540, 0.003151344150144999), (4541, 0.0), (4542, 0.014337459947882207), (4543, 0.0), (4544, 0.0036586792621565584), (4545, 0.0031738001188198832), (4546, 0.003791011705099519), (4547, 0.037419478607073516), (4548, 0.012444664018413074), (4549, 0.035983304550405715), (4550, 0.00284321964666312), (4551, 0.025709682121934006), (4552, 0.06332570899887831), (4553, 0.0), (4554, 0.012515885120009318), (4555, 0.0698315915136527), (4556, 0.012469385692418487), (4557, 0.01538270870977225), (4558, 0.03191245901453667), (4559, 0.015675515914526882), (4560, 0.03013773384774143), (4561, 0.0), (4562, 0.045246453577420936), (4563, 0.0030074232983088966), (4564, 0.011151049298139776), (4565, 0.0), (4566, 0.08055625080624282), (4567, 0.023204716833869012), (4568, 0.0), (4569, 0.0), (4570, 0.05233463493269548), (4571, 0.010992535419617753), (4572, 0.0035994643146123125), (4573, 0.002843150137393279), (4574, 0.003140263409925569), (4575, 0.010487475749330476), (4576, 0.02312107474123361), (4577, 0.003658898677953245), (4578, 0.0), (4579, 0.0031612442932556265), (4580, 0.012234704412685708), (4581, 0.020487300754901922), (4582, 0.021222503776023586), (4583, 0.010625659605816764), (4584, 0.0034479900846321227), (4585, 0.0), (4586, 0.043485285765710986), (4587, 0.010023220739772014), (4588, 0.0), (4589, 0.024262748838456433), (4590, 0.002626196411135715), (4591, 0.051886111940112986), (4592, 0.00397260756342584), (4593, 0.0032612353237867916), (4594, 0.011674901288492658), (4595, 0.019256788484889716), (4596, 0.02977964318071107), (4597, 0.0397517710829534), (4598, 0.037629659259048064), (4599, 0.017147505060242617), (4600, 0.01875811385119309), (4601, 0.026019169665334588), (4602, 0.00321781425223057), (4603, 0.03933990794904225), (4604, 0.002948690110807863), (4605, 0.11642707377430009), (4606, 0.0037129785389581047), (4607, 0.004258824855028565), (4608, 0.0026026221592642994), (4609, 0.0040123406197325245), (4610, 0.07345175256737911), (4611, 0.003909237212476114), (4612, 0.0036511191603855906), (4613, 0.0), (4614, 0.002801391495006236), (4615, 0.014710650679221643), (4616, 0.002709232067233252), (4617, 0.004011214308998859), (4618, 0.0), (4619, 0.0032359129874328517), (4620, 0.0026797008772036428), (4621, 0.0), (4622, 0.04855850145811643), (4623, 0.034497105718512985), (4624, 0.0030754298705204164), (4625, 0.010291654556030889), (4626, 0.002371183782957485), (4627, 0.01732730502973431), (4628, 0.12588693716965368), (4629, 0.0030595199960258127), (4630, 0.0), (4631, 0.05555207082958998), (4632, 0.011685571007370204), (4633, 0.008129932603180439), (4634, 0.0027366713505090367), (4635, 0.0), (4636, 0.005833771991513105), (4637, 0.0034801188580960455), (4638, 0.002675348740071711), (4639, 0.03371764179356218), (4640, 0.0029382723217402803), (4641, 0.022693977056871567), (4642, 0.0), (4643, 0.003016820712587149), (4644, 0.0), (4645, 0.0), (4646, 0.0), (4647, 0.018535084163141237), (4648, 0.02428507648834987), (4649, 0.03945818840600213), (4650, 0.03562900092551644), (4651, 0.0), (4652, 0.03757030219303485), (4653, 0.034616558219729386), (4654, 0.0), (4655, 0.020202514524266083), (4656, 0.029826525001140674), (4657, 0.010660271540865523), (4658, 0.02288544587441483), (4659, 0.03500317755219879), (4660, 0.028646758231823215), (4661, 0.014367465739855098), (4662, 0.017471520409851744), (4663, 0.010761290581150506), (4664, 0.049172190263752226), (4665, 0.05334280506329861), (4666, 0.0), (4667, 0.040192757386820224), (4668, 0.0028898404033857114), (4669, 0.0031942645442156583), (4670, 0.0028093835468287307), (4671, 0.0), (4672, 0.0), (4673, 0.0028406006389141178), (4674, 0.002355572529195501), (4675, 0.003969965055919036), (4676, 0.0), (4677, 0.0029643198561967), (4678, 0.015434599146411354), (4679, 0.0025784385153291155), (4680, 0.003135785424540256), (4681, 0.0), (4682, 0.02339352269228148), (4683, 0.010552114833914765), (4684, 0.010732149060677718), (4685, 0.010337186795733476), (4686, 0.03200688230309932), (4687, 0.017153810807883106), (4688, 0.010886546466964287), (4689, 0.0), (4690, 0.003737091576453367), (4691, 0.0), (4692, 0.0036609929899144127), (4693, 0.0028488854173738943), (4694, 0.0034460119697003583), (4695, 0.008005540040036794), (4696, 0.0038422721606279297), (4697, 0.01654244263635462), (4698, 0.0), (4699, 0.040245452043722776), (4700, 0.0053956972840643), (4701, 0.0034954727790426515), (4702, 0.011133365041699846), (4703, 0.017697984841176354), (4704, 0.00400663033997125), (4705, 0.004193212799730122), (4706, 0.007685599039344455), (4707, 0.01849464553502265), (4708, 0.0), (4709, 0.0), (4710, 0.0037071887124525043), (4711, 0.004703248035481496), (4712, 0.01840286483903726), (4713, 0.011474158509032904), (4714, 0.0), (4715, 0.0029404146814242748), (4716, 0.0), (4717, 0.008168417727084725), (4718, 0.011116512049924084), (4719, 0.026915106440107386), (4720, 0.004836703392982639), (4721, 0.018048658696356114), (4722, 0.019551047318612343), (4723, 0.003585898029981541), (4724, 0.0036153401601723397), (4725, 0.03459475664341674), (4726, 0.0147726884697487), (4727, 0.0), (4728, 0.0), (4729, 0.0028171559113571603), (4730, 0.0), (4731, 0.023469899732097607), (4732, 0.017678733269113064), (4733, 0.0024471316406240247), (4734, 0.007476003551255113), (4735, 0.032289849094526396), (4736, 0.0), (4737, 0.027533649472708022), (4738, 0.050760069395028494), (4739, 0.02147096250564489), (4740, 0.021437229983729857), (4741, 0.035299625702456615), (4742, 0.0), (4743, 0.09806753321659276), (4744, 0.025350925295812763), (4745, 0.0), (4746, 0.05188583537280233), (4747, 0.0), (4748, 0.009118876441314436), (4749, 0.047467388298483015), (4750, 0.0), (4751, 0.0), (4752, 0.0498533498268207), (4753, 0.0033442590475164357), (4754, 0.0), (4755, 0.0), (4756, 0.10638691747308249), (4757, 0.028281742000168177), (4758, 0.0), (4759, 0.0)]\n"
          ]
        }
      ]
    },
    {
      "cell_type": "code",
      "source": [
        "len(recommendation_score)"
      ],
      "metadata": {
        "colab": {
          "base_uri": "https://localhost:8080/"
        },
        "id": "ckM2nv0TcE7c",
        "outputId": "365393ed-4c7e-4146-ae29-75a2d841b953"
      },
      "execution_count": 34,
      "outputs": [
        {
          "output_type": "execute_result",
          "data": {
            "text/plain": [
              "4760"
            ]
          },
          "metadata": {},
          "execution_count": 34
        }
      ]
    },
    {
      "cell_type": "code",
      "source": [
        "sorted_similar_movies=sorted(recommendation_score,key=lambda x:x[1],reverse=True)\n",
        "print(sorted_similar_movies)"
      ],
      "metadata": {
        "colab": {
          "base_uri": "https://localhost:8080/"
        },
        "id": "GSjO-u0RcHMY",
        "outputId": "e270bd58-dffd-4589-a5af-477e2cc2f002"
      },
      "execution_count": 35,
      "outputs": [
        {
          "output_type": "stream",
          "name": "stdout",
          "text": [
            "[(697, 1.0000000000000002), (1654, 0.2568240694783023), (710, 0.25457320774534514), (586, 0.21037810307666957), (1026, 0.19417849354206854), (711, 0.1901926719011744), (708, 0.18875746484330208), (1157, 0.18792379013935046), (897, 0.17087980934368358), (709, 0.16122840502473745), (3308, 0.14917035803059692), (500, 0.1439472091338445), (1690, 0.1411183044856927), (1172, 0.13709261081901), (3000, 0.13618915881575053), (3906, 0.13610473537626525), (1803, 0.13450309830910612), (1743, 0.1344140940385739), (2547, 0.13406100927998355), (2441, 0.13347398551650497), (1345, 0.13193170463280834), (198, 0.13054182936129405), (4319, 0.12727309115994323), (1203, 0.12590127910110444), (4628, 0.12588693716965368), (1441, 0.12496195370151643), (2051, 0.12407380309766741), (1787, 0.12268379084591123), (349, 0.12139062994906138), (2147, 0.12023456326810004), (302, 0.12014188528969066), (4605, 0.11642707377430009), (4335, 0.11444131287780139), (2953, 0.11419611269036517), (3715, 0.1139372189876508), (2808, 0.11263430547458847), (1722, 0.11122585286104117), (2981, 0.11099700950902101), (2258, 0.11089829062725157), (1359, 0.11024273586054817), (3589, 0.10947436583500217), (660, 0.10807004908396647), (3154, 0.10764537146420833), (4756, 0.10638691747308249), (975, 0.10589659472506609), (3066, 0.10559294668725687), (399, 0.1055336914073203), (1762, 0.10504097213816439), (1594, 0.10499999264095312), (3696, 0.10477342848704886), (2968, 0.10423090062815056), (619, 0.10394802279602001), (3541, 0.10305609395912371), (2915, 0.102412207049041), (845, 0.10153600573286628), (2209, 0.10151066768826562), (2192, 0.10074257733769174), (3417, 0.10028925746750812), (449, 0.10017836894422208), (3973, 0.09975893486359863), (3524, 0.0995390332322595), (1560, 0.09949997049832625), (4299, 0.09842166342855753), (4743, 0.09806753321659276), (2825, 0.09739519454983815), (659, 0.0972344634245011), (2143, 0.09714660001434085), (1860, 0.09677691233956306), (1048, 0.09674242569894058), (609, 0.09670567871193227), (924, 0.09507076720113858), (612, 0.09468701067349333), (2677, 0.09377733712240555), (4359, 0.09363900659866815), (1806, 0.09339940428366479), (1686, 0.09313625380410527), (2334, 0.09303265804992719), (1445, 0.09199738196317352), (4074, 0.09159245848413371), (715, 0.09095168216425119), (1493, 0.09072691264772671), (794, 0.09014682453666868), (1080, 0.08982603856404224), (3408, 0.08979406198620268), (683, 0.08936739481924387), (769, 0.08929194671675052), (618, 0.08900481230944762), (155, 0.08866889136411271), (3111, 0.08847193566331028), (1479, 0.08844795594682936), (225, 0.08809187187769768), (1023, 0.08803934356924598), (2360, 0.08799137081763657), (108, 0.08792707158097984), (2681, 0.08786937184895556), (2560, 0.08783550721331661), (1382, 0.08768122813640267), (737, 0.08765823463969002), (838, 0.08750261701624494), (774, 0.08732270803031769), (1951, 0.08728571652105441), (3856, 0.08726490192888761), (706, 0.08701706942174961), (49, 0.08686712541574698), (1977, 0.08656848195176019), (4139, 0.086514141409089), (1454, 0.08631538939536713), (192, 0.08615139261609422), (408, 0.08606079466128846), (4294, 0.08585399431140289), (461, 0.08574872823300547), (3283, 0.08553773875864434), (1655, 0.08484358489502541), (3083, 0.08480081138663739), (1290, 0.08436383725103312), (2553, 0.08423014399574257), (2798, 0.08365616868710275), (3449, 0.0835851912318143), (174, 0.08341144730453079), (582, 0.08340902478603128), (4007, 0.08336504509496784), (3539, 0.08333064818190346), (2757, 0.08295940355713399), (1774, 0.08272217233448603), (3508, 0.08271644992841579), (1430, 0.08244527730758414), (1612, 0.08238125768316244), (115, 0.08234642192575466), (1791, 0.08228123006156829), (1094, 0.0822801758270954), (1878, 0.08222975468165249), (952, 0.08210620579470469), (4463, 0.08205869341210661), (4270, 0.08191789764160448), (538, 0.08185902031296798), (1108, 0.08152048754723955), (671, 0.08122007507533514), (4356, 0.08117830068617347), (2118, 0.08116775228215452), (4355, 0.08096134620706066), (963, 0.08092638018561106), (892, 0.08076205974284364), (4566, 0.08055625080624282), (2299, 0.08036663278893841), (1255, 0.08023179766941356), (621, 0.08017845704237621), (1935, 0.07993352234033795), (2116, 0.07957938312159377), (2834, 0.07956178590341503), (4023, 0.07953746685213803), (4412, 0.07942969632613155), (648, 0.07915095206738047), (867, 0.07898910579760642), (3650, 0.07894206845317533), (2664, 0.07889538985816652), (1296, 0.07885796193034197), (1002, 0.07884906420512401), (2874, 0.0788486042264407), (1216, 0.07882490467134842), (633, 0.07879787607814205), (3377, 0.07869627845021228), (2584, 0.07860004310018959), (3304, 0.07841881796747849), (282, 0.07818664510741229), (4103, 0.07816176417742048), (3604, 0.07803340223482749), (4062, 0.07789556592535579), (3096, 0.0775253478346057), (705, 0.07724272738839616), (4217, 0.07689815293813762), (1278, 0.07652488079101198), (371, 0.07576823118450088), (1897, 0.07562453943417499), (758, 0.07557720143055514), (2429, 0.07553737948559325), (4286, 0.07537680787522721), (3746, 0.07532623490371768), (1090, 0.07531476481990093), (814, 0.07523888231401794), (2621, 0.07488808015521276), (1050, 0.07460904674286936), (1154, 0.07429712085514391), (669, 0.07429539410791372), (3839, 0.07425858206101722), (62, 0.07425337294373668), (3780, 0.07376048910097996), (193, 0.07374458844882695), (4226, 0.07373102412568308), (4061, 0.07347755638968219), (4610, 0.07345175256737911), (4038, 0.07343778331610881), (2693, 0.07331153184598667), (3714, 0.07326008598051942), (522, 0.07307820196859466), (2812, 0.07300643020210101), (2306, 0.07298422514773568), (606, 0.07296709591416525), (1799, 0.07292611094425452), (279, 0.07274611288364168), (2979, 0.07272392671473962), (1475, 0.07271169447758964), (998, 0.07228909634998928), (4, 0.07222472134276867), (481, 0.07213222268602323), (2509, 0.07209676825725767), (4022, 0.07204633690428965), (1747, 0.07201251852008791), (472, 0.07180643010812687), (3915, 0.0716975467330791), (2110, 0.07148689134171483), (1058, 0.07137188745631697), (808, 0.07117236909961647), (2409, 0.07116037952685181), (1329, 0.07107698408014976), (1942, 0.0709618896886588), (2158, 0.07079684489896934), (4498, 0.07074625329566064), (231, 0.07071191994278238), (2265, 0.07049705120088165), (1714, 0.07049590715596701), (42, 0.07043305890611745), (454, 0.07022277830948406), (1853, 0.0702200798320834), (3335, 0.06985479262307348), (4555, 0.0698315915136527), (698, 0.0697503095345042), (973, 0.06943214983503679), (310, 0.06917165182217212), (3282, 0.0691389358948252), (3614, 0.0690920328971033), (307, 0.06906199514610853), (3443, 0.06903990047564088), (2902, 0.06897386486391298), (464, 0.06894311251002126), (3225, 0.06890009468893062), (1528, 0.06880547874454382), (3897, 0.06878212262592459), (2603, 0.06871552907241833), (1911, 0.06868277750081762), (412, 0.06852285225073776), (125, 0.06850177906379742), (1437, 0.06846427531365533), (2422, 0.06840936768745133), (3711, 0.06839053500563892), (2744, 0.06833286042076145), (1038, 0.06829108092053653), (537, 0.06811139240597547), (2617, 0.06806452809217702), (4480, 0.0679808395215818), (3078, 0.06775169662184125), (2036, 0.06774342870044645), (875, 0.06762745280533902), (3362, 0.06759567765814886), (3699, 0.06729538245137708), (3368, 0.06720551693439283), (354, 0.06716084124065227), (85, 0.0670990134653533), (1871, 0.06707945903468056), (96, 0.06693304109460628), (843, 0.06687365528886013), (3612, 0.06686113398093109), (3207, 0.06678795473752734), (1510, 0.06675511204994886), (2726, 0.06667641907122987), (1199, 0.06666613547188327), (1518, 0.06665953103292316), (1452, 0.06665329867871793), (1569, 0.06649804813011749), (471, 0.06644295224392942), (1903, 0.06623052460843142), (3453, 0.06610098590752989), (0, 0.0660363595177146), (2980, 0.06602405783085011), (2859, 0.0659123132489079), (4274, 0.06586749389457944), (3732, 0.06578442296009707), (3878, 0.06568936831570328), (86, 0.06559806625734835), (2822, 0.06557283191164504), (27, 0.06539382048509537), (752, 0.06529845109989495), (3829, 0.06529186615361536), (1295, 0.06522492743219813), (983, 0.06510588722756828), (772, 0.06503858735257462), (541, 0.06501844958651617), (1974, 0.06497420471788286), (889, 0.0649546571611643), (2202, 0.06485471697363204), (3299, 0.06476074823860808), (2075, 0.06468649065837329), (957, 0.06466614419603099), (129, 0.06455951579267218), (1901, 0.06451796757857074), (232, 0.06442473549547255), (3200, 0.06439001023178058), (868, 0.06412316676867834), (3999, 0.06410561978464702), (377, 0.0639709645534861), (3938, 0.06382933526608706), (2858, 0.06380082411516293), (2588, 0.06353546430512055), (3565, 0.06351561869530503), (1775, 0.06338957749206749), (4552, 0.06332570899887831), (735, 0.06326872882373359), (3599, 0.06312551272728167), (4297, 0.06310018532014598), (3184, 0.06296274102979837), (3289, 0.06283157988073099), (3701, 0.06278263773048356), (2876, 0.06263867290259513), (4087, 0.06260435677927431), (199, 0.06257797591804734), (1480, 0.06250929353628382), (3519, 0.06244667657262136), (4488, 0.06241717469942777), (1881, 0.062414048421005355), (4357, 0.062411392058349065), (3531, 0.06230785399788391), (890, 0.06216865182174279), (4285, 0.06211949997642508), (244, 0.06201749532370316), (1781, 0.061960423360235155), (3315, 0.06190470982877432), (3875, 0.06188799498980983), (493, 0.06186199147253026), (2385, 0.061861744630916926), (1613, 0.061721695543374006), (2771, 0.06164035704062568), (2057, 0.061480020723941056), (886, 0.06134223706705641), (2687, 0.06124379068055195), (130, 0.06121821604796059), (3291, 0.061150490441494426), (271, 0.06109693419666752), (501, 0.061023482739522225), (1129, 0.060927931435259756), (1362, 0.060913701266667564), (1873, 0.060866017471640894), (3730, 0.06082693035639693), (2467, 0.06068923767097193), (1381, 0.060654669426678576), (3013, 0.06064946726492125), (1109, 0.06064607822340187), (2528, 0.06058224490768086), (1149, 0.06053114052640805), (25, 0.06049680967038946), (3603, 0.06044884058401977), (2039, 0.06036925659340938), (3034, 0.060360714363340846), (3792, 0.060245895804105914), (860, 0.060230923293859505), (3394, 0.060201184740129296), (4101, 0.06014440666878044), (2662, 0.05996227486668935), (3463, 0.0598301803174342), (2795, 0.05982606788660124), (1506, 0.059770331074360306), (4221, 0.059755639650076894), (1948, 0.05974260240785919), (447, 0.05963471369832238), (2578, 0.05962803468952403), (4216, 0.05954672056439389), (1376, 0.05951139149139247), (3462, 0.05937008122216312), (3460, 0.05935687035446329), (4020, 0.05935017265383426), (3591, 0.05932366577321441), (407, 0.05922515725699386), (1544, 0.05916572720044878), (3882, 0.05898782376126063), (665, 0.058931723872264495), (3894, 0.058815274530085046), (547, 0.058805728320674266), (684, 0.058787554378526514), (1992, 0.05834649926099395), (1476, 0.05814115730516408), (3085, 0.058133202553075046), (1363, 0.05807877360705007), (2161, 0.058033307740184815), (2769, 0.058016744115349864), (966, 0.057934346157378365), (2069, 0.05781344591047839), (2221, 0.05777443749658734), (883, 0.05776531205478982), (4440, 0.057747016112909035), (1173, 0.05768471969216341), (637, 0.05764283240478986), (3681, 0.057538271696007504), (3149, 0.057527154706707315), (4152, 0.05752108211858582), (1456, 0.057474374720928395), (2068, 0.05732922295091024), (2035, 0.05732866578182449), (2802, 0.057320625189426024), (355, 0.05731044695635571), (1188, 0.057299094281999675), (3577, 0.0572607746842352), (264, 0.05725971602115821), (1678, 0.05724743186177634), (1980, 0.057142475038764455), (1249, 0.05691696084324492), (531, 0.05689329268585712), (161, 0.056810891797759305), (1827, 0.056803707648651065), (1682, 0.05677786871012439), (824, 0.05671872355839219), (1779, 0.056713302436272435), (848, 0.05668642865612222), (238, 0.056481119645871596), (1393, 0.05647300255185107), (374, 0.056459770824889156), (4321, 0.05644156307748243), (4156, 0.05640386332316583), (2133, 0.05615359632925392), (961, 0.05609614198042747), (1124, 0.05595304970864631), (655, 0.055866629282393394), (1175, 0.055808424758298426), (2928, 0.055767191308469646), (3077, 0.05575483627131907), (2461, 0.05564679168515494), (1460, 0.05561088904302405), (4631, 0.05555207082958998), (2032, 0.055528291950991654), (4169, 0.05545333242318526), (2963, 0.055451210184201793), (741, 0.05544312794992011), (859, 0.055247624540956046), (1423, 0.05515972715868058), (529, 0.05515432055421943), (638, 0.05513874441623616), (1640, 0.05511819334400235), (810, 0.05500116719730201), (228, 0.05497741871368989), (3840, 0.054958940941135084), (3500, 0.05482138329392761), (1101, 0.054654040824866024), (3297, 0.05465159351505769), (3098, 0.05463576989084515), (4081, 0.05460372474795594), (3360, 0.054553091888381665), (2129, 0.05447925920252757), (2159, 0.05443766777897621), (1187, 0.054437659177307834), (3984, 0.05442937541099527), (742, 0.05440364192074484), (3271, 0.05436924283438521), (2813, 0.054333837665455575), (2494, 0.05430929139692702), (685, 0.05429612283401544), (841, 0.054288259261069505), (3018, 0.05428591714298859), (863, 0.054267369943734586), (1271, 0.054200064617563284), (2626, 0.05419208130458814), (2049, 0.05418857403396647), (1061, 0.054171837181748964), (1549, 0.05407098273858874), (4457, 0.05401836756247311), (2234, 0.05400202680734929), (2297, 0.05392291485160394), (2779, 0.05392286171787798), (2060, 0.053903094924078195), (1003, 0.053902924026959266), (855, 0.053844863234917856), (3242, 0.053844523922936954), (2166, 0.05382387789524619), (2670, 0.05376848756671465), (1217, 0.05373374849755274), (1821, 0.05369707450620979), (1082, 0.053679947193523266), (3803, 0.05366945262870851), (84, 0.053668883299950024), (1696, 0.05358337949365075), (1202, 0.05358092240143232), (1550, 0.05355967177535722), (4665, 0.05334280506329861), (4046, 0.05332846255604753), (2393, 0.053305716134804115), (1306, 0.053278009826531116), (2616, 0.05324105341330041), (3142, 0.053229936013532014), (1400, 0.05320213518223767), (402, 0.05309519444986236), (39, 0.05307236238540746), (3716, 0.05299215287307908), (2689, 0.05291102063203501), (1778, 0.05279053690123064), (1248, 0.052789231109431935), (4124, 0.0527881092310323), (203, 0.05278659973528373), (227, 0.052759979426235254), (3442, 0.05271502728315415), (3121, 0.05270480267071274), (2877, 0.052700857598658064), (356, 0.0525938695473845), (3231, 0.0525133213504197), (1204, 0.0525105928257906), (358, 0.05250364643004356), (4404, 0.052424024020284794), (2637, 0.052417674085135556), (4570, 0.05233463493269548), (1831, 0.05231016295262253), (3896, 0.05228081312074007), (1973, 0.05224187033277249), (418, 0.052224168827486), (3235, 0.05210447255741159), (4013, 0.052008811426129356), (2131, 0.051995042616991866), (3880, 0.051980443818798815), (971, 0.05189751068971313), (2512, 0.051887632849292604), (4591, 0.051886111940112986), (4746, 0.05188583537280233), (1904, 0.05187399297257186), (173, 0.05187218499447841), (995, 0.05185643559500899), (4372, 0.051848269893840046), (3632, 0.051846990083097254), (830, 0.051832975465982284), (370, 0.051798218474458466), (1190, 0.05177662956600827), (733, 0.05176253871569563), (3891, 0.05175972963968565), (2348, 0.05172504972735522), (4369, 0.05152188109860962), (1693, 0.051418541049267526), (2845, 0.05138603140164799), (3536, 0.05135449777675142), (887, 0.051354196077640246), (993, 0.05130420570937064), (3933, 0.05128797952408814), (3182, 0.05125860682564169), (2104, 0.051224726605125066), (508, 0.05122241291065392), (4067, 0.05121195638056303), (2844, 0.05116377267843533), (1408, 0.05113686279948585), (861, 0.051097566324168286), (2996, 0.051094230409168426), (3403, 0.05104639167676862), (3656, 0.05102536523750913), (700, 0.05094561877826871), (2731, 0.0508576516504496), (2048, 0.050811952341718036), (4738, 0.050760069395028494), (524, 0.05073052386904378), (1575, 0.05069545245336911), (2856, 0.05066797749452134), (1316, 0.05066450608610355), (4259, 0.05056962505278279), (2114, 0.05056561981031135), (1614, 0.050534827222146306), (4024, 0.05052236440352726), (1317, 0.05050678774469903), (2517, 0.050473055851052856), (1668, 0.05039202469791114), (3352, 0.05038781571844639), (3985, 0.050381052008354674), (1106, 0.0503666825938005), (1946, 0.05036394093039476), (4371, 0.05034790499650247), (1983, 0.05032509926217209), (1135, 0.05022103366535499), (1105, 0.050218255326195185), (2185, 0.050186863707419246), (2704, 0.0501484375464079), (1629, 0.05014676507474406), (1298, 0.050134035870297765), (2103, 0.050045680578365906), (982, 0.05002887764979617), (877, 0.0499946636932618), (212, 0.04992987488777753), (29, 0.04987440774941756), (4752, 0.0498533498268207), (923, 0.04984124697249429), (2582, 0.04983986968933321), (4171, 0.04976988783433757), (1647, 0.04974817485917302), (2227, 0.049729360932728936), (2141, 0.049687302334254904), (1256, 0.04967227996461306), (1930, 0.049585974433240344), (2973, 0.04957125764150991), (1616, 0.04955804721281779), (3533, 0.04955117350428745), (4485, 0.04954844194544731), (3351, 0.049500540138162616), (3634, 0.049483303133279574), (502, 0.04944400840415974), (318, 0.04942912101010052), (969, 0.04940601501768448), (4033, 0.049356125381238944), (1589, 0.04933154422230894), (944, 0.04928536017515575), (3, 0.04923723692061154), (3177, 0.04923570890691225), (4664, 0.049172190263752226), (3834, 0.04915829447303872), (226, 0.04915056319407124), (627, 0.049141191044370376), (1993, 0.049125493640815476), (847, 0.04912547291754155), (3175, 0.04911544395096541), (3147, 0.049110114508969745), (2579, 0.04909516909570105), (573, 0.049010630123163285), (788, 0.049001099170276445), (1226, 0.04897039743891023), (506, 0.048963261545323614), (1888, 0.04893976196364672), (1438, 0.04889083866494555), (3585, 0.048883841392957365), (1780, 0.04887832775035163), (166, 0.04878933844400307), (3380, 0.04877336412181984), (1208, 0.04876687076602212), (4097, 0.04872761769837802), (2132, 0.048676183497731666), (750, 0.048666983708923216), (1485, 0.04864500131970051), (3728, 0.04863818626119383), (2491, 0.04858278423642002), (4622, 0.04855850145811643), (3964, 0.0484714705618696), (2838, 0.048429252872048995), (2300, 0.0481965982355327), (4329, 0.04819587940474564), (3329, 0.04817018479691455), (52, 0.048056166990616066), (1130, 0.04803115030730157), (1033, 0.0479990145266809), (1925, 0.047985641848582575), (632, 0.047933622942455095), (3458, 0.04789860105504404), (2774, 0.04789203927362313), (154, 0.04780557570687542), (649, 0.04778439756464537), (389, 0.047783536454067986), (476, 0.04778242281638659), (4524, 0.04777275000414967), (672, 0.04769914878405999), (4526, 0.04763185171169139), (1524, 0.047607684330519526), (922, 0.0475573271913976), (470, 0.04750735137453386), (4749, 0.047467388298483015), (4320, 0.04742120939197252), (2171, 0.047373368523389414), (1459, 0.04737203176135155), (3187, 0.047367915950181645), (1576, 0.04721976254034954), (223, 0.04719077950624036), (2821, 0.04716403960168307), (1766, 0.04713916174814526), (3735, 0.04713319320136918), (343, 0.0470479542917336), (194, 0.047032783039912485), (263, 0.04700950634831433), (1959, 0.04699400272997459), (1332, 0.04696317440443744), (1501, 0.04687786916884075), (1919, 0.04686459144559289), (3158, 0.04684386549803235), (566, 0.04677654195293375), (1829, 0.04675509225754376), (3669, 0.04669902969791931), (2167, 0.04669527663787407), (1631, 0.04644097781182243), (2712, 0.046431294088739375), (3474, 0.046414356560564606), (1738, 0.046348185611423266), (2056, 0.04628260922859059), (3790, 0.04624769661632082), (3179, 0.04624017376418016), (2650, 0.04615842693774387), (1601, 0.04614045531460191), (4183, 0.04611108221713361), (959, 0.046096005194306594), (4295, 0.04609531833270497), (3446, 0.046047509433714176), (1936, 0.04603706039807051), (4351, 0.04602147853246266), (871, 0.04601367928111318), (1913, 0.04584108849763077), (4027, 0.04582884819725116), (1200, 0.04582843756663278), (1567, 0.045813769900761823), (63, 0.045781961180819314), (4364, 0.04575592340074808), (3238, 0.04572819869090915), (2391, 0.04568805248784484), (2666, 0.045685409693751663), (2711, 0.045669823312359144), (455, 0.04566243761302432), (3558, 0.04566092706305163), (2460, 0.04561163472942292), (1767, 0.04561090220057566), (2894, 0.045590949809215235), (2589, 0.045549290146690596), (15, 0.04553839339154158), (2598, 0.045379782716588275), (4045, 0.04537873752897362), (219, 0.04535959976075932), (891, 0.045357000582529686), (109, 0.04526259145839506), (2564, 0.04524802820638832), (4562, 0.045246453577420936), (1929, 0.04521490157669471), (938, 0.04517846135820848), (4385, 0.04516638860182488), (3433, 0.04516315490749873), (373, 0.04505652893233809), (1155, 0.045054949688522826), (1718, 0.044982472816659534), (1798, 0.04494090168763107), (3678, 0.044932584715332805), (306, 0.044931620251958376), (1538, 0.04492514479368733), (2410, 0.044897167363392616), (4182, 0.044888735739870726), (4036, 0.044860231232763816), (834, 0.04485804295918179), (3226, 0.04480760118762289), (1707, 0.04476247967241142), (456, 0.0447486464256602), (2958, 0.04471498302373758), (1503, 0.044638549308924365), (607, 0.04462235308218048), (46, 0.04461045338402515), (258, 0.04459887238185738), (1688, 0.04459701443480095), (4460, 0.044594249023862206), (4052, 0.044572898247439686), (2438, 0.044539266562880826), (3869, 0.044502221668836814), (2152, 0.044484267579419715), (948, 0.04447015120411827), (2696, 0.04446556529583586), (4502, 0.04442916791762544), (988, 0.04442608520466655), (3022, 0.04431803396515307), (184, 0.044307555464594466), (2335, 0.04427943308880197), (3937, 0.04425110396838243), (3395, 0.044205248462040006), (1744, 0.04420142164999251), (211, 0.04414736698492242), (2799, 0.044136515854155435), (3926, 0.04408873761696796), (4089, 0.04407455859157262), (440, 0.04394644020532669), (3916, 0.04394246249265415), (2197, 0.04393327222334198), (2187, 0.04390057471944487), (1563, 0.04389911835357614), (3913, 0.04389067764551891), (1281, 0.043868001827019394), (2557, 0.0438664847175291), (3264, 0.043819495139805674), (1997, 0.043767461219088734), (624, 0.043694043282693454), (3950, 0.0436901119385287), (2447, 0.043681028323507703), (1950, 0.04367113780809424), (3180, 0.04361367444607441), (1114, 0.04360885809797871), (152, 0.04354240035404168), (4586, 0.043485285765710986), (3737, 0.0434841686237128), (865, 0.0434528768595538), (4082, 0.04344081321213558), (1981, 0.04341050027747043), (2190, 0.04333930627338607), (2323, 0.04328442482457775), (2301, 0.04327756654856157), (3415, 0.043261293042058405), (4420, 0.04325931728204596), (2193, 0.043229217595262305), (1465, 0.043149796832723505), (3328, 0.04314684404627817), (3140, 0.043123994701936695), (2376, 0.04310572232965777), (2120, 0.04306793281236572), (783, 0.043066115937449315), (16, 0.04304264568750055), (3410, 0.04303489880275112), (3063, 0.04301194452761269), (703, 0.043003192814547994), (605, 0.04291177749532604), (4533, 0.04291011980071521), (3202, 0.04285525960951973), (4350, 0.04285161521666386), (3440, 0.042769615983165865), (653, 0.042764320285931696), (835, 0.042761379551886566), (4511, 0.04273437097676662), (1410, 0.04272570041871985), (1478, 0.04271887998534279), (1816, 0.04271499090274424), (406, 0.04271089568478364), (1442, 0.04270894437481326), (4517, 0.04258567385335827), (4155, 0.04258210166250359), (4025, 0.04252508260908528), (4222, 0.04250521351117057), (958, 0.042458198007800776), (1117, 0.042453119085030105), (900, 0.042448443605170146), (1740, 0.04240368571276155), (2753, 0.04239726960027866), (92, 0.04235281561520612), (833, 0.042326154408833666), (1243, 0.04229931456862995), (1706, 0.04227930442662524), (3758, 0.0422413050585747), (4159, 0.04220354625596159), (3774, 0.04218679117015065), (2881, 0.04217878650259978), (4018, 0.042159403002718566), (2863, 0.042152778287624856), (1579, 0.042145605135369954), (676, 0.04211775930584551), (870, 0.04198357493803821), (326, 0.04196426214784732), (2402, 0.041960818787443066), (388, 0.041939942458187336), (3456, 0.041920321453657566), (3246, 0.041906267995998496), (1537, 0.041905242605085886), (475, 0.04187435223489976), (3534, 0.041866773740048734), (3276, 0.04182681655365184), (3270, 0.041805992649680095), (3004, 0.04176708204927239), (4483, 0.041706736123075905), (376, 0.04169320680929373), (386, 0.041685671489769434), (939, 0.041682341303469574), (1040, 0.04167070409174257), (144, 0.041599513150173385), (3857, 0.04159324907263344), (2064, 0.04155557564342707), (1585, 0.041512429807263315), (688, 0.04148371377688442), (651, 0.04148149196543309), (4405, 0.04142531431617145), (2368, 0.04142506579635112), (2211, 0.04137554714504689), (2534, 0.04136344370336646), (3067, 0.04135560867649644), (3237, 0.04134790718561439), (962, 0.04129879030776725), (1132, 0.041287469169890574), (4075, 0.04127067487073977), (1073, 0.04126190945695822), (616, 0.04124546292936419), (1215, 0.041222435641211336), (2904, 0.041213059798717276), (1592, 0.0412041256381005), (1938, 0.04112872687957579), (2791, 0.04112043955553961), (2518, 0.04111666254813505), (1918, 0.04106085582411613), (1708, 0.041016972461193284), (1412, 0.041002896129428354), (2037, 0.04100078324558738), (2611, 0.04098244234685527), (1572, 0.040978910567646826), (113, 0.04097860674509512), (1120, 0.04092046336165784), (1121, 0.04089873073743114), (3056, 0.04089742294442894), (4105, 0.04088265546067689), (4471, 0.04085392804645024), (3622, 0.04083251114996167), (283, 0.04077769411618208), (2576, 0.04073779114222383), (1847, 0.040714564390244595), (2583, 0.04070762998602458), (1979, 0.040644269289845686), (4208, 0.04058749249378684), (274, 0.04057715813796751), (1704, 0.04056591736933489), (3747, 0.04052333595350824), (760, 0.040516549097260046), (114, 0.04048664169544009), (4292, 0.04046994218378576), (1446, 0.040415323541251096), (2614, 0.04039146099788841), (3868, 0.04038776836323026), (334, 0.04037532276270695), (1867, 0.0402743430457891), (2776, 0.040257972428527945), (4699, 0.040245452043722776), (2346, 0.04021502166453612), (4667, 0.040192757386820224), (2688, 0.040183244380879245), (1206, 0.040165136095244636), (2539, 0.040154092581326226), (596, 0.04014653033307766), (3437, 0.04012907584902771), (3960, 0.040098241543090926), (3116, 0.040068697768359335), (253, 0.040048026534399574), (462, 0.04000270524507357), (269, 0.03998026247944894), (182, 0.03995728310767011), (1148, 0.03993472356073028), (3845, 0.03989789722029084), (2811, 0.039885241660815675), (652, 0.039832255085610814), (1339, 0.039804115137817946), (4597, 0.0397517710829534), (409, 0.03966650463097998), (1314, 0.03957355701339314), (1759, 0.03956422294587085), (555, 0.03955476984764261), (3936, 0.039548278670154605), (4287, 0.03951828947441015), (3954, 0.03950896847917319), (423, 0.03949784521074047), (3794, 0.03947535255867917), (4649, 0.03945818840600213), (2359, 0.03937811357558864), (4060, 0.03936692393839338), (1418, 0.039357169425440326), (3448, 0.03934893035286719), (4603, 0.03933990794904225), (3925, 0.039332110369433994), (1468, 0.03928553242494164), (1351, 0.03920852245134759), (899, 0.039158385186910165), (3579, 0.03913445270572786), (1361, 0.039108154677556066), (2803, 0.03910074252989394), (2760, 0.039090534387068374), (1802, 0.03901693248796976), (2124, 0.039000784113106465), (2642, 0.038970070894993485), (2000, 0.03896519815510453), (921, 0.03896074493955031), (2625, 0.03895172809934493), (3867, 0.03892665896602338), (2629, 0.03889786542416257), (3639, 0.03880124970002674), (4441, 0.0387986666693535), (1820, 0.03879517241106803), (528, 0.038786721804700414), (2920, 0.038784018741845394), (1322, 0.03877713426561131), (579, 0.03877527903378478), (3424, 0.03869571366974783), (136, 0.03869072143252855), (2766, 0.03867552434037064), (3644, 0.03865255772293442), (3835, 0.03859514429505348), (3279, 0.03858716794884693), (2340, 0.038563183460860365), (1891, 0.038552351816040914), (1658, 0.03854185190558803), (2397, 0.038540630260434326), (2477, 0.0385383524044309), (968, 0.03848027372117723), (3009, 0.03847403169525838), (4187, 0.03846873117314612), (2574, 0.03840363113612918), (3256, 0.03838370661536689), (885, 0.038368905410436326), (2452, 0.03834851287610476), (497, 0.03834066424969095), (3071, 0.0383336114775869), (1284, 0.03830983021947711), (3310, 0.0383085885802697), (4459, 0.03830750691081748), (707, 0.0382925495784586), (2543, 0.03822163534039677), (4051, 0.03814969103496852), (820, 0.038148657875747616), (2280, 0.03813815549653818), (1865, 0.03813172189551721), (717, 0.03807044219425644), (3011, 0.038043276871019466), (4417, 0.038038661169247125), (726, 0.038027563668221846), (2750, 0.03801293601120492), (2721, 0.03799642371285702), (3736, 0.037946583527963346), (3212, 0.037923185156828194), (1721, 0.03792007668911662), (485, 0.03787186143075186), (4281, 0.03783619506733326), (329, 0.03779821924731698), (3877, 0.037747624797110524), (2830, 0.037740085679112155), (3580, 0.03772010660408747), (242, 0.03770938889633413), (3741, 0.03767847200953974), (4598, 0.037629659259048064), (2853, 0.03761452178759511), (2456, 0.03759147580332409), (158, 0.03758246122477875), (4652, 0.03757030219303485), (2443, 0.03748497737792722), (1084, 0.03748121863016828), (3708, 0.03745171183710883), (3722, 0.037447620460180735), (3161, 0.0374447203635815), (4547, 0.037419478607073516), (3369, 0.03741531551197472), (3137, 0.03741480607523031), (4318, 0.03737473725230096), (2715, 0.03730780950043589), (1497, 0.03725643469442273), (4474, 0.03724143891138372), (979, 0.03723728196996537), (1907, 0.037219559218262234), (4032, 0.03719424432543291), (390, 0.037159993587616555), (1553, 0.03713735499773888), (2309, 0.037129208721664336), (940, 0.03712260232009771), (3234, 0.037106038427404564), (2469, 0.03707973548155378), (4119, 0.03707591344376567), (363, 0.03693549364284896), (3061, 0.03692680394656064), (4008, 0.036924854688366725), (1178, 0.03690274751722812), (602, 0.03689872838998352), (974, 0.036880407173322347), (3997, 0.036858462899546335), (2873, 0.036821913198475185), (2596, 0.03681167686502459), (4523, 0.036761126969977916), (4056, 0.03674154510996812), (1850, 0.036738378660507554), (2314, 0.03669637565227141), (950, 0.03660822614636331), (469, 0.036607335242698665), (1364, 0.03659514665520494), (1957, 0.036571668935562206), (1268, 0.036556040905443635), (3240, 0.03654337483195966), (2407, 0.036526770992998496), (2105, 0.036488526607265766), (4175, 0.036487238737256046), (2975, 0.03646507944994089), (3434, 0.036454754259814204), (3494, 0.036440250605341146), (1471, 0.036407424245024585), (1010, 0.036351424121640455), (3528, 0.03629136046506834), (4484, 0.03628667521318509), (2154, 0.03628198684336301), (3754, 0.036266691610936576), (2511, 0.036239490880859544), (273, 0.036204117534060686), (1401, 0.0361967152901863), (3646, 0.036169049039315164), (846, 0.03616447921318204), (2740, 0.03616345870650808), (1170, 0.0361575537329214), (2291, 0.036149762295128285), (1344, 0.03614897210386759), (325, 0.036146142960585624), (2640, 0.0361264465718695), (3655, 0.036121992717847766), (3818, 0.036119353427309986), (3697, 0.03610474222526773), (4210, 0.036088526754308375), (3511, 0.036069945049195286), (1994, 0.036056451124099845), (51, 0.03605215203760343), (178, 0.03604680995308864), (3654, 0.0360377922149491), (2875, 0.03601855891537445), (4034, 0.03598606684065502), (4549, 0.035983304550405715), (934, 0.0359737228147617), (2986, 0.03596959889135991), (3314, 0.03596440016450007), (2654, 0.035958227858434846), (4218, 0.035955001947081115), (2269, 0.035915543813625626), (1926, 0.0358872117513472), (789, 0.035863751755212), (1349, 0.03584504353301047), (2673, 0.03582587694773402), (3477, 0.035813467468132965), (3733, 0.035796474983379), (1870, 0.03576566511510358), (3192, 0.03570964792842006), (23, 0.035708389340366034), (2379, 0.035667261068237255), (4650, 0.03562900092551644), (2490, 0.03562094711918708), (1681, 0.03561155565973074), (2319, 0.035597313239585274), (1211, 0.0355890482860521), (1367, 0.03554287906880901), (4079, 0.03552193506441382), (1920, 0.03551921264405661), (4501, 0.03551823805762589), (3102, 0.035467670226468295), (1638, 0.0354608544013952), (589, 0.035450136065437565), (2762, 0.03543462816151322), (1533, 0.03543261951772636), (1597, 0.03535853611571976), (22, 0.035327660623074714), (317, 0.03532737304515268), (2149, 0.03531648193900793), (1289, 0.03531048850881741), (2399, 0.035308871925052186), (4741, 0.035299625702456615), (1177, 0.03527606843309698), (82, 0.035259824231549663), (106, 0.03524483185979625), (3389, 0.035230668065475666), (3219, 0.035195050041667286), (1340, 0.03518660534473768), (410, 0.03516508247769596), (2109, 0.03516348409860434), (1737, 0.03512405769383873), (71, 0.03510466238494998), (104, 0.03510366934466128), (2420, 0.0350175887926665), (4659, 0.03500317755219879), (3139, 0.034990675626574236), (3205, 0.03496947871111139), (4496, 0.03495197538071004), (186, 0.03495154961587251), (509, 0.03492498895760508), (1126, 0.03487541895194265), (1768, 0.03486454642966513), (4337, 0.03485221763495082), (70, 0.03485050560093768), (984, 0.034842369947352125), (4367, 0.03482384164888438), (1961, 0.034792561967330306), (2978, 0.03479227205752333), (4514, 0.03478774227252123), (3782, 0.034744680061754435), (3594, 0.03473572790823082), (1671, 0.03469018722622119), (2416, 0.03464865819061078), (1731, 0.03464055377413144), (854, 0.03463455255213105), (2140, 0.03463154641708919), (4653, 0.034616558219729386), (2653, 0.034604873159515354), (4725, 0.03459475664341674), (4623, 0.034497105718512985), (1764, 0.03443690925401862), (960, 0.034425210260030356), (2910, 0.03439702215074508), (4243, 0.03439187148799053), (1425, 0.03438574758382486), (724, 0.03435997136238077), (2887, 0.034352832083173065), (3370, 0.03433224933336418), (1511, 0.03432908730929608), (3503, 0.0343266418103143), (3648, 0.034321048584071145), (1436, 0.034320430499278534), (3288, 0.034316095013109005), (3932, 0.034309920933767266), (1909, 0.03428959687687512), (1624, 0.0342870944980193), (3164, 0.03426422429701737), (3667, 0.034247891227025665), (2093, 0.03422891028748391), (1869, 0.034222337086983946), (1719, 0.03420025769943418), (2195, 0.03417593119740409), (3250, 0.03415895380352958), (167, 0.03414027081153475), (2716, 0.034068807130569104), (2964, 0.03406209318640563), (3141, 0.03404813958779893), (4164, 0.03404046784230079), (551, 0.03399749926281248), (4275, 0.033943048006882595), (1096, 0.033936808533522066), (2548, 0.03393111921783173), (927, 0.0338556535347404), (2351, 0.03382636434723329), (4099, 0.033792363543256924), (2123, 0.0337893952792027), (4203, 0.03375954043780886), (572, 0.03372525555836743), (4639, 0.03371764179356218), (3907, 0.0336530572967067), (745, 0.03364712651996783), (2884, 0.033636317679024245), (1717, 0.033620478637379846), (256, 0.03361860370346848), (4428, 0.03358535208794787), (3281, 0.033551500209263986), (2747, 0.03355106759978361), (4098, 0.03354055607823292), (658, 0.03353557941707016), (121, 0.0335127822139403), (2274, 0.03351243598469793), (3381, 0.03349840607482199), (3919, 0.03346176845379252), (1409, 0.03345568674621564), (1931, 0.03343169050137775), (3129, 0.03341582138095605), (3855, 0.033392904261758644), (693, 0.03335111988500238), (2519, 0.033328089500715995), (309, 0.03329627336676541), (3872, 0.03325955245968201), (4376, 0.033255847614785), (3151, 0.03322895765258598), (1440, 0.0332262145543785), (4146, 0.033212362258685194), (2076, 0.03319167000818872), (4442, 0.033167824667428174), (996, 0.03313544142221875), (345, 0.03313444658570246), (2206, 0.033093255696642086), (2960, 0.03308328265752942), (1477, 0.03307623165671657), (2254, 0.03307172324025036), (3412, 0.03306532471590431), (2940, 0.03304446545038741), (797, 0.03302602718495425), (2160, 0.03300304632337303), (2205, 0.033001368437582265), (1448, 0.03295903335055926), (598, 0.03295473688334946), (3885, 0.03293837441908801), (972, 0.03289800407389306), (1677, 0.03287229033703353), (2618, 0.032872088141268525), (2270, 0.03286796316080684), (930, 0.03284571052605797), (3807, 0.0327739377195582), (1231, 0.03276050311948847), (622, 0.03274779442764175), (1234, 0.03273814980437351), (2969, 0.03273740988588802), (4151, 0.03272072273067363), (3659, 0.03271164080848715), (1505, 0.0327089638989993), (3556, 0.03264181400596927), (1921, 0.03262610278091206), (2308, 0.032620043680177145), (1273, 0.03261184167480028), (2546, 0.03255484056810329), (680, 0.032534992346810544), (3898, 0.03251747905751945), (829, 0.032491616871425426), (2995, 0.032475885269517876), (1034, 0.03247438651104936), (1027, 0.032426118360862045), (2144, 0.03239771537621413), (2045, 0.032394425518664456), (3517, 0.03237945585187963), (553, 0.0323476913830688), (116, 0.03234065264017219), (1788, 0.0323194311316546), (3518, 0.0323024528655067), (4447, 0.032297127726845266), (4735, 0.032289849094526396), (3514, 0.032275454665450246), (3691, 0.032260502291416956), (692, 0.03224520293196845), (3814, 0.03219985603712515), (2892, 0.03218907751886346), (3293, 0.0321855089705853), (1254, 0.032182342234023), (2012, 0.03218144725994706), (2852, 0.03217163296757702), (4515, 0.032136802401449664), (4177, 0.03205130020747281), (1782, 0.0320471264473298), (1818, 0.032030915870438534), (4686, 0.03200688230309932), (240, 0.03194723788085588), (4558, 0.03191245901453667), (2339, 0.031908124677136475), (1622, 0.03188544269256442), (3300, 0.03186710556236205), (74, 0.03186579735465777), (2292, 0.03185049228265184), (816, 0.0317975772449183), (3668, 0.031787313598044355), (1996, 0.03173231751513639), (805, 0.03170736135751129), (2581, 0.031654643758458854), (3229, 0.031636106098783714), (3272, 0.03162437831372376), (2948, 0.03162294038235322), (3400, 0.03159797862609664), (4479, 0.031559698118514105), (1348, 0.03153879704295784), (3419, 0.031490333453637234), (365, 0.031470531146372674), (291, 0.03146078451530629), (620, 0.031441541480244944), (2730, 0.03142254494941307), (2362, 0.03141071290307772), (557, 0.03140041545506916), (1107, 0.031399197263009264), (270, 0.03133553869323699), (3643, 0.03131735731262936), (2923, 0.03130079636075431), (4004, 0.03125469022674669), (4272, 0.031238044578957118), (3209, 0.03123010624649796), (2908, 0.03121377458760353), (4436, 0.031209337438157025), (1134, 0.03120813368514693), (543, 0.031205937654515334), (2387, 0.03120417591825927), (1684, 0.03116611450988575), (746, 0.031115246946898455), (2917, 0.031090204633484546), (3553, 0.03108845496501608), (2641, 0.031082787160763865), (936, 0.031066730656355374), (1561, 0.031044538560545336), (800, 0.03103440761121421), (1615, 0.031032454080667644), (3101, 0.031000736206978134), (773, 0.0309535756804644), (1394, 0.030947442642113368), (2203, 0.030929578155277377), (3043, 0.03089026197870163), (60, 0.030883947182463418), (276, 0.030852336705983134), (1379, 0.030838746016983262), (18, 0.030831891045894334), (4120, 0.030831714155194465), (2457, 0.03082394069868378), (2067, 0.030776801359380896), (827, 0.030771932581915448), (2977, 0.030744009613350644), (608, 0.030738729098786954), (2706, 0.030717420713136486), (312, 0.030671908172658288), (956, 0.03065917487444936), (1797, 0.030651366015145173), (2471, 0.030614881697456835), (3575, 0.03061473643724319), (1411, 0.030550386264098426), (520, 0.030548380190816325), (2111, 0.030520013635759374), (4233, 0.030512992587394584), (3228, 0.030508682080042857), (2818, 0.030501779977697884), (895, 0.030498559731406312), (4181, 0.030488924539541964), (4064, 0.030480816088107113), (1971, 0.030477917053316223), (1488, 0.030476316346745976), (466, 0.030469062923479593), (3104, 0.030464759111148498), (3943, 0.03046143043363392), (4255, 0.03043822542490094), (4017, 0.030437776598237154), (2277, 0.030437188275873977), (3640, 0.03043158552267835), (1006, 0.030427652747288078), (132, 0.03037947653680512), (215, 0.030372870420894316), (3260, 0.030332962224647098), (2644, 0.0303259324277953), (2782, 0.030295918051568196), (1727, 0.03029547099906936), (2027, 0.03028961089598915), (1091, 0.030281521025906293), (1890, 0.03027819753111048), (4125, 0.03023649218825472), (1627, 0.030234292379540492), (2806, 0.030208984114857666), (131, 0.030208127183170817), (1698, 0.030193349975804668), (911, 0.03013905113521236), (4560, 0.03013773384774143), (3513, 0.030133039081722462), (2395, 0.03012930535684354), (2732, 0.03011042301296841), (1390, 0.030106260862935937), (1242, 0.030065231231933165), (43, 0.03005968612605083), (1945, 0.03004268034280673), (1274, 0.03002328691103799), (540, 0.029937066929690895), (4427, 0.029928483086366975), (1664, 0.02992304094500062), (2257, 0.02990961395909035), (915, 0.029899282670690135), (2040, 0.029874624823742597), (2375, 0.02985165217563103), (4656, 0.029826525001140674), (576, 0.029787901586168355), (33, 0.029785968432348826), (4596, 0.02977964318071107), (1603, 0.029779562703946588), (3813, 0.02977318636295181), (1336, 0.029756274457936535), (1880, 0.029698967058933375), (44, 0.029681256127008688), (2208, 0.029658939730577955), (1259, 0.02964732991535209), (205, 0.029631364639268788), (3826, 0.029594746501784366), (1013, 0.029568164134267497), (844, 0.02955476064208388), (450, 0.02955133977291733), (2156, 0.029536804918462743), (2530, 0.02952651846461151), (4009, 0.029521863183556613), (3259, 0.029511742666217533), (4314, 0.029444212986935645), (3582, 0.029417118403032114), (2809, 0.02941568905909977), (1031, 0.02940875480829436), (1793, 0.02940004865212416), (4305, 0.02939792705199071), (4194, 0.02939353769010304), (2587, 0.02938223005399962), (1443, 0.029371239448974504), (3598, 0.02936349582499227), (1763, 0.02934379039260625), (3801, 0.029328961711286933), (2236, 0.029319435542985908), (1458, 0.029303251114286097), (2058, 0.02925638159338059), (1965, 0.029229130231285053), (3092, 0.029200294429156125), (1156, 0.029171316085258615), (1047, 0.02915542401588624), (1606, 0.029148393050139717), (3811, 0.029145093907447413), (4518, 0.02913265010124657), (4149, 0.02912559588530924), (1045, 0.029097912417798424), (3086, 0.02909293944998549), (3858, 0.02904820052834276), (719, 0.0290398670012912), (2188, 0.029011425406503255), (3941, 0.028971680408401094), (2571, 0.02894777281727882), (346, 0.02893998453085107), (1536, 0.028927227863154676), (1166, 0.028887630038990714), (3189, 0.028867814000516842), (4536, 0.028862549523997635), (2648, 0.02885483209203529), (2472, 0.028851679033983765), (3506, 0.02884896389552155), (4495, 0.028846375095551328), (2911, 0.028837383282099515), (3068, 0.028823190091209597), (1729, 0.028822131159407315), (47, 0.02879120146620163), (1534, 0.028786457747802214), (2703, 0.028786124193039008), (4304, 0.028760617499266887), (1557, 0.028754567864461452), (740, 0.028750925679832107), (3201, 0.028721748299261555), (316, 0.028703210656517777), (3948, 0.028679279157706423), (1052, 0.02864847947031303), (4660, 0.028646758231823215), (3912, 0.028589054264030217), (209, 0.02858207450602419), (901, 0.028561378153838538), (2907, 0.028519344889267592), (28, 0.0284117190010829), (324, 0.028405352532877744), (2480, 0.028383542653070297), (906, 0.028349156427624672), (1599, 0.028332536942184135), (3418, 0.02831529775029562), (2924, 0.02831339143014782), (3876, 0.028289811930432562), (1963, 0.02828721995713271), (4757, 0.028281742000168177), (438, 0.02821635823717836), (3023, 0.028209819670953505), (2752, 0.028200171307203536), (1403, 0.02818598552807552), (2357, 0.028181313712580324), (3563, 0.028177308813720513), (2177, 0.02817489057098329), (2098, 0.028165853620984223), (4470, 0.02813285242970557), (2562, 0.028064639344910988), (237, 0.028001352214235643), (2538, 0.02799252501790585), (1180, 0.027990490798936146), (4257, 0.027898575707970115), (434, 0.027893514224901925), (3318, 0.02788995918187907), (3570, 0.027808265153296888), (188, 0.02780067087877431), (2019, 0.027791406482670544), (832, 0.027745209122499767), (4138, 0.027725466166715472), (2742, 0.02768311242112416), (1021, 0.027680830224488612), (3303, 0.027651770991306297), (2738, 0.027650295083368647), (4135, 0.027602063229185746), (636, 0.027557934177967373), (3249, 0.02753970150592252), (4737, 0.027533649472708022), (1292, 0.02751808385370186), (1043, 0.02747232334145807), (4113, 0.02745029852340725), (4031, 0.027450169142238356), (342, 0.027386019553572595), (4288, 0.02736701124386362), (4307, 0.027343262036777227), (3637, 0.02732515777395815), (3588, 0.02730061943156886), (1535, 0.02727553619401197), (208, 0.027210926222491452), (2239, 0.027209653330900287), (4137, 0.027178442225718757), (3559, 0.02717385396391417), (1845, 0.027160958543289763), (1758, 0.027153649555809786), (4409, 0.027125810641287607), (1812, 0.027125452491172666), (4462, 0.02711997080568703), (696, 0.02710780022846608), (1260, 0.027087715541865464), (3428, 0.02707312417482977), (105, 0.027062547560891), (4078, 0.027024230114566946), (4399, 0.0269827142400962), (332, 0.026979013749156178), (1103, 0.026959280203119166), (3426, 0.02692364734710649), (4719, 0.026915106440107386), (4531, 0.026907213037958132), (4263, 0.026889311803131963), (2219, 0.026879060144374415), (3886, 0.026874325505639684), (4494, 0.026855062480307938), (3990, 0.026840270443337734), (3471, 0.026832985984197068), (2486, 0.02681033148776742), (3344, 0.02680481161821515), (9, 0.02678368091399373), (1327, 0.026715056692780674), (1811, 0.02671466919034144), (357, 0.026678742399584877), (2565, 0.02666820051238326), (3033, 0.02666745256902263), (99, 0.026650219991184762), (3069, 0.026647349542169286), (1346, 0.026627446100448666), (128, 0.026623101451884876), (3483, 0.026617435359225165), (3414, 0.026609880762851073), (3001, 0.02659442884542887), (2573, 0.026588799541569653), (2279, 0.026587218596503946), (2524, 0.026582261131900094), (287, 0.02657832592511003), (4401, 0.026559363461806363), (4122, 0.026510768774474218), (4057, 0.026502347670055437), (2426, 0.026479206422095142), (3889, 0.02647687234146509), (1068, 0.02647665179625439), (4127, 0.02643908636051644), (3765, 0.026437200254425728), (2668, 0.026371859669616228), (3373, 0.026371359711189916), (1192, 0.026339353572917553), (2311, 0.026323459626846294), (2431, 0.026321296953619767), (1849, 0.026267718317890026), (1669, 0.026265107862207596), (3695, 0.02624937773815399), (2081, 0.02623279576987068), (2624, 0.02622424779472674), (4189, 0.026217110567038647), (3084, 0.026212152874068584), (771, 0.02616150191445185), (2481, 0.026149632185767886), (3108, 0.026139890458401746), (2729, 0.0261193538950261), (2072, 0.02606375815658067), (1666, 0.026058244429038636), (3196, 0.026050200264959116), (623, 0.026044706698275792), (303, 0.02604158476314457), (1777, 0.02602435250776015), (4601, 0.026019169665334588), (1193, 0.026012158020567958), (2367, 0.026010264595197875), (4220, 0.026010228838112288), (2612, 0.026009882794569457), (3689, 0.02600300005279543), (2615, 0.02599459995016021), (588, 0.025991999673528637), (1318, 0.02598638990163927), (2680, 0.025970536453605607), (1776, 0.025966172130677798), (2183, 0.025949422145391924), (4005, 0.025943179763213687), (2592, 0.025938918506605242), (3285, 0.0259234055476272), (4398, 0.025918366284239096), (1469, 0.025900047502607892), (2878, 0.025849842831804186), (4510, 0.025849748606341948), (2290, 0.025849713625718616), (762, 0.02583253180706646), (1856, 0.02582440847348355), (6, 0.025820492812984562), (3273, 0.02581473604457658), (1075, 0.025795503863494686), (4384, 0.02579541208097226), (2315, 0.025792859884584917), (3837, 0.025775603280362224), (731, 0.025761693255407912), (1057, 0.025750429997104102), (1949, 0.025735327867425745), (1342, 0.025732030993204334), (4516, 0.025720469220514647), (1854, 0.025713046791309573), (4551, 0.025709682121934006), (3844, 0.025685833155832782), (2542, 0.02565043557078745), (3041, 0.025631616989792855), (159, 0.025631159591736882), (1924, 0.025624972144086454), (1710, 0.025615423826295475), (1795, 0.025600935947647858), (3057, 0.025598222759230408), (1375, 0.025596673102354667), (2965, 0.025582716555411344), (59, 0.025575756151491477), (2552, 0.025511828972548202), (2405, 0.025504791775547507), (4332, 0.025475797906070977), (1239, 0.025475582692304297), (578, 0.025417575224847826), (4266, 0.025381095193111398), (3386, 0.02536222057111892), (1484, 0.025351481872562885), (4744, 0.025350925295812763), (2931, 0.02535072715736319), (31, 0.02532805630904263), (3343, 0.025305787513570162), (1432, 0.02529460265109492), (732, 0.025286154395230766), (3334, 0.02524964620055122), (2261, 0.02524742238824159), (1784, 0.025223099730125795), (807, 0.02521833779389917), (521, 0.02521732395575608), (4378, 0.025212840584522205), (664, 0.025182957965396817), (1807, 0.025140361413384042), (3777, 0.025116384014820692), (1282, 0.025104212417624686), (4111, 0.025082654508068243), (2007, 0.025079780817218168), (3860, 0.025078564734410523), (2591, 0.025076515122493547), (4219, 0.025064598911301965), (1552, 0.02504182840042441), (1543, 0.02503442756094209), (2454, 0.025031197376186774), (2212, 0.024959084937270726), (3470, 0.024940945682819547), (1153, 0.02491500619751739), (2313, 0.02489685685557491), (3447, 0.024896075985953788), (1773, 0.02487870379765777), (527, 0.02485902103238758), (3685, 0.024851091234590183), (643, 0.02483661703009969), (2746, 0.02482290122895411), (4260, 0.02481915650431603), (4466, 0.024774756966442477), (3551, 0.024750024245615135), (414, 0.024726923088247876), (1462, 0.024701895767761557), (811, 0.024691110159042216), (667, 0.02468801396738851), (3698, 0.02468619634310696), (2264, 0.0246592847359983), (401, 0.024611358724385017), (1954, 0.02458757416066555), (288, 0.024579253941249386), (4475, 0.024538003567681974), (4130, 0.024515835799557302), (1809, 0.024485573167989532), (3227, 0.024480515696114008), (3232, 0.024466382865468865), (3382, 0.02444875655577667), (1081, 0.02442789099420991), (2613, 0.024420810962000234), (2378, 0.024395218774249813), (285, 0.024391010533173916), (1711, 0.024384989221888212), (2411, 0.024377266940997202), (1991, 0.024345094888280832), (4648, 0.02428507648834987), (563, 0.02428446816598477), (490, 0.024282808163063663), (1457, 0.02427407652415807), (4589, 0.024262748838456433), (4322, 0.024241824587591203), (4143, 0.024208301918988134), (3764, 0.02419219691376146), (4451, 0.024184230037754797), (880, 0.024170238480135567), (4468, 0.024150467255465678), (1934, 0.024145470774846467), (4360, 0.024126422812738805), (3466, 0.0241170900321142), (2465, 0.02411224285819087), (1046, 0.024102422339517926), (4002, 0.024073687292581462), (3065, 0.024059524907561598), (4340, 0.024026867185126657), (1008, 0.023978579232760817), (2102, 0.02397332044579474), (1029, 0.02397123029211124), (1876, 0.023941476699885313), (241, 0.02393943983363966), (2912, 0.023930588555500586), (565, 0.0239274926614), (2250, 0.023914510223473153), (3562, 0.023910682352570718), (3113, 0.02389776604076391), (378, 0.023873496524264976), (3564, 0.023863915728431478), (1016, 0.023849505993471902), (1723, 0.023837516667405922), (1385, 0.02383466438083825), (2831, 0.023832075542943018), (2572, 0.023813998265005475), (3929, 0.02379994503941712), (614, 0.023783810018811566), (1245, 0.023770409249759802), (1532, 0.023748070120733576), (3346, 0.023741446356841448), (4232, 0.02372243892904549), (483, 0.02368234101238193), (4247, 0.023670506092325905), (422, 0.02363823524841421), (1261, 0.02363717792737512), (117, 0.0236346957326247), (480, 0.023632109812570478), (4446, 0.023616167355068295), (574, 0.023602512078751674), (951, 0.023596059682551778), (1967, 0.0235866508107465), (2690, 0.023572545858876078), (1064, 0.023558780655873527), (224, 0.023527355458199832), (3397, 0.02351747350440204), (57, 0.02347846557446311), (4731, 0.023469899732097607), (3864, 0.023457187198883293), (168, 0.02343351245878876), (787, 0.0234308924241341), (286, 0.02341569114183762), (147, 0.023395389344294238), (4682, 0.02339352269228148), (2959, 0.023391662669593527), (866, 0.023383277439570617), (1429, 0.023376810068683054), (600, 0.023366782729413078), (2178, 0.02334272401317998), (1194, 0.023312619137953065), (3797, 0.023289134035424312), (1732, 0.023279727043315383), (1353, 0.023262036941408434), (2903, 0.023246464524212973), (4035, 0.023216818330493154), (4567, 0.023204716833869012), (3323, 0.023189633012075953), (2134, 0.023186537226157475), (1007, 0.023180748608051978), (308, 0.023180133728057495), (4095, 0.02315750495976029), (2053, 0.023157168051231622), (4282, 0.0231535104999399), (122, 0.023146657661041667), (120, 0.023132657219752155), (4576, 0.02312107474123361), (2107, 0.02308902346460355), (330, 0.023021187209935342), (545, 0.023020218927435887), (873, 0.02300241682817775), (83, 0.023000724922934715), (4273, 0.022952929409590057), (1626, 0.022952869169110972), (465, 0.022919076530137493), (3105, 0.022915953219085922), (3218, 0.022913791189362032), (3498, 0.022898754610732697), (4453, 0.022886300277905218), (4658, 0.02288544587441483), (4283, 0.022863875986665134), (1858, 0.022858618651635153), (2381, 0.022853348700538692), (1338, 0.022848835779732853), (1110, 0.02283466619073201), (4054, 0.022827509004046696), (802, 0.022801572278689574), (902, 0.02279347600630643), (3438, 0.02278864895536288), (1882, 0.022761500754128274), (3705, 0.022760525642439716), (2198, 0.022740871155087303), (1695, 0.02273905797475414), (1079, 0.022727033238462396), (1539, 0.02271843501009852), (1374, 0.02271403356196388), (2921, 0.022712719322148543), (4641, 0.022693977056871567), (1872, 0.022686147890290567), (2142, 0.022678907195414533), (2121, 0.02266246656928087), (1054, 0.02266085981731238), (2241, 0.022649866898543584), (4003, 0.02264245301883374), (2678, 0.022632514674346536), (1902, 0.022628447224506378), (4043, 0.022624727351677042), (804, 0.022623140633670817), (126, 0.022612314557075335), (3552, 0.02260179455352445), (1602, 0.02259890687430521), (549, 0.022596095325809987), (2383, 0.022569480544767293), (2633, 0.022564202536159997), (111, 0.022554132415260972), (694, 0.022537187389922348), (2899, 0.022529237000067155), (1131, 0.022504843455112347), (1789, 0.022489168983332385), (1012, 0.022485041566718825), (3120, 0.022478378863307648), (1735, 0.022462389486032453), (2355, 0.022452456022983278), (3243, 0.02244668211598848), (4142, 0.022429204128211998), (3628, 0.022414729818887452), (1247, 0.02239601600545536), (4141, 0.02238318771771719), (562, 0.022368168156102243), (2635, 0.022363953690646053), (678, 0.022345725302200185), (4267, 0.022328594436104444), (4465, 0.02228589967300054), (4244, 0.022277049907801882), (1982, 0.022242093842821876), (2082, 0.022236842146222895), (3294, 0.022236301259978587), (2047, 0.022226800881553963), (14, 0.022220494476494854), (348, 0.022203791149809596), (100, 0.022200055824686482), (305, 0.022198564469935452), (4418, 0.02218385222517625), (3849, 0.022171382484697164), (1074, 0.02216573596333856), (2353, 0.0221161805555438), (1197, 0.022065120004649746), (4053, 0.02203086689426636), (479, 0.02199320744111999), (2474, 0.02197460973056424), (1692, 0.02197186448223325), (3178, 0.021971653931627477), (2792, 0.021961540536548956), (3600, 0.02196087414472333), (235, 0.021948161119492365), (4173, 0.02193075323073989), (36, 0.021930641571841946), (2095, 0.021920746290936943), (3358, 0.021894275071480895), (898, 0.02187526049240772), (1990, 0.021863905207711358), (690, 0.021847884767223134), (4500, 0.021822414212233947), (3253, 0.021808158333472397), (160, 0.021807963528327035), (1324, 0.021791292684252152), (3464, 0.02172373431900853), (2988, 0.021706292614935976), (1964, 0.021664452888662773), (1414, 0.021660137569063206), (87, 0.021652735165965324), (3336, 0.021571500614950723), (3509, 0.02156579479083994), (3406, 0.021559407757537473), (554, 0.021554354200646015), (1541, 0.021545315759258082), (328, 0.02153325607550494), (2751, 0.021524085143820773), (2016, 0.021519582180842836), (535, 0.021491778585789083), (137, 0.021488729749479095), (4739, 0.02147096250564489), (3188, 0.02145621145075169), (4740, 0.021437229983729857), (1970, 0.021430223981178324), (1380, 0.02140718947941308), (597, 0.021398589863088326), (856, 0.021392640558064106), (2331, 0.021386307850824408), (3956, 0.021361058269823926), (3833, 0.021360300785131504), (3495, 0.02133971541137355), (1189, 0.02133755319607649), (656, 0.021325038527328647), (4191, 0.02127030466453013), (910, 0.021265674434798855), (3005, 0.021258860900299263), (3815, 0.021245811006796365), (4416, 0.021228089337179217), (4582, 0.021222503776023586), (2163, 0.02121112028809454), (3542, 0.021209133718758197), (2563, 0.02119760560120073), (1265, 0.02119047310983265), (818, 0.021189755673031715), (1062, 0.021180668385335832), (499, 0.021161806951025118), (657, 0.021139086793246442), (2513, 0.02113546453950592), (2122, 0.021074742243516763), (3091, 0.021053404879874334), (519, 0.021018312886831647), (3039, 0.02100260875296442), (1661, 0.0209957363994229), (763, 0.02096457992980829), (4148, 0.020951091072229203), (3768, 0.02095071304253375), (35, 0.020943704297722646), (4327, 0.02093418465111239), (755, 0.020921775462164276), (3133, 0.02088550414576383), (32, 0.02087531880536974), (3416, 0.020852344856443085), (1037, 0.02084945688516817), (1504, 0.020831947183725746), (2551, 0.020826882366040297), (1772, 0.02082493994265643), (1219, 0.02080166060855298), (142, 0.020799425951940936), (1944, 0.02077898327215697), (2972, 0.02075526036729286), (2003, 0.02075241115232295), (3332, 0.020742974618640816), (3583, 0.020727191200998186), (1272, 0.02072417247527868), (3245, 0.02071004643740622), (1523, 0.020708591521389486), (2440, 0.020684384483167454), (1386, 0.02063637870721552), (570, 0.02062639531634893), (776, 0.020609306568894478), (3317, 0.02060163988300994), (3606, 0.020589293779187025), (2145, 0.020570976714781808), (1843, 0.02055788451140379), (874, 0.02052861832903398), (195, 0.020520371207020376), (3002, 0.020512914580899214), (2709, 0.020506426209702604), (1608, 0.02050568754666182), (1916, 0.020491480133853095), (4581, 0.020487300754901922), (3662, 0.020487249913131455), (3094, 0.020485934732763653), (2446, 0.02045134247686356), (583, 0.020438422775018655), (3884, 0.020411341207322194), (4473, 0.020406314844306276), (1341, 0.020401107526714795), (989, 0.020388794243522645), (569, 0.020359597659020078), (1319, 0.020337473670094176), (2101, 0.020310701076288636), (1205, 0.020308213465690277), (2824, 0.020302158164663346), (3895, 0.020298229494680714), (197, 0.020293965471014804), (2893, 0.020278328641337003), (4174, 0.02026689673998361), (953, 0.020252065359788858), (1161, 0.020247364836845208), (2298, 0.020226875784852775), (1716, 0.020225278287569065), (823, 0.02022133761955143), (1653, 0.020214544325478968), (4655, 0.020202514524266083), (4396, 0.02017687238616676), (2529, 0.02017280400520622), (415, 0.020159635048569106), (626, 0.02014542861353965), (2022, 0.020138127872787355), (1236, 0.020080625996295558), (4393, 0.020075906019620088), (3651, 0.020068866640568922), (3387, 0.020001810474738455), (670, 0.01997515075349931), (2322, 0.019966644008344272), (2761, 0.019953846101040777), (1221, 0.019951693812800958), (3917, 0.019940514644104478), (4309, 0.019938914446269045), (2913, 0.019917654466035186), (381, 0.019891562777993164), (3881, 0.019872681143560087), (3853, 0.01986036502445273), (2957, 0.019829451386797994), (200, 0.01981927763541443), (3045, 0.019818061461415896), (853, 0.01981689421005528), (4539, 0.019806023049508875), (2950, 0.019803241335849354), (3576, 0.019802131536200442), (2764, 0.019798706776305706), (3767, 0.019743573482059476), (812, 0.019735113025539836), (3035, 0.019734099960023944), (2459, 0.019728405427367895), (2091, 0.019716066260673386), (1861, 0.01971091676728943), (1463, 0.019696403633747174), (673, 0.019680096829461324), (4133, 0.01966435521137018), (2097, 0.019624864181845326), (3206, 0.019610649926904596), (759, 0.01960085374395189), (3971, 0.01958299745111045), (4722, 0.019551047318612343), (1700, 0.01953477611967342), (1299, 0.019520452402031385), (3899, 0.019509248727000956), (2369, 0.019492042091225778), (1562, 0.019482260074832836), (2605, 0.019411622540875296), (304, 0.019391664604851283), (1676, 0.019388983940781715), (4188, 0.01937230161039344), (3216, 0.019350562153273233), (4050, 0.01932685662660709), (3781, 0.019322883512514495), (1751, 0.019310673124708987), (3221, 0.01930527491478337), (491, 0.019304241315586664), (851, 0.019289624291579596), (1611, 0.01928854722374484), (3752, 0.019282745242810165), (4241, 0.019282532016054316), (3166, 0.01927657151642855), (1496, 0.01926137524343072), (4595, 0.019256788484889716), (4520, 0.019249709307850436), (1407, 0.019248663849486553), (397, 0.019231323013648778), (3476, 0.01922837951203374), (3287, 0.01922369516717946), (2816, 0.019204233321611607), (4090, 0.019176785412878598), (1326, 0.01916919936885123), (3497, 0.01916792673550215), (4153, 0.01916733104977125), (420, 0.019136536239686443), (1492, 0.019123276430066682), (4349, 0.019120897740801893), (1899, 0.019108706529423772), (3499, 0.019102933072750426), (2139, 0.01905061231891157), (1392, 0.01904401096383406), (2835, 0.01904366326101089), (180, 0.01901729903179384), (4333, 0.019006523085517583), (1089, 0.01897685366566066), (4387, 0.018960722003150222), (3254, 0.018959186041816144), (3222, 0.018924520688569826), (2785, 0.01890597995666485), (2610, 0.018897824660085195), (2896, 0.018883557749560166), (1467, 0.01887935464690713), (1893, 0.01886041975509128), (3983, 0.018833692255103902), (1680, 0.01882624761250008), (1302, 0.018824503479225596), (1769, 0.01879137780457048), (2805, 0.01878390349310447), (1969, 0.018765817725049202), (3902, 0.018764191548335432), (4186, 0.018763324085028486), (4600, 0.01875811385119309), (654, 0.01875685314225553), (561, 0.01872462745349182), (187, 0.018723999843471922), (327, 0.018723271294105975), (822, 0.01867410350333209), (1619, 0.018658155887474256), (3852, 0.018599697224056033), (3215, 0.01857177864648519), (3479, 0.018558892670693296), (4647, 0.018535084163141237), (4110, 0.01852408139096286), (1685, 0.018523853148862623), (4707, 0.01849464553502265), (3469, 0.018492007759284394), (214, 0.018483311787066636), (2485, 0.01848000434119777), (4047, 0.01846678007381995), (1293, 0.018432774426710187), (1609, 0.01841928519886565), (1833, 0.01840424708090108), (4712, 0.01840286483903726), (3682, 0.018334288469067893), (3823, 0.018331730744541894), (2737, 0.018331558514186712), (1757, 0.018318443677631288), (3333, 0.018294980345685597), (2933, 0.01825262964855869), (1138, 0.018242914350192718), (3353, 0.018238653856557315), (2832, 0.018237529876093343), (204, 0.018214277169855825), (1559, 0.018203556980946188), (2606, 0.018158811385848725), (1703, 0.018151343795577098), (1301, 0.01811010739160753), (3404, 0.018106504713040348), (919, 0.018085291236868382), (444, 0.01805981479031174), (4721, 0.018048658696356114), (404, 0.018045940929327615), (445, 0.01801663526624131), (840, 0.018003422038831422), (2854, 0.018001111746031192), (1783, 0.01795863446811662), (3785, 0.01794030318556679), (3843, 0.0179341008042702), (793, 0.01792576153953465), (2482, 0.017923853025993804), (1701, 0.01792308136682625), (1512, 0.017912342020565197), (1894, 0.01789363217105122), (1077, 0.01788651840476245), (2052, 0.017884770961553872), (1257, 0.017860806725063377), (3006, 0.017851011168358487), (2622, 0.017845006175006877), (336, 0.017826994388363087), (24, 0.017822026411381447), (2155, 0.017814168897765124), (1551, 0.01780208711592577), (2701, 0.01774470358698141), (1634, 0.01772301982007173), (4703, 0.017697984841176354), (4732, 0.017678733269113064), (757, 0.017661318633585887), (2759, 0.01764949946215815), (1785, 0.017595829152106265), (1387, 0.017554200559730802), (4264, 0.017537411328203942), (1646, 0.017525465000757807), (981, 0.017506258743429405), (753, 0.01750559605005105), (751, 0.017499308064115343), (2767, 0.01749926285196538), (4662, 0.017471520409851744), (3213, 0.017468161200869865), (156, 0.017460036801607386), (1004, 0.017429280536409998), (290, 0.017419064544577468), (1577, 0.01741128958428996), (295, 0.017408323472884814), (1185, 0.017396774826168478), (4352, 0.017389428508744025), (1288, 0.017365960765380866), (112, 0.017362200290387035), (247, 0.01734596266550577), (4627, 0.01732730502973431), (1746, 0.017321999387842756), (1310, 0.017308555486780366), (2992, 0.017305683742310056), (3890, 0.017299910270771032), (1953, 0.01729162952137639), (3173, 0.017276923421623833), (2804, 0.017265889773759514), (4325, 0.01724788145671484), (2005, 0.017244080535936276), (1227, 0.017243096123772485), (3978, 0.01720145225177029), (437, 0.017198398326509833), (4365, 0.01717317419680759), (2857, 0.01715408623722168), (4687, 0.017153810807883106), (4599, 0.017147505060242617), (4403, 0.01714247509974458), (3070, 0.017049386976338628), (4437, 0.017031291725537204), (4144, 0.017030518037821313), (1825, 0.017023551806803795), (2797, 0.017009588071682027), (2488, 0.016983473438902434), (2088, 0.016981763849445438), (2157, 0.01697991195777642), (284, 0.016972082053447055), (3859, 0.016971594030845), (236, 0.016939864093342714), (1201, 0.016930071540305673), (3313, 0.016923888119900084), (3421, 0.01689011290535948), (3492, 0.016870163611587857), (3430, 0.01680839126087153), (4223, 0.01680570821446076), (216, 0.016803951599557557), (2814, 0.016799668289526268), (1020, 0.016797089644845987), (3783, 0.016784937799311766), (1756, 0.01678212723483751), (592, 0.016771296756193436), (2868, 0.0167692378281104), (1235, 0.01676351502599783), (248, 0.016756462530168836), (3257, 0.01674500798259613), (1582, 0.016737839436572536), (3122, 0.01673580130517693), (2403, 0.016728207392587784), (806, 0.016726796838460872), (3413, 0.016691772857563944), (2765, 0.01667562699232427), (3135, 0.01666838727378728), (413, 0.016621891211050926), (2434, 0.016613422064299527), (3284, 0.016600322860301796), (1162, 0.016574749575186273), (2793, 0.016561343793650343), (124, 0.016550424866813615), (4697, 0.01654244263635462), (3143, 0.0165283335625218), (4338, 0.016494462628704853), (1049, 0.016478467506516617), (1041, 0.016467476607437283), (3407, 0.01643653165743237), (2055, 0.01642741065786453), (780, 0.016422170692237323), (1066, 0.016390557249296858), (431, 0.016388891274653983), (2860, 0.016384428833314004), (2010, 0.016370202456230224), (2570, 0.016356155090073956), (2533, 0.016302095018515685), (3822, 0.01629668059955887), (1150, 0.016288200229459305), (1509, 0.016262173470061193), (663, 0.01623841261765471), (2354, 0.016224671153164512), (2436, 0.016221827024098835), (2263, 0.016207806699642995), (352, 0.016174818458896532), (2320, 0.016155398332396438), (3330, 0.016153312331629564), (702, 0.01614890957771515), (2078, 0.016143327488952506), (4348, 0.01613324061225252), (1607, 0.016080484495666198), (1875, 0.01607767836655896), (4324, 0.01607626585830976), (1315, 0.01606155842130089), (3748, 0.016058690416317967), (252, 0.016055077671132074), (162, 0.016047231857795954), (3364, 0.01604265924828564), (69, 0.01604234258729225), (3265, 0.016041569173181634), (532, 0.01602790714551751), (2724, 0.016025200828134228), (778, 0.01601941229713151), (3866, 0.01601878003678896), (764, 0.016001324577760528), (2872, 0.01599658704250098), (222, 0.015953149839614888), (4240, 0.01594963344835954), (3952, 0.015936683439718678), (2011, 0.01592016428192505), (985, 0.015896961356417643), (2702, 0.01588310824423005), (3208, 0.015874741053346714), (4117, 0.015863549225744032), (3968, 0.015858418965359587), (2226, 0.015849069272691495), (1384, 0.015839011141809325), (3706, 0.015818359293605897), (2566, 0.01580423922061304), (1220, 0.015802224861041013), (2302, 0.015784373426692443), (55, 0.015779371341122197), (2388, 0.015769630755021274), (999, 0.015741017152791678), (2191, 0.01573323604012369), (2944, 0.015725173495300098), (515, 0.015715231903337686), (2607, 0.01569331598760735), (4559, 0.015675515914526882), (360, 0.015668335923181648), (2268, 0.015653845718107153), (4504, 0.015643648406237918), (1863, 0.01564308589439168), (3510, 0.015633655825691057), (2043, 0.01563038040577874), (1489, 0.015615391259481817), (443, 0.015556214368862998), (2891, 0.015530362055689506), (118, 0.015495025817433145), (4415, 0.015475762577575571), (496, 0.015474451113884406), (1431, 0.01546360562697035), (577, 0.015458929326822093), (2106, 0.015453688124454131), (2330, 0.01544762262286828), (4678, 0.015434599146411354), (2108, 0.015424440594411566), (2535, 0.015402540041165147), (190, 0.015389742990615211), (4557, 0.01538270870977225), (1025, 0.0153814761007739), (881, 0.015380141449659617), (4410, 0.01537576421733459), (3280, 0.015373445387312511), (2516, 0.015365400754807322), (739, 0.015347148182890428), (2646, 0.015335933387606027), (625, 0.015314859073519121), (878, 0.015309147841193974), (2500, 0.015297165972942074), (3520, 0.015287540949600519), (393, 0.015285369976573832), (3611, 0.015281703341188325), (768, 0.015250140688995554), (3571, 0.01522353575444449), (3183, 0.015217699859877278), (1932, 0.015171215388407563), (1905, 0.015150767787670423), (2601, 0.015136627432612553), (4235, 0.015129707424173314), (2748, 0.015111653811192076), (3258, 0.01511133826869026), (3569, 0.015041191321690593), (2850, 0.01500906929429974), (744, 0.014989399473045204), (2585, 0.014972256483884947), (674, 0.01496968190202256), (1494, 0.01495220028611646), (4509, 0.014948299432426808), (1453, 0.014933552913415363), (2661, 0.014918297431655682), (3496, 0.01491693482566743), (604, 0.014906822148160602), (3309, 0.014864119492963616), (967, 0.014849050266850333), (403, 0.014839711831669902), (1369, 0.014835001120640316), (433, 0.014826366782906608), (3601, 0.01482076423776532), (1085, 0.014783774519756846), (4726, 0.0147726884697487), (2739, 0.014759690295952511), (3103, 0.014747469197372864), (929, 0.014736467352891854), (4615, 0.014710650679221643), (2755, 0.014694699807369926), (72, 0.014645813486843585), (3388, 0.01464185722735158), (2663, 0.014614712299238468), (1455, 0.014592722361275106), (3493, 0.014545244765200326), (181, 0.014513220743071016), (3432, 0.014503449700497533), (879, 0.014498357924396965), (1230, 0.014494883338855529), (2531, 0.014483011547520637), (1632, 0.014479036984407705), (4198, 0.01447715336761391), (1214, 0.014473344093320295), (1133, 0.01447046076449339), (1851, 0.01446779226322738), (3800, 0.01446506033799038), (791, 0.014448473197035301), (2162, 0.014443178778726624), (1565, 0.014437746958520424), (395, 0.014429997990688045), (2014, 0.014423291736447968), (467, 0.01440236947121133), (1140, 0.014400757615578678), (1988, 0.01439690324448928), (2949, 0.014370534610088529), (4661, 0.014367465739855098), (2697, 0.014362011185424729), (4422, 0.014360965600591167), (3198, 0.014355985273005915), (3465, 0.014343924031237094), (4542, 0.014337459947882207), (1600, 0.014325163120364496), (3391, 0.014318234208081728), (1724, 0.014294266983345884), (1228, 0.014246174931544111), (3451, 0.014229328738243311), (2196, 0.014222847339788281), (3526, 0.014221897654566249), (4029, 0.014211508607459298), (3339, 0.014210418355865269), (3609, 0.0141997105919107), (2087, 0.014195723748379335), (1451, 0.014184958060508145), (4197, 0.014167067784148835), (4166, 0.014154656093267647), (4289, 0.014129890418883979), (3217, 0.014128794790637719), (4178, 0.014122286665557982), (4012, 0.01410862113451537), (1086, 0.014104892150768574), (1402, 0.014103336998272663), (4084, 0.014098169999902065), (2287, 0.014091944195379198), (3420, 0.014066225517280461), (34, 0.013995179731103265), (2492, 0.013983821445845045), (504, 0.013980829513971465), (4262, 0.013963234693344961), (1715, 0.013941277287960394), (427, 0.013909725437752391), (1545, 0.013906138828909932), (3965, 0.013849687723924234), (2983, 0.013837393645716293), (511, 0.013836322092525555), (2999, 0.01381804389783528), (1790, 0.013805819555395359), (1915, 0.013791202434780908), (67, 0.013776378069168989), (3239, 0.013745832004607232), (1039, 0.013728959746104457), (831, 0.013727635310947535), (2349, 0.013723909012142805), (1356, 0.013718692312932856), (1145, 0.013706262664199456), (1313, 0.013694045380392447), (2303, 0.013688661280104797), (169, 0.013653571978367616), (452, 0.013651387233807703), (3100, 0.013647740051858115), (2235, 0.01364159461456588), (3592, 0.013631373706946415), (1286, 0.013623767556801348), (2945, 0.013603247267491937), (296, 0.013584508698047514), (3220, 0.01358187532990543), (1209, 0.013506960056282487), (5, 0.01348956321789665), (54, 0.013482052166196508), (76, 0.013473361032535845), (4192, 0.013457121742700959), (2775, 0.01345601311013279), (2558, 0.013451316729309912), (2870, 0.013436779714194057), (3030, 0.013427640155507493), (2883, 0.01341318078296976), (3024, 0.013408174799151039), (2497, 0.01339332449234405), (3435, 0.013318821835483278), (315, 0.013316493467311612), (1308, 0.013316032659816134), (1059, 0.013313367450948077), (3832, 0.01330996904951519), (61, 0.01327849008829494), (2510, 0.013275706013382502), (3214, 0.013267188343045251), (1269, 0.013254254216370144), (2242, 0.013208909982836584), (3842, 0.013199116101322432), (4408, 0.013163599897841747), (1604, 0.013162486305700632), (2029, 0.013130717939200273), (2619, 0.01312962305277884), (2294, 0.013124742338058869), (3194, 0.01311681892393839), (233, 0.013102615462119414), (127, 0.013095711369443704), (2550, 0.013092209004196432), (1263, 0.013091592394276751), (3602, 0.013053436981996208), (2333, 0.013051727085768839), (1372, 0.013036086197042046), (3686, 0.013034168807707688), (2559, 0.013029859613144049), (3017, 0.013026549697331436), (1030, 0.013019038940703385), (1645, 0.012993059303333714), (40, 0.012991198708652082), (2009, 0.01298561902757371), (3010, 0.012969399409230612), (1750, 0.01296000091373254), (795, 0.012958769658192197), (2201, 0.012927486800406465), (1978, 0.01292505527459099), (2568, 0.012877396463665498), (2843, 0.012860476876127513), (2643, 0.012819095444645292), (2918, 0.012790068802399336), (4028, 0.012782360943490627), (907, 0.012779694118976441), (1019, 0.012774477561458254), (4374, 0.012766827130043925), (1486, 0.012754184556759031), (486, 0.01274890391040397), (3050, 0.012732118527773336), (1583, 0.012687961194160708), (542, 0.01264645645821356), (4059, 0.012577565958290765), (3015, 0.012560278741046736), (3851, 0.012553151209452523), (949, 0.012523905966029786), (213, 0.01251779022671171), (1424, 0.012517328676757946), (4554, 0.012515885120009318), (2982, 0.01247743190338006), (4556, 0.012469385692418487), (4548, 0.012444664018413074), (2186, 0.012427381330094104), (4176, 0.01236703798836562), (2347, 0.012363747595946613), (3363, 0.012361716731266119), (3168, 0.012345827612126829), (2417, 0.012327971207599209), (4104, 0.0123180082988845), (3951, 0.012285599218967984), (1099, 0.012280372003593847), (175, 0.012255693863491485), (4306, 0.012254293911016182), (1312, 0.012248339960867518), (4165, 0.012242594350227638), (4580, 0.012234704412685708), (2266, 0.012204712449471742), (2240, 0.012195175425126081), (3808, 0.012173285843887795), (1595, 0.01217143734579985), (3371, 0.01214541649821942), (385, 0.012137216602054683), (1143, 0.012115390495149253), (2848, 0.01209872918629183), (2749, 0.01208216599702867), (3302, 0.012076733480901998), (3903, 0.012060172170674122), (1786, 0.012058549568116729), (3117, 0.012056249841339564), (3967, 0.012052536358307291), (2966, 0.012049404420307115), (3529, 0.012047760555242717), (3423, 0.01204760993927216), (3167, 0.012044774461326284), (103, 0.01203666231959315), (2415, 0.0120273934681874), (2180, 0.012021587362575213), (3661, 0.012008349592093702), (4486, 0.012004051937691464), (1571, 0.011999649343466449), (2213, 0.011993783037461176), (1752, 0.011989734754460264), (278, 0.011968845164957866), (2638, 0.01196315337366905), (4150, 0.011937960018749336), (4366, 0.011936784383975626), (2936, 0.011918982857777597), (4388, 0.011909620877635524), (489, 0.011857111097184962), (435, 0.011847227712766539), (146, 0.01182652853026997), (4458, 0.011821477475235577), (2880, 0.011816799550759004), (3910, 0.011807839872691), (647, 0.01180064533879956), (3584, 0.011774923878781967), (405, 0.011753924701755417), (754, 0.011746263453047454), (2487, 0.01173697302130627), (691, 0.011730528640064354), (3157, 0.011719405556861495), (1461, 0.011710745650238873), (2505, 0.01169325154528685), (2817, 0.011690985558134592), (4632, 0.011685571007370204), (2086, 0.011677267812492894), (3109, 0.011676877483418937), (4315, 0.011675830682844706), (4594, 0.011674901288492658), (3745, 0.01165978183426786), (1053, 0.011658318928048032), (4145, 0.011643256488206978), (2151, 0.011624366600804183), (775, 0.011622736333964438), (2112, 0.011621147016603103), (1885, 0.011613762798027855), (4001, 0.011600658341817284), (246, 0.011594786987737669), (1644, 0.011568070139843102), (3359, 0.011535171625299044), (1420, 0.01153402073240034), (677, 0.011525452919174551), (1167, 0.011521677187491166), (474, 0.011520415495154472), (3072, 0.011520275659738248), (1955, 0.011516583938903112), (3802, 0.011515580192837932), (1238, 0.011502214756901616), (3425, 0.01148486502592987), (1398, 0.011474182099954879), (4713, 0.011474158509032904), (2249, 0.011465940441626729), (1986, 0.011453469483639279), (448, 0.01144077652345385), (3976, 0.011404089059898134), (1427, 0.011391783305244974), (2, 0.01139114162283551), (3165, 0.011384573117150788), (1015, 0.011381623884861563), (784, 0.011368235923377223), (2794, 0.01135074821815531), (3549, 0.011338945471006886), (1184, 0.011307787697132757), (3095, 0.011303965616791603), (3489, 0.011301554764034806), (2148, 0.01130062808687578), (4311, 0.011290436831220777), (3296, 0.011273465057696982), (1712, 0.011254504284230032), (1141, 0.01125211610875998), (2096, 0.011222613517123328), (3148, 0.011222398857801841), (1910, 0.011215280404418541), (110, 0.011205461204837217), (1267, 0.011195503955430623), (3016, 0.011192666950353515), (3274, 0.011167969424165865), (2418, 0.011160737181010676), (3998, 0.011157358867836208), (4564, 0.011151049298139776), (2819, 0.011140766362226212), (3560, 0.011136934988751401), (4702, 0.011133365041699846), (813, 0.011132471403310692), (2974, 0.011128393141254744), (4303, 0.011120992073787089), (4718, 0.011116512049924084), (510, 0.011108284273014081), (149, 0.011106449797408461), (1956, 0.011089924260052366), (976, 0.01108459248451879), (1526, 0.011067042562420675), (2790, 0.011057449221667471), (3804, 0.011056827959917326), (3248, 0.011054318699809124), (398, 0.011040238280179006), (736, 0.01103751215493935), (1804, 0.01099727474660173), (4571, 0.010992535419617753), (482, 0.010989928576143657), (785, 0.010970493949835083), (2545, 0.010969651528989398), (2085, 0.010957088906695535), (2026, 0.010955281428152362), (185, 0.010948829993659039), (857, 0.01094552525383), (2890, 0.01093732850882485), (517, 0.010928995971763989), (946, 0.010910569892204416), (587, 0.010900925834721152), (3847, 0.01089220975448777), (189, 0.010890473617861718), (4688, 0.010886546466964287), (2836, 0.01087876270033383), (2390, 0.01086593521249727), (631, 0.010825865147138533), (1866, 0.010823029164796227), (3909, 0.010805140463526201), (8, 0.01076448021327137), (3597, 0.01076312794358981), (4663, 0.010761290581150506), (2807, 0.010756075320417037), (1182, 0.010742498240121735), (2705, 0.010732411393905128), (4684, 0.010732149060677718), (916, 0.010731071647796981), (850, 0.01071896475970835), (3893, 0.010707816361192292), (1087, 0.010704393874544901), (353, 0.01069359222908614), (1771, 0.010689203355172101), (4073, 0.010686328467330287), (1413, 0.010685729243906341), (3626, 0.010661766951186383), (4657, 0.010660271540865523), (2475, 0.010659369729563275), (1985, 0.01063931705552244), (864, 0.010639272432013205), (3879, 0.010629595103827756), (3375, 0.010628749884792104), (4583, 0.010625659605816764), (1618, 0.010616298958185217), (1422, 0.010615500728235753), (3244, 0.010608992844932627), (3512, 0.010607837487414855), (821, 0.01060645671122211), (3904, 0.010601820369918209), (2609, 0.010572245620085829), (4683, 0.010552114833914765), (4252, 0.010548816833336439), (3490, 0.010528791377741134), (4006, 0.010510502490248458), (280, 0.010501533549305254), (3326, 0.010498012833588784), (79, 0.010496231687732753), (4575, 0.010487475749330476), (1720, 0.01047467589349346), (2897, 0.01047246931501174), (689, 0.010471313637168148), (2174, 0.010436572920238078), (4482, 0.010430677663705442), (4134, 0.010424649497548398), (3596, 0.010420272646931352), (2408, 0.010413856579604521), (1500, 0.010403253799047064), (375, 0.01039343295367686), (564, 0.010384190303525833), (255, 0.010379401721314803), (1253, 0.010369931568411341), (613, 0.010366046992519307), (2463, 0.010349622227153257), (3241, 0.010340671949795762), (4685, 0.010337186795733476), (119, 0.010329965233837696), (3865, 0.010328196925606443), (3046, 0.010326873143578507), (4136, 0.010325559047640686), (4625, 0.010291654556030889), (2632, 0.010281571757818044), (446, 0.010271181572701548), (2594, 0.010269448074734544), (2698, 0.0102585015373176), (2170, 0.010253180381089846), (2008, 0.010239454245606435), (1017, 0.010234040838283637), (2699, 0.010228704421025931), (4534, 0.010228457788826688), (292, 0.010215459570318646), (2866, 0.010202418408082515), (817, 0.010189157278984841), (2230, 0.01017937381559074), (4336, 0.010170169223464691), (19, 0.010158702039015997), (1347, 0.010158072308079559), (3809, 0.010155426062355965), (1610, 0.010151093869084112), (2386, 0.010133751585529397), (2820, 0.010129654374809612), (1864, 0.010127054897001192), (2100, 0.010112685578986869), (782, 0.010103496627112036), (2489, 0.010101193462668885), (3753, 0.01010023534289932), (1122, 0.010091204022152654), (3504, 0.010084972686579229), (1984, 0.010077106430734414), (2430, 0.010056387368258741), (1067, 0.010030431581158659), (2473, 0.010027550119418221), (1472, 0.01002713554315698), (4587, 0.010023220739772014), (3784, 0.010021914707203412), (2652, 0.010020578895109992), (164, 0.010018827020796787), (2736, 0.010013808089235472), (2745, 0.010004679884221691), (629, 0.010000498746876415), (416, 0.009990980696347435), (3295, 0.009977638930868936), (2169, 0.009975969015906805), (1428, 0.009969179059738386), (2344, 0.009932500662526048), (1378, 0.009903479851729553), (2943, 0.009876274435437376), (734, 0.009860775211354124), (3399, 0.009836922286753015), (2137, 0.009804763330107527), (970, 0.00978478932131969), (2827, 0.009783006217452813), (1650, 0.009763404624154058), (463, 0.009758030699859192), (1514, 0.009744308476982093), (2777, 0.00974247750480734), (766, 0.009742276557351945), (1519, 0.009736542070460881), (335, 0.00972250538462623), (2722, 0.009711400989306975), (4063, 0.00970553526279522), (3040, 0.009660829498734508), (183, 0.009656363409568621), (1350, 0.00965505378560852), (1405, 0.009638987851001011), (3075, 0.00962648167402497), (3738, 0.009619297648095885), (4381, 0.009609197708466511), (1730, 0.009599221897794274), (488, 0.009587297511869337), (1482, 0.00958345278468792), (3298, 0.009574651269829523), (4193, 0.009564056919998808), (1060, 0.009563301638359235), (1421, 0.009555408222275786), (2665, 0.009536146438840163), (2439, 0.00950829257413343), (428, 0.00950600205164715), (2537, 0.009489865850129418), (852, 0.009481479859300534), (2285, 0.00947427396705037), (3268, 0.009460241153650012), (2886, 0.009456504358706628), (2256, 0.00944928432625699), (2001, 0.009441042169533446), (3170, 0.009429580233110503), (221, 0.009424077587611789), (644, 0.009415878928325516), (2404, 0.009409180100804448), (4205, 0.00940455851326471), (2168, 0.009382204929226513), (3042, 0.009373178112656953), (3014, 0.009357108673214126), (2006, 0.009350308436072341), (1009, 0.009340608227554652), (2004, 0.009315910518555306), (4011, 0.009308774425670381), (2855, 0.009297713755442156), (1639, 0.009281726175542265), (3830, 0.00926533991453823), (3721, 0.009258297670236365), (756, 0.009234861417939293), (1819, 0.009234316253221464), (1136, 0.00923066924177761), (1558, 0.00921389066914131), (786, 0.009182938649121137), (2692, 0.009143071449328686), (4748, 0.009118876441314436), (202, 0.009118727591512756), (2942, 0.00911103290516658), (2453, 0.009109903545300562), (1699, 0.009098977111225976), (2842, 0.009092593695870595), (1628, 0.009069338989393364), (1838, 0.00906313032937404), (2113, 0.009062649023627604), (1065, 0.009059429787813867), (218, 0.009049104668269694), (1883, 0.009039205907575346), (251, 0.009024480126164369), (2801, 0.009021487310272917), (3958, 0.009018673214130683), (2070, 0.009005992965304317), (2199, 0.009005028298589825), (4344, 0.009000400942697342), (1237, 0.008997611027580427), (3892, 0.008992892153307633), (2352, 0.00898785490664859), (3409, 0.008982986556600589), (2338, 0.008955223336244982), (1605, 0.008954663002163), (1366, 0.00894096705393457), (3392, 0.008936553206620056), (3384, 0.008905566387751944), (2304, 0.008904857719815232), (3327, 0.008890628829550832), (4080, 0.008887283872703742), (3806, 0.008872140545047877), (3795, 0.008866470353819943), (2627, 0.008850378294432776), (3821, 0.008830145828248773), (575, 0.008822551644870714), (1014, 0.00880070565988277), (3444, 0.008785204989158277), (4102, 0.008783489941895505), (2985, 0.008782413735299727), (4026, 0.008780975322166294), (2951, 0.008780287991445986), (3927, 0.008763852569042788), (2502, 0.008745174958485284), (2423, 0.008718134876709102), (441, 0.0087008464614703), (2237, 0.008697533704728016), (3957, 0.008678568043489713), (88, 0.008674089001770168), (3751, 0.00865409373663266), (1713, 0.008625714203234042), (2412, 0.008606539880474096), (3616, 0.008602556975500702), (3357, 0.008598888152966543), (3537, 0.008580471435629781), (2328, 0.008565856803031215), (926, 0.008551412184305785), (4094, 0.008541355485294043), (3945, 0.008540154404074598), (3922, 0.008539837752536484), (4347, 0.008528562984754151), (2527, 0.008524987706339787), (1069, 0.008498951786135737), (1377, 0.008493472868159487), (3008, 0.00849215124340971), (4411, 0.008491539205398718), (3074, 0.008487386591651824), (2499, 0.008473822384223471), (3934, 0.008463325703551038), (4147, 0.008423313020828771), (3544, 0.008420730045260536), (3020, 0.008398136246244563), (1144, 0.00839447280715112), (344, 0.008382300561700712), (294, 0.008373626000149422), (3969, 0.00837265350089501), (1365, 0.008370028821640644), (4077, 0.008369971997046815), (2244, 0.008354410548801101), (2253, 0.008317035968729845), (635, 0.00829337891403541), (4196, 0.008271178521618), (3515, 0.008258764889396331), (796, 0.008229070776209851), (1417, 0.00821893242349258), (3152, 0.008216360327723743), (1305, 0.008194282839387243), (341, 0.008179103849908144), (4717, 0.008168417727084725), (1770, 0.0081679545277812), (340, 0.008161650317237612), (3763, 0.008152819711128533), (3621, 0.008140226513907391), (4633, 0.008129932603180439), (1792, 0.008129613606885109), (1415, 0.008120901369069093), (2720, 0.008107818519180245), (266, 0.008101401215066186), (3316, 0.008099276077880373), (3457, 0.008098314777898205), (1169, 0.00809632059863098), (2846, 0.008094537182473138), (748, 0.008060521112431373), (2671, 0.008052869235541674), (1005, 0.008047861708120899), (1116, 0.008047383700003612), (301, 0.008035357961831), (1947, 0.008030638615435579), (4695, 0.008005540040036794), (523, 0.007985143533544672), (3337, 0.00798206614735798), (1297, 0.007976569319644867), (925, 0.007954305654247002), (4507, 0.007945864584833106), (1396, 0.007943959131354577), (2478, 0.007941425153253447), (1656, 0.007931187825592122), (2796, 0.007916769443450803), (331, 0.007915649983814957), (2691, 0.00790297452151439), (1841, 0.007900641845961513), (1195, 0.007874035937930646), (3772, 0.007872430338573058), (2967, 0.007872414821524207), (313, 0.00787233828735185), (615, 0.007868793092082908), (2223, 0.007865587315841801), (1508, 0.007848850069533415), (4467, 0.007846517410947391), (2914, 0.00782356692634157), (3992, 0.007819717917361925), (3761, 0.00780455105589839), (2276, 0.007802731412638394), (809, 0.00779851634172392), (3962, 0.007769392565343626), (1761, 0.0077627050156466385), (1111, 0.007762458757348956), (1266, 0.007749794416922408), (2708, 0.0077428186757617125), (1250, 0.007742277267712591), (2421, 0.007739640367917419), (3146, 0.007737894461990689), (56, 0.007734019836643835), (4293, 0.007719416284278077), (4706, 0.007685599039344455), (3003, 0.007684788955984194), (1923, 0.007682865638286615), (3062, 0.007669491436660653), (1515, 0.007645710744096761), (3026, 0.00764303267523999), (1908, 0.007636584774750778), (3097, 0.007628087621616699), (2464, 0.007586975548212231), (4308, 0.0075863432078980796), (1733, 0.007585081858913144), (1262, 0.007575967163970635), (2324, 0.007568106275548854), (4140, 0.007558499608212094), (2823, 0.007545739964085235), (3044, 0.007540708797420786), (641, 0.0075398424166741125), (4522, 0.0075388401143622955), (2503, 0.007532584259116412), (350, 0.007531130371971492), (2882, 0.00751730628519968), (2507, 0.007514793721906303), (1852, 0.0074908597562324515), (322, 0.007480090034194113), (4734, 0.007476003551255113), (1868, 0.0074641588064293845), (3319, 0.007451656563637323), (1848, 0.007446941667212704), (4132, 0.00744623249077961), (1128, 0.007443268708881568), (1637, 0.007420452205984638), (2044, 0.007413184354112143), (243, 0.0074127813782279535), (2786, 0.007408186077511385), (872, 0.007405898314729923), (1683, 0.0074026699137295544), (1648, 0.007402089398831876), (2260, 0.00740026360407184), (230, 0.007397566771185598), (3546, 0.00739503583373338), (275, 0.007380297507277385), (2970, 0.007373622114393562), (321, 0.007372943523498136), (978, 0.00737176292931218), (2062, 0.007355319515424204), (1146, 0.0073447900864849185), (4489, 0.007336968518982702), (1822, 0.007302572310792505), (3037, 0.007302119726965441), (1118, 0.007298657383269541), (2394, 0.007289303454481557), (3798, 0.0072391749330855525), (3150, 0.007237881691408196), (300, 0.007236932956019437), (2926, 0.007234733895685337), (1660, 0.00722793123133395), (4448, 0.007224499430514813), (1224, 0.007221271024333474), (2561, 0.007217178185445129), (1513, 0.007206286928752076), (3224, 0.007202278339186863), (884, 0.007197319694193851), (2094, 0.007188283918624943), (3349, 0.007177081682023044), (1765, 0.007154824738415398), (1307, 0.007148501409835673), (3566, 0.007135378576718721), (1516, 0.007124375494381114), (3290, 0.007119155042278664), (468, 0.007108261381473494), (1662, 0.007079802330873248), (933, 0.007064982464239678), (1337, 0.007059652546681089), (2119, 0.007046738655279306), (568, 0.007045264138892615), (4236, 0.007025134851800799), (3114, 0.00702236121437034), (4049, 0.007020815256436899), (2175, 0.007014499658126524), (347, 0.007002681049062944), (4342, 0.006999860011559096), (3739, 0.00699384928927595), (1566, 0.00698465339439525), (2396, 0.006980669162530413), (2608, 0.006980543150065011), (2554, 0.006978726550968288), (272, 0.006976963385254207), (3914, 0.006976412945858257), (1232, 0.006971159850325724), (3155, 0.006965117751311341), (2284, 0.006955120527726871), (1304, 0.006920094403095531), (2495, 0.006917184223273247), (1159, 0.006906802132864688), (3665, 0.006901332811348672), (1112, 0.0068901353888427795), (3673, 0.0068897790864962906), (2523, 0.006887498426373511), (3630, 0.006878828841184381), (4394, 0.006864617567215218), (3825, 0.006858444246207915), (4055, 0.006851479273353816), (3888, 0.006844801845948465), (2569, 0.00683560887187383), (1598, 0.00682886571408264), (1309, 0.006821052472035787), (1100, 0.006803306137876228), (4106, 0.006800794863464963), (1095, 0.006788525919372266), (2929, 0.006774889383428789), (4530, 0.0067655562044694455), (4229, 0.006746790488465916), (2935, 0.006746418329844454), (3402, 0.006741247963298089), (4395, 0.006729939489945892), (2074, 0.00670604600355141), (3348, 0.006694762970710688), (4438, 0.006690957098991245), (4382, 0.00668926452469611), (3641, 0.006681062140055491), (277, 0.0066772077010125545), (2555, 0.006670254432224517), (1018, 0.006624101708359433), (819, 0.00661488320484103), (1877, 0.006601250749767484), (157, 0.006588455323166596), (2597, 0.006580372577290283), (4213, 0.006578073291410929), (505, 0.006571772289276159), (4206, 0.006571106948028118), (4246, 0.006549978823242295), (4158, 0.00652233325787148), (1663, 0.006517067167214483), (507, 0.006495616670332266), (4254, 0.006495487404141777), (903, 0.006484520620189027), (2020, 0.006479522358823073), (941, 0.0064792032825514885), (3731, 0.006478082348986933), (3475, 0.006477643932598707), (177, 0.006475637177539455), (2099, 0.00646591701670547), (1642, 0.006402516186611435), (1279, 0.006395540737198757), (78, 0.006385264962713567), (3713, 0.006333323597255241), (2954, 0.006316534813751779), (2789, 0.006314096325264153), (2728, 0.006296763500116441), (3267, 0.006277032382737651), (2318, 0.006271977900454168), (3940, 0.00626285901222106), (473, 0.006258586254285793), (3311, 0.006257723355478733), (2741, 0.006228704909575786), (3115, 0.006203575161911742), (2976, 0.006196997664830905), (594, 0.006183244249131128), (1830, 0.0061296079348652525), (1251, 0.006121524625732965), (3755, 0.0061139044272345445), (712, 0.006111826835401524), (4066, 0.006075147411538901), (477, 0.0060593045001625274), (2013, 0.006052252498988012), (1943, 0.006021286840225028), (1397, 0.005982266169837524), (1370, 0.0059648454593676774), (3393, 0.005949679324780717), (3088, 0.005925700377450412), (2867, 0.005923988512022387), (1088, 0.005913606327353002), (2146, 0.005911908055054118), (2669, 0.005893206882807509), (3946, 0.005890785915269356), (2758, 0.00587522480481412), (2657, 0.005837118376047036), (4636, 0.005833771991513105), (2684, 0.005770866705673024), (1078, 0.005761021337207026), (2659, 0.005740099556031932), (2312, 0.005737130901501322), (4200, 0.0057195569419757454), (4373, 0.005718342195790322), (1530, 0.005715447143704229), (3144, 0.0056559733062003), (3980, 0.005598785749197142), (2925, 0.005554271002672211), (3538, 0.0055160207390408285), (3266, 0.005512475071009452), (3796, 0.005511482612271892), (4239, 0.005505439599627763), (3949, 0.005477810182464544), (2667, 0.0054300526306257915), (2922, 0.005422116504487452), (4700, 0.0053956972840643), (4115, 0.0053768767500462), (2990, 0.005364436628850054), (3204, 0.005334381209236351), (1939, 0.005288481181608012), (2281, 0.005286783469349545), (351, 0.005277851277996768), (2483, 0.005255327024693995), (3325, 0.005239983604471879), (2536, 0.005205535180493085), (4537, 0.005187248705165009), (1277, 0.005173162674592155), (3439, 0.005168670091166134), (2228, 0.0051575592277770645), (4040, 0.00514213834843081), (2941, 0.005121088236935263), (2282, 0.00511988525027133), (391, 0.00510367752863898), (2455, 0.005057947047595064), (3740, 0.005043218089100132), (2656, 0.005031370623092665), (2600, 0.005027529766044958), (3087, 0.0050274274240038755), (3988, 0.005015867026270143), (2939, 0.004963147886111202), (3671, 0.0049603678988342104), (2660, 0.00496016179460846), (4058, 0.004956623377629812), (2515, 0.004947372950980328), (4199, 0.00494359480874117), (2363, 0.0049245729007604865), (842, 0.004872594350095831), (2077, 0.004859881998894841), (3089, 0.004841681353339685), (4720, 0.004836703392982639), (3554, 0.004823873386160028), (2781, 0.004802387427191576), (3203, 0.004799217633527278), (2756, 0.004797190888335622), (2727, 0.004792964077658966), (3054, 0.0047882997955998), (368, 0.0047832894155048445), (1941, 0.004769499965727383), (4506, 0.004757661142088825), (4190, 0.004752615511354156), (3996, 0.004751326676790845), (4204, 0.0047429610513855325), (4341, 0.004727006326535586), (611, 0.004712044087453892), (3610, 0.004706525505618749), (3789, 0.0047061633218004936), (4711, 0.004703248035481496), (955, 0.004698544004446634), (904, 0.0046908841507481485), (153, 0.004683575039041289), (3324, 0.004683237440558749), (3931, 0.004661595020950729), (2468, 0.0046560411946821225), (3172, 0.004640083359372046), (4346, 0.004623198544505652), (3190, 0.0046175940922852255), (905, 0.004609726990794256), (4010, 0.004598070424371281), (4454, 0.004597362657929957), (679, 0.0045925602242378955), (3921, 0.004591863544178295), (1321, 0.004586255659796791), (2676, 0.004569495142653238), (1507, 0.004563367992141249), (3759, 0.004562379613683176), (2305, 0.004557646390888326), (38, 0.0045540276905395695), (2079, 0.004549056912988496), (3791, 0.004547040254432564), (4121, 0.004532349063706794), (3649, 0.004520704408789185), (4317, 0.0045187610635494604), (2138, 0.004516507466951994), (3383, 0.004512198735417362), (4452, 0.0045072865969830065), (1928, 0.004505134839103826), (3820, 0.004505068625279058), (839, 0.0045022522528643345), (1999, 0.0045013984900520694), (139, 0.004471020439819877), (1311, 0.004470528654255655), (2672, 0.004466490621766595), (2810, 0.004466103128789093), (2164, 0.004460331609743915), (4108, 0.0044589773034275065), (2479, 0.004449878807086731), (3080, 0.004441748889897323), (2384, 0.00443818383681691), (2218, 0.004430185303370779), (1371, 0.004426589615626883), (1836, 0.0044245172901083265), (687, 0.00442115501694449), (3688, 0.00441549911680432), (3572, 0.004411888748117804), (3652, 0.004403143992253813), (2998, 0.0044029696997672325), (362, 0.004399722156377262), (2493, 0.0043980232624307525), (2930, 0.00438136865463), (3581, 0.004380613579319027), (990, 0.004377538982813455), (141, 0.0043770057312862215), (1844, 0.0043750276663402626), (2575, 0.004355484460035138), (2458, 0.004342682258830231), (1491, 0.004342631543591225), (3181, 0.0043423863332750475), (4258, 0.004341880394006202), (2604, 0.004336697664414082), (4207, 0.0043247264084031), (4413, 0.004320835095619747), (1679, 0.004317717562343293), (2371, 0.004316766286820074), (2021, 0.004313446440640727), (4086, 0.0043121532235407605), (1246, 0.004304945713574117), (4118, 0.004297275946057177), (4492, 0.004280753483674704), (1520, 0.004277764967671722), (4131, 0.004264401798627514), (4607, 0.004258824855028565), (4370, 0.00425596535465042), (1333, 0.004249512743398053), (3461, 0.004247694065186694), (536, 0.004240898279388447), (3236, 0.004238289735246339), (1596, 0.0042329789747450625), (392, 0.004232964716264438), (361, 0.004230087309775859), (4256, 0.004228776144513253), (3905, 0.004215203894610436), (2937, 0.00421144878191736), (4180, 0.0042111122415737), (3523, 0.004204306657309317), (3422, 0.004203218406928677), (4323, 0.004197428940695234), (1578, 0.004197044139035729), (781, 0.004196673282512421), (1389, 0.004196271120018448), (3277, 0.004195938544145902), (4705, 0.004193212799730122), (3051, 0.004183522042544781), (1689, 0.0041808956944013485), (2754, 0.0041778174739846964), (2675, 0.004177392307686482), (1734, 0.00417548058884418), (1142, 0.004174715490577288), (2217, 0.004171757278830352), (2002, 0.004170789147780848), (2768, 0.00416902024994841), (3038, 0.00416855042609277), (2380, 0.004168217466467454), (3672, 0.004167514475331847), (3870, 0.00416602868122091), (4421, 0.004159816592511703), (2090, 0.0041589704808817594), (3378, 0.004158271344314334), (2042, 0.00415825506433511), (4433, 0.004157537369348298), (3162, 0.004155339656133195), (1024, 0.004150450773317011), (2649, 0.004142765363447039), (1702, 0.004141796172283112), (2325, 0.0041368863874178445), (2194, 0.004132991603684197), (1165, 0.0041278132369914336), (1542, 0.004125814653033087), (3930, 0.004125531901494587), (2189, 0.004116942960413089), (2222, 0.004116075235742771), (1244, 0.004110399323970472), (730, 0.004103191500987603), (1697, 0.0041018375651209445), (4202, 0.004100959540940507), (2092, 0.004093612682254983), (1917, 0.004090563611422547), (1726, 0.004089212913659722), (245, 0.004087518355756808), (2307, 0.0040874860798619), (2989, 0.004086669271333832), (1525, 0.0040857700871196855), (869, 0.004085744467400695), (3169, 0.004085210444143965), (1564, 0.00408125363685562), (2251, 0.004080676006648646), (3683, 0.0040790651092948915), (4093, 0.004076299329704734), (2200, 0.004072210821827385), (908, 0.004070982522203253), (134, 0.0040707889426725465), (2444, 0.004064795384148347), (1587, 0.004056335950985975), (3812, 0.004055972135795544), (1495, 0.004054207873629298), (3060, 0.0040506752487125585), (1889, 0.0040457037766358775), (2685, 0.004044182188312499), (2041, 0.004041370183266185), (2586, 0.004037549296113927), (2889, 0.00403736872588993), (4214, 0.004036409619417181), (1473, 0.004036289798050316), (945, 0.004035006841408498), (1879, 0.004031487214706013), (3676, 0.0040270033281753015), (630, 0.0040264405735354145), (3119, 0.004020770172189891), (1741, 0.004017189314147979), (4300, 0.004016096000761128), (4609, 0.0040123406197325245), (4617, 0.004011214308998859), (2994, 0.004010782583654737), (2449, 0.004010755029144221), (2153, 0.0040067284236674746), (4704, 0.00400663033997125), (3052, 0.004005965900455809), (494, 0.00400324002813249), (1388, 0.004002299014739409), (4184, 0.004001209023729524), (1906, 0.003998466265556266), (943, 0.00399450022068054), (3055, 0.0039908595160083596), (4195, 0.003982525890747666), (849, 0.003982318914188252), (931, 0.003982196282679313), (2046, 0.0039799798147614794), (4291, 0.003979360990688292), (965, 0.0039762331895497344), (3561, 0.00397577501807102), (3805, 0.003973358279162372), (4592, 0.00397260756342584), (3106, 0.003972328952576319), (4675, 0.003969965055919036), (1517, 0.0039674276857137045), (1022, 0.00396672147949446), (1444, 0.003965300511998142), (3635, 0.003965234869223888), (525, 0.003963612566076636), (2336, 0.003962580457280618), (1196, 0.003958935696793295), (947, 0.0039562085749232905), (3545, 0.003955325548363492), (1834, 0.003950547995962968), (1837, 0.0039458355923154), (1198, 0.003944566397887854), (50, 0.003935346037522591), (2435, 0.0039350207987993045), (1028, 0.003932931368871464), (4529, 0.003932350550480684), (3073, 0.003931685574847724), (3350, 0.003931337052666823), (1447, 0.003930522286083415), (2484, 0.003921418653531905), (2310, 0.003921294976439296), (2128, 0.003918635550912749), (3090, 0.00391861075296167), (1330, 0.003911827686281106), (2639, 0.00390980977808648), (4611, 0.003909237212476114), (2329, 0.003908658053683345), (2694, 0.003906716438932969), (3939, 0.0039062176179398005), (459, 0.003904006528857728), (1842, 0.003898966233970838), (2763, 0.0038916952442870634), (2504, 0.003890719235925079), (4112, 0.0038896819856587654), (4234, 0.0038874431999567994), (2861, 0.00388742836891787), (2655, 0.0038866800957077256), (3836, 0.0038863972768623514), (217, 0.0038840697127262643), (2932, 0.003877697534961206), (4172, 0.003877272817564939), (503, 0.003876419288892793), (3286, 0.0038689053024455067), (662, 0.0038636709968580497), (1373, 0.0038606109479571277), (3127, 0.003859990151353824), (2150, 0.003858953410371136), (339, 0.003856283292895611), (3366, 0.003848587522931702), (1113, 0.0038469166249122362), (546, 0.0038448454322474327), (1368, 0.0038448348925542333), (4696, 0.0038422721606279297), (4444, 0.0038418699058365164), (2628, 0.0038393456279903126), (3076, 0.0038382798591299096), (1900, 0.0038365684271091235), (4407, 0.0038362408813767956), (585, 0.003833473413733105), (720, 0.0038326098880982814), (2448, 0.0038302165232343395), (2392, 0.0038293626203924945), (1125, 0.0038293286172427503), (3292, 0.003828593483224375), (3762, 0.003820892381829627), (2829, 0.003817897894453082), (367, 0.0038174872736268578), (4434, 0.003817359695438797), (1912, 0.003815229542361305), (3595, 0.0038126671568), (1490, 0.003807448496956575), (1839, 0.003805504795346252), (3824, 0.00380339260774596), (4423, 0.0038030974224823643), (2620, 0.0038025541922836587), (4019, 0.003801923797888995), (2425, 0.0038010780075521714), (2050, 0.0037997518045224323), (498, 0.0037990349467261274), (2962, 0.003792089955766084), (4546, 0.003791011705099519), (2787, 0.0037892186312686125), (2631, 0.003784309713012338), (2255, 0.003783867394163993), (45, 0.0037820062899946503), (1487, 0.003778189185692562), (53, 0.003776097201866194), (4037, 0.003775016193977016), (3712, 0.00377472876162825), (3322, 0.00377461267389056), (2645, 0.0037744363310391327), (3262, 0.0037737192450453304), (2271, 0.0037712574727506573), (4071, 0.0037704630545165258), (2350, 0.003768695686749369), (2901, 0.0037655121576110214), (4230, 0.0037578777102619345), (1895, 0.003753896089623425), (1139, 0.003748169315820217), (2286, 0.00374805846993689), (1824, 0.003745785292037637), (1914, 0.003745146472984396), (2179, 0.0037435447953244813), (3320, 0.0037427440715292887), (2215, 0.0037403904798136776), (311, 0.003740311855769408), (4400, 0.0037387223025180704), (4690, 0.003737091576453367), (1709, 0.003735740417234553), (1855, 0.0037272851173172587), (1898, 0.0037261543221214764), (3848, 0.0037208728461297935), (2327, 0.00371534323187876), (4606, 0.0037129785389581047), (1673, 0.00370981944963413), (2590, 0.0037095928568881735), (3828, 0.003709168096060399), (2071, 0.0037072274405521256), (4710, 0.0037071887124525043), (2450, 0.003704464394598726), (3543, 0.0037043743188385943), (417, 0.003701499780134445), (2272, 0.0037014162549627097), (3128, 0.003697030462542669), (1152, 0.003694446685792395), (3354, 0.0036924930092709475), (1291, 0.003691251856029951), (526, 0.003688008215428968), (3321, 0.003687092023029244), (770, 0.0036806470298033633), (2445, 0.0036677260274080065), (4469, 0.0036644057362484606), (3687, 0.0036631572076335672), (3923, 0.0036615387140341384), (4692, 0.0036609929899144127), (4521, 0.0036607389644181983), (4577, 0.003658898677953245), (4544, 0.0036586792621565584), (920, 0.0036582466088151857), (1987, 0.003657909600622603), (3638, 0.0036565960133408204), (1331, 0.003652516741850115), (4612, 0.0036511191603855906), (2225, 0.0036499355535372503), (2207, 0.0036482569686141155), (1794, 0.0036463535124518004), (2125, 0.003644580411301907), (4242, 0.0036435559666788066), (338, 0.003635666616753025), (3159, 0.003629840483090626), (2033, 0.003624744914811437), (3197, 0.003621541824726819), (4107, 0.0036214485019121804), (3613, 0.0036174739546746748), (4724, 0.0036153401601723397), (3521, 0.00361313030128561), (2063, 0.003612718252177744), (2424, 0.0036119674341155506), (4109, 0.0036056890135437946), (1093, 0.003601698749590653), (4572, 0.0035994643146123125), (4298, 0.003598060514344702), (4209, 0.003593856286230172), (4443, 0.0035928039609845665), (2262, 0.0035900785213566974), (3874, 0.0035863954818352315), (4723, 0.003585898029981541), (3031, 0.003582630249800514), (2514, 0.0035801494739732933), (3123, 0.003577354930809901), (2879, 0.0035717537439607814), (3620, 0.0035713078603114524), (3633, 0.003568944707133008), (2389, 0.0035545654498050595), (1593, 0.0035542473222475207), (2833, 0.003552024715740192), (383, 0.0035515309452353594), (4237, 0.003547716142857882), (2778, 0.003546325364982305), (3082, 0.003544226440992647), (3779, 0.003541512335660229), (3485, 0.003541079749387022), (1694, 0.00353808706720306), (2993, 0.003537479587163255), (3901, 0.003537016327216547), (1652, 0.003534661449525128), (2366, 0.0035339837310227654), (1264, 0.003532835685560444), (3861, 0.0035285716682311266), (91, 0.003527860776748127), (777, 0.0035249560204311465), (1168, 0.0035218494882217517), (4358, 0.0035158427648161097), (836, 0.003513035148917126), (2895, 0.003510533196875455), (3911, 0.003504508468526638), (912, 0.0035041030009158977), (1213, 0.0035005310514935953), (3766, 0.003497514195441674), (3411, 0.0034961918618756785), (3675, 0.003496081681431864), (4701, 0.0034954727790426515), (2433, 0.003489652960357418), (4637, 0.0034801188580960455), (4490, 0.0034781344921094586), (4280, 0.0034758236974641488), (2059, 0.0034754159284921897), (2772, 0.0034741807579391484), (862, 0.003471605655076081), (2971, 0.0034673414106846465), (4353, 0.0034606398301082818), (3684, 0.0034583724410504877), (3935, 0.0034559223495696082), (3081, 0.0034515620634333866), (73, 0.003449981873561127), (4584, 0.0034479900846321227), (2089, 0.0034462266703139937), (4694, 0.0034460119697003583), (2406, 0.0034449869739563844), (1968, 0.0034442424902495134), (2707, 0.0034421609506382765), (1521, 0.003441662683103443), (4426, 0.0034383837351784187), (518, 0.00343826475170243), (1212, 0.0034377711040810004), (1748, 0.0034337621928365184), (4030, 0.003432794510732832), (3275, 0.003427903971023297), (937, 0.0034265219861619634), (4477, 0.003426405579879023), (1323, 0.0034238302908798186), (3540, 0.003420704618877912), (1547, 0.0034158630511205764), (3019, 0.0034142028236029726), (4126, 0.003412782996564447), (3307, 0.003406793475747077), (2427, 0.003406708268286156), (3450, 0.0034062043135004963), (1070, 0.003405930778256339), (4163, 0.0034002947874511164), (3729, 0.0033989096763850524), (3230, 0.0033859394246071152), (2987, 0.0033858591491167764), (1275, 0.0033840759258719527), (3396, 0.0033828891710305257), (2204, 0.0033780654620752704), (3355, 0.0033741444645855566), (1300, 0.0033695663378863574), (3674, 0.0033637966307145093), (721, 0.0033604216184674723), (3481, 0.0033537901616894463), (3658, 0.0033485804482494145), (876, 0.003347592802066789), (2296, 0.0033474863614001843), (4753, 0.0033442590475164357), (3883, 0.003343106872696584), (1222, 0.00334059976822983), (2437, 0.0033289251605513734), (107, 0.0033263306684860987), (3186, 0.003325453398068277), (1887, 0.0033236141474355854), (2373, 0.003323304367212445), (964, 0.0033220349598118877), (2623, 0.003320201735843022), (478, 0.0033192347885737756), (4092, 0.0033189917395630678), (2400, 0.0033172069740960816), (3680, 0.003316478601244027), (281, 0.0033108873583917657), (1383, 0.003310682809857596), (3587, 0.003303766095379523), (419, 0.0033031591855107404), (4368, 0.0033007728469060297), (533, 0.0032987170931490987), (2508, 0.003298474918561347), (2770, 0.003295290331417658), (4160, 0.0032882767585043116), (3012, 0.0032881658790443902), (2025, 0.003287239721064271), (2916, 0.0032851160103107555), (1862, 0.0032846704472956918), (1499, 0.0032831049863380098), (3032, 0.0032828120788383408), (4535, 0.0032826484651904595), (436, 0.0032813539446199013), (2356, 0.0032785974532111364), (3593, 0.0032739411316317205), (701, 0.0032738701006186826), (458, 0.003272489053835341), (2840, 0.0032710553698490625), (1474, 0.0032707468177672876), (729, 0.0032704564945364523), (319, 0.0032651385379812866), (4397, 0.0032640456695141196), (41, 0.003263440870870184), (4593, 0.0032612353237867916), (1498, 0.0032605942669265545), (888, 0.0032504807580004623), (2018, 0.0032503555059454443), (366, 0.003249748350534542), (1960, 0.0032472246285728435), (4042, 0.003239279997834671), (2176, 0.003237626944390337), (3961, 0.0032371450382553497), (2428, 0.0032366492387744723), (1580, 0.0032362866289748953), (4619, 0.0032359129874328517), (254, 0.0032326004284501976), (48, 0.003231559537325373), (1754, 0.00323079790687724), (3924, 0.003223961373505252), (3677, 0.0032193358478290425), (4602, 0.00321781425223057), (4048, 0.003210701869810333), (123, 0.0032087612852489634), (2229, 0.0032051127009118433), (2364, 0.0032039761012928195), (896, 0.003203922585768455), (1115, 0.00320198457382828), (675, 0.003198376822771386), (3749, 0.003197779717123656), (4116, 0.003197470945994711), (4519, 0.0031969721890339193), (2293, 0.0031968666282980287), (1805, 0.0031953922402267556), (4669, 0.0031942645442156583), (3064, 0.0031912913978805343), (3516, 0.003189677216516737), (2214, 0.003188819642725537), (4528, 0.0031850754811994166), (1586, 0.003183638116520793), (2595, 0.0031810542835509488), (3642, 0.0031803499507769436), (1325, 0.0031788596950955094), (2888, 0.003176964360864645), (3771, 0.0031766412673724536), (3694, 0.003174016170235076), (4545, 0.0031738001188198832), (3269, 0.003172491969498178), (1874, 0.003169564215201967), (3704, 0.00316939189308095), (2734, 0.0031672515116457503), (3757, 0.003163702030388841), (2377, 0.0031633234248805877), (728, 0.00316326938231655), (4579, 0.0031612442932556265), (210, 0.0031608739152982645), (3692, 0.0031578145637554678), (430, 0.003156705237811382), (4161, 0.003155164888234351), (3112, 0.003153723621221497), (1995, 0.003153639684196854), (4540, 0.003151344150144999), (4245, 0.0031510852167017543), (991, 0.003148197296358856), (4269, 0.0031458733351433636), (2723, 0.0031454143241042786), (4574, 0.003140263409925569), (2725, 0.0031365808919557115), (4431, 0.0031365039461726477), (21, 0.0031363459402326747), (3873, 0.00313604253220073), (4680, 0.003135785424540256), (3007, 0.0031331911505934535), (12, 0.003131933653928668), (1119, 0.003131303809963988), (1071, 0.0031298008210592664), (4231, 0.0031285664837374374), (1320, 0.003128190341080631), (826, 0.003127857093273688), (2522, 0.0031257491702916104), (3987, 0.003123690276585918), (792, 0.003119751804577447), (3590, 0.003115417979222149), (1896, 0.0031113269370446075), (206, 0.003111115095835158), (2361, 0.0031108731031168307), (68, 0.0031104362486933093), (1687, 0.003109603664148221), (3618, 0.0031087805738975504), (4505, 0.00310441166849522), (2714, 0.0031039379406779923), (2288, 0.0031021869174692606), (2849, 0.0031005822712801005), (4123, 0.0030967099350926374), (1225, 0.0030939871687530734), (1670, 0.0030868521861073823), (1570, 0.0030843957494751883), (421, 0.003081910685614609), (2419, 0.0030812570214757257), (262, 0.0030810468223324357), (3372, 0.0030801851687135523), (1643, 0.003079070840220117), (4225, 0.0030786961000211087), (716, 0.003075492875425867), (4624, 0.0030754298705204164), (429, 0.003073704016790225), (4363, 0.0030717314658241608), (1439, 0.003070808482870143), (4430, 0.0030706689002670136), (4497, 0.003070552653419482), (1736, 0.0030702797356988495), (2083, 0.0030692693135902583), (4354, 0.003068072159913685), (20, 0.003067656988323905), (3770, 0.00306693302301943), (580, 0.0030647081669865585), (837, 0.0030632551960275154), (3862, 0.0030630529039406664), (4083, 0.00306192774766435), (1229, 0.003061878566262134), (3574, 0.0030605399158344132), (4629, 0.0030595199960258127), (4419, 0.00305749786516125), (2370, 0.003055524746832071), (1083, 0.0030515066639543215), (4361, 0.003051324397428308), (369, 0.003049779288218131), (3778, 0.0030464082816331088), (3666, 0.0030452126540466166), (987, 0.0030419919028844295), (4379, 0.0030387098839693154), (3920, 0.003037854078076273), (3959, 0.003037657179567266), (11, 0.0030370815913783036), (584, 0.0030346827973696125), (3527, 0.0030316652732620504), (4334, 0.003031253253608827), (980, 0.003031174737968076), (2919, 0.0030297862124786974), (4249, 0.003026087688036743), (3623, 0.003025480090895749), (2126, 0.003024608778339182), (3636, 0.003022419690087197), (3153, 0.003020067110879369), (3233, 0.003017194700494822), (4643, 0.003016820712587149), (743, 0.00301376986030608), (176, 0.0030136231583390944), (2321, 0.0030132241277405192), (2466, 0.0030119922461334164), (1294, 0.0030107746853173987), (1334, 0.0030107260764258045), (4563, 0.0030074232983088966), (3445, 0.0030036128657089383), (1355, 0.0030033864504616994), (1174, 0.0029982520635148968), (2784, 0.0029977074981061883), (1176, 0.0029937587491520702), (593, 0.0029914119534668127), (3653, 0.0029896471677662447), (2073, 0.0029890607066536306), (3707, 0.002984973124137707), (2210, 0.0029819115508220766), (3501, 0.002981217198316421), (994, 0.002980481854270352), (4068, 0.002979559782265593), (2295, 0.0029794775896698827), (544, 0.0029762279429452476), (2374, 0.0029723328802414377), (2061, 0.0029705357926158612), (2647, 0.0029704719933345692), (4014, 0.002967454761318965), (4677, 0.0029643198561967), (4391, 0.0029639302685254163), (1335, 0.0029620511386482273), (1922, 0.002960637330399553), (1574, 0.002959633223852211), (3210, 0.002958331229267524), (3670, 0.0029579215917336877), (4503, 0.002957862503901781), (628, 0.002956963524680789), (2934, 0.0029542162690972466), (3436, 0.002951704938453811), (2783, 0.0029515344416977955), (4604, 0.002948690110807863), (2826, 0.0029485088533272256), (3125, 0.0029473348342922948), (4435, 0.0029468400406216203), (1191, 0.0029444150720992052), (3491, 0.002944362357164307), (1223, 0.002944192155096689), (172, 0.002942147994548732), (3341, 0.002941061332032017), (4715, 0.0029404146814242748), (4640, 0.0029382723217402803), (2695, 0.002936466232704907), (749, 0.002934611398686271), (4330, 0.0029344838962691733), (761, 0.0029332839098674445), (3478, 0.002932855170594131), (1179, 0.0029324416120878657), (986, 0.0029306095775345534), (1163, 0.002927679190528537), (66, 0.002927127442818044), (3174, 0.002925018408323953), (4016, 0.0029247737273891063), (2900, 0.0029235218914772224), (4268, 0.002921003399883814), (2289, 0.0029125389935395637), (1102, 0.00291079342696578), (3374, 0.002910621118068697), (1483, 0.002910100188487248), (4000, 0.002909077457474406), (3441, 0.0029087596605842903), (3727, 0.002907892892087549), (400, 0.0029059205428090575), (1252, 0.002905757838654479), (3624, 0.0029056712593692954), (894, 0.0029052974326825754), (1072, 0.002904849307168563), (4228, 0.002897496721478217), (534, 0.002896666729331146), (1621, 0.0028912665917210146), (4668, 0.0028898404033857114), (4487, 0.002889475884560137), (2173, 0.0028880162565388446), (2961, 0.002886857662040187), (3093, 0.002886333864782759), (2946, 0.002886300013894603), (3195, 0.0028862013348209875), (3647, 0.002885545630114689), (727, 0.0028814676659498313), (4284, 0.0028776701300407583), (3557, 0.0028760289561602236), (3827, 0.002875589350707947), (3379, 0.0028753889267291227), (2216, 0.0028743488243720356), (98, 0.0028718227400680602), (4362, 0.002871710212148549), (1527, 0.0028702966695487073), (26, 0.0028696377939074094), (1617, 0.002863226394797789), (3719, 0.0028626242577169097), (2909, 0.002860356445285828), (799, 0.0028590799151198987), (2401, 0.002850336714627055), (1035, 0.002849189504447422), (4693, 0.0028488854173738943), (1813, 0.0028473464206290305), (4550, 0.00284321964666312), (4573, 0.002843150137393279), (1044, 0.002841112446265075), (4673, 0.0028406006389141178), (4129, 0.0028387916044116026), (1481, 0.002838595207959658), (4472, 0.002835044653818749), (3028, 0.0028341504761033583), (2080, 0.002833658485207112), (4069, 0.002832817303669902), (3660, 0.0028282475157371738), (4461, 0.0028234186699414394), (646, 0.002820380976208282), (3900, 0.0028202030203684568), (3487, 0.0028198371674979785), (396, 0.002818367511142211), (4729, 0.0028171559113571603), (2117, 0.0028132272594855634), (4670, 0.0028093835468287307), (2024, 0.002808481555705851), (487, 0.0028075524022848483), (1416, 0.0028026684803999524), (4614, 0.002801391495006236), (798, 0.0027988187391294037), (2540, 0.0027952312771918797), (1001, 0.002795229870702155), (3390, 0.00279438429867672), (4085, 0.002791410354263964), (3171, 0.0027898497721584236), (3036, 0.002788382349358903), (1123, 0.0027873512849068897), (1160, 0.002783758431511037), (2224, 0.0027830013803356694), (767, 0.002782110719933798), (4345, 0.0027819369384385517), (3799, 0.002780106377278767), (2679, 0.0027752602686779222), (2651, 0.0027748209843384266), (1742, 0.0027730974753806315), (1404, 0.002772322450553138), (2997, 0.0027720837958324003), (2800, 0.002770900577358463), (828, 0.002770507678150155), (1032, 0.002770094832047081), (3819, 0.0027691612643672638), (3734, 0.0027661864909406426), (1036, 0.002766111213606708), (387, 0.0027660216682610993), (2023, 0.0027618484221346197), (3615, 0.0027618342003962668), (2525, 0.002761698293461926), (140, 0.0027472838892551054), (1665, 0.0027460515765177847), (2496, 0.0027427262196922054), (1620, 0.002742380783248649), (1884, 0.002741241881046474), (2634, 0.0027404041246014066), (4634, 0.0027366713505090367), (3452, 0.0027348211906660018), (229, 0.002734274945491235), (2862, 0.002733260006908983), (372, 0.002732664911917613), (3725, 0.002730827144547304), (1555, 0.0027302672202007775), (1433, 0.0027285477775912804), (935, 0.002727919531217678), (3342, 0.002723393145177584), (1183, 0.0027222676952115693), (1641, 0.0027196907055513403), (2556, 0.0027195106928997745), (2317, 0.0027136744760228385), (3627, 0.0027136312629285246), (3854, 0.002712144020168367), (4402, 0.0027119135011805288), (1760, 0.002711607636969665), (4616, 0.002709232067233252), (2735, 0.002707896740358959), (2593, 0.0027059036339374615), (558, 0.002704432072977042), (590, 0.0027030996270865264), (1667, 0.0027029347563289033), (1357, 0.0027027580878807157), (1814, 0.0027004279688874603), (2674, 0.0026997606374887404), (3455, 0.0026929267102117935), (457, 0.0026917978461364926), (359, 0.002691491762087508), (4326, 0.0026888974381850256), (3306, 0.0026887811240190376), (4277, 0.002686357899215467), (1672, 0.0026848473803798203), (4620, 0.0026797008772036428), (3742, 0.0026789289781092218), (1434, 0.00267768342887441), (1796, 0.0026759517931443555), (4638, 0.002675348740071711), (1675, 0.0026718160834051418), (1360, 0.002669243050203083), (3953, 0.002668478371494461), (3278, 0.002666792068523715), (1892, 0.0026631605198923795), (1826, 0.0026520636660966254), (4154, 0.00265015947115136), (2031, 0.002646548695921421), (581, 0.0026429659686347112), (3974, 0.0026397356154196335), (3027, 0.002639152517591756), (3986, 0.0026388542002674232), (1000, 0.0026379199993954113), (1625, 0.002637253650876676), (1739, 0.0026370685285642833), (2248, 0.0026366929522335077), (3863, 0.0026354530987058133), (722, 0.0026352836683006028), (2065, 0.002634931104895288), (1808, 0.0026302719488776644), (3841, 0.002630131686841689), (4590, 0.002626196411135715), (917, 0.002625170718049983), (815, 0.002620190342536935), (2580, 0.0026191343165685777), (268, 0.002615812497672267), (4608, 0.0026026221592642994), (4343, 0.0025941525947728856), (495, 0.002593993336393014), (4679, 0.0025784385153291155), (1186, 0.00257521910024659), (97, 0.002573774433786345), (249, 0.002572093159269164), (4432, 0.0025670438562303156), (4296, 0.002554635703303862), (4429, 0.0025464723427921806), (2520, 0.002542433165708395), (3211, 0.0025393162172599585), (165, 0.0025353342053799264), (642, 0.0025332882763121553), (1828, 0.002530644474212789), (4386, 0.002529455095376856), (1450, 0.002527410442033493), (364, 0.002523144698165286), (3629, 0.002518770150972235), (2743, 0.0025145160961093653), (2382, 0.002512344271136336), (4476, 0.0025096435274506133), (3376, 0.0025044412538632157), (1691, 0.0025024775124208986), (432, 0.0024950248816614034), (1352, 0.0024912726413659336), (267, 0.002485420089964958), (617, 0.002476175352673997), (3657, 0.0024749867304064417), (196, 0.002463418579042996), (1801, 0.002463037483508177), (2127, 0.0024621081316149557), (3347, 0.002461580327796084), (3928, 0.0024498467539727136), (1042, 0.002449467783251335), (4733, 0.0024471316406240247), (3331, 0.002444795142479552), (3252, 0.0024438113612547897), (2602, 0.0024335295221143477), (442, 0.0024318385224162175), (4015, 0.0024193181306812186), (2034, 0.002416294808191529), (3548, 0.0024118224501436516), (1241, 0.002411028644167762), (1464, 0.0024024204494252624), (2526, 0.002399633007292354), (3756, 0.0023990133477721593), (645, 0.0023953795779945047), (1098, 0.002391565590067762), (942, 0.002384307507974143), (4626, 0.002371183782957485), (1303, 0.002364632964601702), (1989, 0.002355625044805266), (4674, 0.002355572529195501), (3431, 0.002355164098525258), (1886, 0.0023310913717989054), (3301, 0.0022966654726453914), (3199, 0.0022711767559228245), (571, 0.002261271684359563), (453, 0.0022426530352171064), (3645, 0.002210615439207783), (2636, 0.0022018750047322283), (4445, 0.0022017173622666244), (4301, 0.0021759439320851656), (7, 0.002106847524804603), (293, 0.002085334197800988), (3365, 0.0020682556762768862), (858, 0.0019802523995410457), (3608, 0.0019103096922544287), (2841, 0.0016381623106009693), (1, 0.0), (10, 0.0), (13, 0.0), (17, 0.0), (30, 0.0), (37, 0.0), (58, 0.0), (64, 0.0), (65, 0.0), (75, 0.0), (77, 0.0), (80, 0.0), (81, 0.0), (89, 0.0), (90, 0.0), (93, 0.0), (94, 0.0), (95, 0.0), (101, 0.0), (102, 0.0), (133, 0.0), (135, 0.0), (138, 0.0), (143, 0.0), (145, 0.0), (148, 0.0), (150, 0.0), (151, 0.0), (163, 0.0), (170, 0.0), (171, 0.0), (179, 0.0), (191, 0.0), (201, 0.0), (207, 0.0), (220, 0.0), (234, 0.0), (239, 0.0), (250, 0.0), (257, 0.0), (259, 0.0), (260, 0.0), (261, 0.0), (265, 0.0), (289, 0.0), (297, 0.0), (298, 0.0), (299, 0.0), (314, 0.0), (320, 0.0), (323, 0.0), (333, 0.0), (337, 0.0), (379, 0.0), (380, 0.0), (382, 0.0), (384, 0.0), (394, 0.0), (411, 0.0), (424, 0.0), (425, 0.0), (426, 0.0), (439, 0.0), (451, 0.0), (460, 0.0), (484, 0.0), (492, 0.0), (512, 0.0), (513, 0.0), (514, 0.0), (516, 0.0), (530, 0.0), (539, 0.0), (548, 0.0), (550, 0.0), (552, 0.0), (556, 0.0), (559, 0.0), (560, 0.0), (567, 0.0), (591, 0.0), (595, 0.0), (599, 0.0), (601, 0.0), (603, 0.0), (610, 0.0), (634, 0.0), (639, 0.0), (640, 0.0), (650, 0.0), (661, 0.0), (666, 0.0), (668, 0.0), (681, 0.0), (682, 0.0), (686, 0.0), (695, 0.0), (699, 0.0), (704, 0.0), (713, 0.0), (714, 0.0), (718, 0.0), (723, 0.0), (725, 0.0), (738, 0.0), (747, 0.0), (765, 0.0), (779, 0.0), (790, 0.0), (801, 0.0), (803, 0.0), (825, 0.0), (882, 0.0), (893, 0.0), (909, 0.0), (913, 0.0), (914, 0.0), (918, 0.0), (928, 0.0), (932, 0.0), (954, 0.0), (977, 0.0), (992, 0.0), (997, 0.0), (1011, 0.0), (1051, 0.0), (1055, 0.0), (1056, 0.0), (1063, 0.0), (1076, 0.0), (1092, 0.0), (1097, 0.0), (1104, 0.0), (1127, 0.0), (1137, 0.0), (1147, 0.0), (1151, 0.0), (1158, 0.0), (1164, 0.0), (1171, 0.0), (1181, 0.0), (1207, 0.0), (1210, 0.0), (1218, 0.0), (1233, 0.0), (1240, 0.0), (1258, 0.0), (1270, 0.0), (1276, 0.0), (1280, 0.0), (1283, 0.0), (1285, 0.0), (1287, 0.0), (1328, 0.0), (1343, 0.0), (1354, 0.0), (1358, 0.0), (1391, 0.0), (1395, 0.0), (1399, 0.0), (1406, 0.0), (1419, 0.0), (1426, 0.0), (1435, 0.0), (1449, 0.0), (1466, 0.0), (1470, 0.0), (1502, 0.0), (1522, 0.0), (1529, 0.0), (1531, 0.0), (1540, 0.0), (1546, 0.0), (1548, 0.0), (1554, 0.0), (1556, 0.0), (1568, 0.0), (1573, 0.0), (1581, 0.0), (1584, 0.0), (1588, 0.0), (1590, 0.0), (1591, 0.0), (1623, 0.0), (1630, 0.0), (1633, 0.0), (1635, 0.0), (1636, 0.0), (1649, 0.0), (1651, 0.0), (1657, 0.0), (1659, 0.0), (1674, 0.0), (1705, 0.0), (1725, 0.0), (1728, 0.0), (1745, 0.0), (1749, 0.0), (1753, 0.0), (1755, 0.0), (1800, 0.0), (1810, 0.0), (1815, 0.0), (1817, 0.0), (1823, 0.0), (1832, 0.0), (1835, 0.0), (1840, 0.0), (1846, 0.0), (1857, 0.0), (1859, 0.0), (1927, 0.0), (1933, 0.0), (1937, 0.0), (1940, 0.0), (1952, 0.0), (1958, 0.0), (1962, 0.0), (1966, 0.0), (1972, 0.0), (1975, 0.0), (1976, 0.0), (1998, 0.0), (2015, 0.0), (2017, 0.0), (2028, 0.0), (2030, 0.0), (2038, 0.0), (2054, 0.0), (2066, 0.0), (2084, 0.0), (2115, 0.0), (2130, 0.0), (2135, 0.0), (2136, 0.0), (2165, 0.0), (2172, 0.0), (2181, 0.0), (2182, 0.0), (2184, 0.0), (2220, 0.0), (2231, 0.0), (2232, 0.0), (2233, 0.0), (2238, 0.0), (2243, 0.0), (2245, 0.0), (2246, 0.0), (2247, 0.0), (2252, 0.0), (2259, 0.0), (2267, 0.0), (2273, 0.0), (2275, 0.0), (2278, 0.0), (2283, 0.0), (2316, 0.0), (2326, 0.0), (2332, 0.0), (2337, 0.0), (2341, 0.0), (2342, 0.0), (2343, 0.0), (2345, 0.0), (2358, 0.0), (2365, 0.0), (2372, 0.0), (2398, 0.0), (2413, 0.0), (2414, 0.0), (2432, 0.0), (2442, 0.0), (2451, 0.0), (2462, 0.0), (2470, 0.0), (2476, 0.0), (2498, 0.0), (2501, 0.0), (2506, 0.0), (2521, 0.0), (2532, 0.0), (2541, 0.0), (2544, 0.0), (2549, 0.0), (2567, 0.0), (2577, 0.0), (2599, 0.0), (2630, 0.0), (2658, 0.0), (2682, 0.0), (2683, 0.0), (2686, 0.0), (2700, 0.0), (2710, 0.0), (2713, 0.0), (2717, 0.0), (2718, 0.0), (2719, 0.0), (2733, 0.0), (2773, 0.0), (2780, 0.0), (2788, 0.0), (2815, 0.0), (2828, 0.0), (2837, 0.0), (2839, 0.0), (2847, 0.0), (2851, 0.0), (2864, 0.0), (2865, 0.0), (2869, 0.0), (2871, 0.0), (2885, 0.0), (2898, 0.0), (2905, 0.0), (2906, 0.0), (2927, 0.0), (2938, 0.0), (2947, 0.0), (2952, 0.0), (2955, 0.0), (2956, 0.0), (2984, 0.0), (2991, 0.0), (3021, 0.0), (3025, 0.0), (3029, 0.0), (3047, 0.0), (3048, 0.0), (3049, 0.0), (3053, 0.0), (3058, 0.0), (3059, 0.0), (3079, 0.0), (3099, 0.0), (3107, 0.0), (3110, 0.0), (3118, 0.0), (3124, 0.0), (3126, 0.0), (3130, 0.0), (3131, 0.0), (3132, 0.0), (3134, 0.0), (3136, 0.0), (3138, 0.0), (3145, 0.0), (3156, 0.0), (3160, 0.0), (3163, 0.0), (3176, 0.0), (3185, 0.0), (3191, 0.0), (3193, 0.0), (3223, 0.0), (3247, 0.0), (3251, 0.0), (3255, 0.0), (3261, 0.0), (3263, 0.0), (3305, 0.0), (3312, 0.0), (3338, 0.0), (3340, 0.0), (3345, 0.0), (3356, 0.0), (3361, 0.0), (3367, 0.0), (3385, 0.0), (3398, 0.0), (3401, 0.0), (3405, 0.0), (3427, 0.0), (3429, 0.0), (3454, 0.0), (3459, 0.0), (3467, 0.0), (3468, 0.0), (3472, 0.0), (3473, 0.0), (3480, 0.0), (3482, 0.0), (3484, 0.0), (3486, 0.0), (3488, 0.0), (3502, 0.0), (3505, 0.0), (3507, 0.0), (3522, 0.0), (3525, 0.0), (3530, 0.0), (3532, 0.0), (3535, 0.0), (3547, 0.0), (3550, 0.0), (3555, 0.0), (3567, 0.0), (3568, 0.0), (3573, 0.0), (3578, 0.0), (3586, 0.0), (3605, 0.0), (3607, 0.0), (3617, 0.0), (3619, 0.0), (3625, 0.0), (3631, 0.0), (3663, 0.0), (3664, 0.0), (3679, 0.0), (3690, 0.0), (3693, 0.0), (3700, 0.0), (3702, 0.0), (3703, 0.0), (3709, 0.0), (3710, 0.0), (3717, 0.0), (3718, 0.0), (3720, 0.0), (3723, 0.0), (3724, 0.0), (3726, 0.0), (3743, 0.0), (3744, 0.0), (3750, 0.0), (3760, 0.0), (3769, 0.0), (3773, 0.0), (3775, 0.0), (3776, 0.0), (3786, 0.0), (3787, 0.0), (3788, 0.0), (3793, 0.0), (3810, 0.0), (3816, 0.0), (3817, 0.0), (3831, 0.0), (3838, 0.0), (3846, 0.0), (3850, 0.0), (3871, 0.0), (3887, 0.0), (3908, 0.0), (3918, 0.0), (3942, 0.0), (3944, 0.0), (3947, 0.0), (3955, 0.0), (3963, 0.0), (3966, 0.0), (3970, 0.0), (3972, 0.0), (3975, 0.0), (3977, 0.0), (3979, 0.0), (3981, 0.0), (3982, 0.0), (3989, 0.0), (3991, 0.0), (3993, 0.0), (3994, 0.0), (3995, 0.0), (4021, 0.0), (4039, 0.0), (4041, 0.0), (4044, 0.0), (4065, 0.0), (4070, 0.0), (4072, 0.0), (4076, 0.0), (4088, 0.0), (4091, 0.0), (4096, 0.0), (4100, 0.0), (4114, 0.0), (4128, 0.0), (4157, 0.0), (4162, 0.0), (4167, 0.0), (4168, 0.0), (4170, 0.0), (4179, 0.0), (4185, 0.0), (4201, 0.0), (4211, 0.0), (4212, 0.0), (4215, 0.0), (4224, 0.0), (4227, 0.0), (4238, 0.0), (4248, 0.0), (4250, 0.0), (4251, 0.0), (4253, 0.0), (4261, 0.0), (4265, 0.0), (4271, 0.0), (4276, 0.0), (4278, 0.0), (4279, 0.0), (4290, 0.0), (4302, 0.0), (4310, 0.0), (4312, 0.0), (4313, 0.0), (4316, 0.0), (4328, 0.0), (4331, 0.0), (4339, 0.0), (4375, 0.0), (4377, 0.0), (4380, 0.0), (4383, 0.0), (4389, 0.0), (4390, 0.0), (4392, 0.0), (4406, 0.0), (4414, 0.0), (4424, 0.0), (4425, 0.0), (4439, 0.0), (4449, 0.0), (4450, 0.0), (4455, 0.0), (4456, 0.0), (4464, 0.0), (4478, 0.0), (4481, 0.0), (4491, 0.0), (4493, 0.0), (4499, 0.0), (4508, 0.0), (4512, 0.0), (4513, 0.0), (4525, 0.0), (4527, 0.0), (4532, 0.0), (4538, 0.0), (4541, 0.0), (4543, 0.0), (4553, 0.0), (4561, 0.0), (4565, 0.0), (4568, 0.0), (4569, 0.0), (4578, 0.0), (4585, 0.0), (4588, 0.0), (4613, 0.0), (4618, 0.0), (4621, 0.0), (4630, 0.0), (4635, 0.0), (4642, 0.0), (4644, 0.0), (4645, 0.0), (4646, 0.0), (4651, 0.0), (4654, 0.0), (4666, 0.0), (4671, 0.0), (4672, 0.0), (4676, 0.0), (4681, 0.0), (4689, 0.0), (4691, 0.0), (4698, 0.0), (4708, 0.0), (4709, 0.0), (4714, 0.0), (4716, 0.0), (4727, 0.0), (4728, 0.0), (4730, 0.0), (4736, 0.0), (4742, 0.0), (4745, 0.0), (4747, 0.0), (4750, 0.0), (4751, 0.0), (4754, 0.0), (4755, 0.0), (4758, 0.0), (4759, 0.0)]\n"
          ]
        }
      ]
    },
    {
      "cell_type": "code",
      "source": [
        "print('Top 30 Movies suggested for you:\\n')\n",
        "i=1\n",
        "for movie in sorted_similar_movies:\n",
        "  index=movie[0]\n",
        "  title_from_index=df[df.index==index]['Movie_Title'].values[0]\n",
        "  if(i<31):\n",
        "    print(i,'.',title_from_index)\n",
        "    i+=1"
      ],
      "metadata": {
        "colab": {
          "base_uri": "https://localhost:8080/"
        },
        "id": "0lQ1g0qwcJJN",
        "outputId": "4f621cc8-f637-4930-e877-84e349765f33"
      },
      "execution_count": 36,
      "outputs": [
        {
          "output_type": "stream",
          "name": "stdout",
          "text": [
            "Top 30 Movies suggested for you:\n",
            "\n",
            "1 . Chasing Amy\n",
            "2 . Zack and Miri Make a Porno\n",
            "3 . Jay and Silent Bob Strike Back\n",
            "4 . Dogma\n",
            "5 . Come Early Morning\n",
            "6 . Clerks II\n",
            "7 . Clerks\n",
            "8 . My Best Friend's Wedding\n",
            "9 . Vicky Cristina Barcelona\n",
            "10 . Mallrats\n",
            "11 . How Do You Know\n",
            "12 . Spy Game\n",
            "13 . Down to You\n",
            "14 . Hancock\n",
            "15 . Trucker\n",
            "16 . Big Eyes\n",
            "17 . In & Out\n",
            "18 . Autumn in New York\n",
            "19 . State of Play\n",
            "20 . 200 Cigarettes\n",
            "21 . Jersey Girl\n",
            "22 . My Own Private Idaho\n",
            "23 . About Last Night\n",
            "24 . Big Daddy\n",
            "25 . Accidental Love\n",
            "26 . The Break-Up\n",
            "27 . Iris\n",
            "28 . Made of Honor\n",
            "29 . Almost Famous\n",
            "30 . Extract\n"
          ]
        }
      ]
    },
    {
      "cell_type": "code",
      "source": [
        "Movie_name=input('enter your favourite movie name:')\n",
        "list_of_all_titles=df['Movie_Title'].tolist()\n",
        "find_close_match=difflib.get_close_matches(Movie_name,list_of_all_titles)\n",
        "close_match=find_close_match[0]\n",
        "index_of_the_movie=df[df.Movie_Title==close_match]['Movie_ID'].values[0]\n",
        "recommendation_score=list(enumerate(similarity_score[index_of_the_movie]))\n",
        "sorted_similar_movies=sorted(recommendation_score,key=lambda x:x[1],reverse=True)\n",
        "print('Top 10 Movies suggested for you:\\n')\n",
        "i=1\n",
        "for movie in sorted_similar_movies:\n",
        "  index=movie[0]\n",
        "  title_from_index=df[df.Movie_ID==index]['Movie_Title'].values\n",
        "  if(i<11):\n",
        "    print(i,'.',title_from_index)\n",
        "    i+=1"
      ],
      "metadata": {
        "colab": {
          "base_uri": "https://localhost:8080/"
        },
        "id": "OymtZmlOcMLu",
        "outputId": "fb613c92-9505-48d8-aff4-093f4e4f7d88"
      },
      "execution_count": 37,
      "outputs": [
        {
          "output_type": "stream",
          "name": "stdout",
          "text": [
            "enter your favourite movie name:kalki\n",
            "Top 10 Movies suggested for you:\n",
            "\n",
            "1 . ['Valkyrie']\n",
            "2 . ['Volcano']\n",
            "3 . ['Mallrats']\n",
            "4 . ['The Next Best Thing']\n",
            "5 . ['Over the Hedge']\n",
            "6 . ['Jay and Silent Bob Strike Back']\n",
            "7 . ['Jakob the Liar']\n",
            "8 . [\"Wayne's World\"]\n",
            "9 . ['Wonderland']\n",
            "10 . ['Clerks']\n"
          ]
        }
      ]
    },
    {
      "cell_type": "code",
      "source": [],
      "metadata": {
        "id": "cremiEHIcP66"
      },
      "execution_count": null,
      "outputs": []
    }
  ]
}